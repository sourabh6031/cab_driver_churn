{
 "cells": [
  {
   "cell_type": "markdown",
   "id": "ac411eb4",
   "metadata": {},
   "source": [
    "### Problem Statement"
   ]
  },
  {
   "cell_type": "markdown",
   "id": "5968668c",
   "metadata": {},
   "source": [
    "Recruiting and retaining drivers is seen by industry watchers as a tough battle for cab company. Churn among drivers is high and it’s very easy for drivers to stop working for the service on the fly or jump to Uber depending on the rates.\n",
    "\n",
    "As the companies get bigger, the high churn could become a bigger problem. To find new drivers, the company is casting a wide net, including people who don’t have cars for jobs. But this acquisition is really costly. Losing drivers frequently impacts the morale of the organization and acquiring new drivers is more expensive than retaining existing ones.\n",
    "\n",
    "Provided with the monthly information for a segment of drivers for 2019 and 2020 and tasked to predict whether a driver will be leaving the company or not based on their attributes like\n",
    "\n",
    "Demographics (city, age, gender etc.)\n",
    "Tenure information (joining date, Last Date)\n",
    "Historical data regarding the performance of the driver (Quarterly rating, Monthly business acquired, grade, Income)"
   ]
  },
  {
   "cell_type": "code",
   "execution_count": null,
   "id": "4bf81478",
   "metadata": {},
   "outputs": [],
   "source": []
  },
  {
   "cell_type": "markdown",
   "id": "33a1b15e",
   "metadata": {},
   "source": [
    "#### Necessary Liabrary"
   ]
  },
  {
   "cell_type": "code",
   "execution_count": 1,
   "id": "b4952f5a",
   "metadata": {},
   "outputs": [],
   "source": [
    "import pandas as pd\n",
    "import numpy as np\n",
    "import seaborn as sns\n",
    "import matplotlib.pyplot as plt\n",
    "\n",
    "import warnings\n",
    "warnings.filterwarnings(\"ignore\")\n",
    "\n",
    "from sklearn.impute import KNNImputer\n"
   ]
  },
  {
   "cell_type": "code",
   "execution_count": 2,
   "id": "e41ad7ea",
   "metadata": {},
   "outputs": [
    {
     "data": {
      "text/html": [
       "<div>\n",
       "<style scoped>\n",
       "    .dataframe tbody tr th:only-of-type {\n",
       "        vertical-align: middle;\n",
       "    }\n",
       "\n",
       "    .dataframe tbody tr th {\n",
       "        vertical-align: top;\n",
       "    }\n",
       "\n",
       "    .dataframe thead th {\n",
       "        text-align: right;\n",
       "    }\n",
       "</style>\n",
       "<table border=\"1\" class=\"dataframe\">\n",
       "  <thead>\n",
       "    <tr style=\"text-align: right;\">\n",
       "      <th></th>\n",
       "      <th>Unnamed: 0</th>\n",
       "      <th>MMM-YY</th>\n",
       "      <th>Driver_ID</th>\n",
       "      <th>Age</th>\n",
       "      <th>Gender</th>\n",
       "      <th>City</th>\n",
       "      <th>Education_Level</th>\n",
       "      <th>Income</th>\n",
       "      <th>Dateofjoining</th>\n",
       "      <th>LastWorkingDate</th>\n",
       "      <th>Joining Designation</th>\n",
       "      <th>Grade</th>\n",
       "      <th>Total Business Value</th>\n",
       "      <th>Quarterly Rating</th>\n",
       "    </tr>\n",
       "  </thead>\n",
       "  <tbody>\n",
       "    <tr>\n",
       "      <th>0</th>\n",
       "      <td>0</td>\n",
       "      <td>01/01/19</td>\n",
       "      <td>1</td>\n",
       "      <td>28.0</td>\n",
       "      <td>0.0</td>\n",
       "      <td>C23</td>\n",
       "      <td>2</td>\n",
       "      <td>57387</td>\n",
       "      <td>24/12/18</td>\n",
       "      <td>NaN</td>\n",
       "      <td>1</td>\n",
       "      <td>1</td>\n",
       "      <td>2381060</td>\n",
       "      <td>2</td>\n",
       "    </tr>\n",
       "    <tr>\n",
       "      <th>1</th>\n",
       "      <td>1</td>\n",
       "      <td>02/01/19</td>\n",
       "      <td>1</td>\n",
       "      <td>28.0</td>\n",
       "      <td>0.0</td>\n",
       "      <td>C23</td>\n",
       "      <td>2</td>\n",
       "      <td>57387</td>\n",
       "      <td>24/12/18</td>\n",
       "      <td>NaN</td>\n",
       "      <td>1</td>\n",
       "      <td>1</td>\n",
       "      <td>-665480</td>\n",
       "      <td>2</td>\n",
       "    </tr>\n",
       "    <tr>\n",
       "      <th>2</th>\n",
       "      <td>2</td>\n",
       "      <td>03/01/19</td>\n",
       "      <td>1</td>\n",
       "      <td>28.0</td>\n",
       "      <td>0.0</td>\n",
       "      <td>C23</td>\n",
       "      <td>2</td>\n",
       "      <td>57387</td>\n",
       "      <td>24/12/18</td>\n",
       "      <td>03/11/19</td>\n",
       "      <td>1</td>\n",
       "      <td>1</td>\n",
       "      <td>0</td>\n",
       "      <td>2</td>\n",
       "    </tr>\n",
       "    <tr>\n",
       "      <th>3</th>\n",
       "      <td>3</td>\n",
       "      <td>11/01/20</td>\n",
       "      <td>2</td>\n",
       "      <td>31.0</td>\n",
       "      <td>0.0</td>\n",
       "      <td>C7</td>\n",
       "      <td>2</td>\n",
       "      <td>67016</td>\n",
       "      <td>11/06/20</td>\n",
       "      <td>NaN</td>\n",
       "      <td>2</td>\n",
       "      <td>2</td>\n",
       "      <td>0</td>\n",
       "      <td>1</td>\n",
       "    </tr>\n",
       "    <tr>\n",
       "      <th>4</th>\n",
       "      <td>4</td>\n",
       "      <td>12/01/20</td>\n",
       "      <td>2</td>\n",
       "      <td>31.0</td>\n",
       "      <td>0.0</td>\n",
       "      <td>C7</td>\n",
       "      <td>2</td>\n",
       "      <td>67016</td>\n",
       "      <td>11/06/20</td>\n",
       "      <td>NaN</td>\n",
       "      <td>2</td>\n",
       "      <td>2</td>\n",
       "      <td>0</td>\n",
       "      <td>1</td>\n",
       "    </tr>\n",
       "    <tr>\n",
       "      <th>...</th>\n",
       "      <td>...</td>\n",
       "      <td>...</td>\n",
       "      <td>...</td>\n",
       "      <td>...</td>\n",
       "      <td>...</td>\n",
       "      <td>...</td>\n",
       "      <td>...</td>\n",
       "      <td>...</td>\n",
       "      <td>...</td>\n",
       "      <td>...</td>\n",
       "      <td>...</td>\n",
       "      <td>...</td>\n",
       "      <td>...</td>\n",
       "      <td>...</td>\n",
       "    </tr>\n",
       "    <tr>\n",
       "      <th>19099</th>\n",
       "      <td>19099</td>\n",
       "      <td>08/01/20</td>\n",
       "      <td>2788</td>\n",
       "      <td>30.0</td>\n",
       "      <td>0.0</td>\n",
       "      <td>C27</td>\n",
       "      <td>2</td>\n",
       "      <td>70254</td>\n",
       "      <td>06/08/20</td>\n",
       "      <td>NaN</td>\n",
       "      <td>2</td>\n",
       "      <td>2</td>\n",
       "      <td>740280</td>\n",
       "      <td>3</td>\n",
       "    </tr>\n",
       "    <tr>\n",
       "      <th>19100</th>\n",
       "      <td>19100</td>\n",
       "      <td>09/01/20</td>\n",
       "      <td>2788</td>\n",
       "      <td>30.0</td>\n",
       "      <td>0.0</td>\n",
       "      <td>C27</td>\n",
       "      <td>2</td>\n",
       "      <td>70254</td>\n",
       "      <td>06/08/20</td>\n",
       "      <td>NaN</td>\n",
       "      <td>2</td>\n",
       "      <td>2</td>\n",
       "      <td>448370</td>\n",
       "      <td>3</td>\n",
       "    </tr>\n",
       "    <tr>\n",
       "      <th>19101</th>\n",
       "      <td>19101</td>\n",
       "      <td>10/01/20</td>\n",
       "      <td>2788</td>\n",
       "      <td>30.0</td>\n",
       "      <td>0.0</td>\n",
       "      <td>C27</td>\n",
       "      <td>2</td>\n",
       "      <td>70254</td>\n",
       "      <td>06/08/20</td>\n",
       "      <td>NaN</td>\n",
       "      <td>2</td>\n",
       "      <td>2</td>\n",
       "      <td>0</td>\n",
       "      <td>2</td>\n",
       "    </tr>\n",
       "    <tr>\n",
       "      <th>19102</th>\n",
       "      <td>19102</td>\n",
       "      <td>11/01/20</td>\n",
       "      <td>2788</td>\n",
       "      <td>30.0</td>\n",
       "      <td>0.0</td>\n",
       "      <td>C27</td>\n",
       "      <td>2</td>\n",
       "      <td>70254</td>\n",
       "      <td>06/08/20</td>\n",
       "      <td>NaN</td>\n",
       "      <td>2</td>\n",
       "      <td>2</td>\n",
       "      <td>200420</td>\n",
       "      <td>2</td>\n",
       "    </tr>\n",
       "    <tr>\n",
       "      <th>19103</th>\n",
       "      <td>19103</td>\n",
       "      <td>12/01/20</td>\n",
       "      <td>2788</td>\n",
       "      <td>30.0</td>\n",
       "      <td>0.0</td>\n",
       "      <td>C27</td>\n",
       "      <td>2</td>\n",
       "      <td>70254</td>\n",
       "      <td>06/08/20</td>\n",
       "      <td>NaN</td>\n",
       "      <td>2</td>\n",
       "      <td>2</td>\n",
       "      <td>411480</td>\n",
       "      <td>2</td>\n",
       "    </tr>\n",
       "  </tbody>\n",
       "</table>\n",
       "<p>19104 rows × 14 columns</p>\n",
       "</div>"
      ],
      "text/plain": [
       "       Unnamed: 0    MMM-YY  Driver_ID   Age  Gender City  Education_Level  \\\n",
       "0               0  01/01/19          1  28.0     0.0  C23                2   \n",
       "1               1  02/01/19          1  28.0     0.0  C23                2   \n",
       "2               2  03/01/19          1  28.0     0.0  C23                2   \n",
       "3               3  11/01/20          2  31.0     0.0   C7                2   \n",
       "4               4  12/01/20          2  31.0     0.0   C7                2   \n",
       "...           ...       ...        ...   ...     ...  ...              ...   \n",
       "19099       19099  08/01/20       2788  30.0     0.0  C27                2   \n",
       "19100       19100  09/01/20       2788  30.0     0.0  C27                2   \n",
       "19101       19101  10/01/20       2788  30.0     0.0  C27                2   \n",
       "19102       19102  11/01/20       2788  30.0     0.0  C27                2   \n",
       "19103       19103  12/01/20       2788  30.0     0.0  C27                2   \n",
       "\n",
       "       Income Dateofjoining LastWorkingDate  Joining Designation  Grade  \\\n",
       "0       57387      24/12/18             NaN                    1      1   \n",
       "1       57387      24/12/18             NaN                    1      1   \n",
       "2       57387      24/12/18        03/11/19                    1      1   \n",
       "3       67016      11/06/20             NaN                    2      2   \n",
       "4       67016      11/06/20             NaN                    2      2   \n",
       "...       ...           ...             ...                  ...    ...   \n",
       "19099   70254      06/08/20             NaN                    2      2   \n",
       "19100   70254      06/08/20             NaN                    2      2   \n",
       "19101   70254      06/08/20             NaN                    2      2   \n",
       "19102   70254      06/08/20             NaN                    2      2   \n",
       "19103   70254      06/08/20             NaN                    2      2   \n",
       "\n",
       "       Total Business Value  Quarterly Rating  \n",
       "0                   2381060                 2  \n",
       "1                   -665480                 2  \n",
       "2                         0                 2  \n",
       "3                         0                 1  \n",
       "4                         0                 1  \n",
       "...                     ...               ...  \n",
       "19099                740280                 3  \n",
       "19100                448370                 3  \n",
       "19101                     0                 2  \n",
       "19102                200420                 2  \n",
       "19103                411480                 2  \n",
       "\n",
       "[19104 rows x 14 columns]"
      ]
     },
     "execution_count": 2,
     "metadata": {},
     "output_type": "execute_result"
    }
   ],
   "source": [
    "df= pd.read_csv('ola_driver.csv')\n",
    "df"
   ]
  },
  {
   "cell_type": "code",
   "execution_count": null,
   "id": "8501983f",
   "metadata": {},
   "outputs": [],
   "source": []
  },
  {
   "cell_type": "markdown",
   "id": "09d359e8",
   "metadata": {},
   "source": [
    "#### Dropping 'Unnamed:0'"
   ]
  },
  {
   "cell_type": "code",
   "execution_count": 3,
   "id": "1efdf444",
   "metadata": {},
   "outputs": [],
   "source": [
    "df.drop('Unnamed: 0',axis=1,inplace=True)"
   ]
  },
  {
   "cell_type": "markdown",
   "id": "251d0445",
   "metadata": {},
   "source": [
    "#### Converting features to respective data-types"
   ]
  },
  {
   "cell_type": "code",
   "execution_count": 4,
   "id": "96edf719",
   "metadata": {},
   "outputs": [],
   "source": [
    "df[\"MMM-YY\"] = pd.to_datetime(df[\"MMM-YY\"])\n",
    "df[\"Dateofjoining\"] = pd.to_datetime(df[\"Dateofjoining\"])\n",
    "df[\"LastWorkingDate\"] = pd.to_datetime(df[\"LastWorkingDate\"])"
   ]
  },
  {
   "cell_type": "code",
   "execution_count": null,
   "id": "294c2ad9",
   "metadata": {},
   "outputs": [],
   "source": []
  },
  {
   "cell_type": "markdown",
   "id": "dc1da335",
   "metadata": {},
   "source": [
    "#### Check for missing values"
   ]
  },
  {
   "cell_type": "code",
   "execution_count": 5,
   "id": "7b3cef83",
   "metadata": {},
   "outputs": [
    {
     "data": {
      "text/plain": [
       "MMM-YY                   0.000000\n",
       "Driver_ID                0.000000\n",
       "Age                      0.319305\n",
       "Gender                   0.272194\n",
       "City                     0.000000\n",
       "Education_Level          0.000000\n",
       "Income                   0.000000\n",
       "Dateofjoining            0.000000\n",
       "LastWorkingDate         91.541039\n",
       "Joining Designation      0.000000\n",
       "Grade                    0.000000\n",
       "Total Business Value     0.000000\n",
       "Quarterly Rating         0.000000\n",
       "dtype: float64"
      ]
     },
     "execution_count": 5,
     "metadata": {},
     "output_type": "execute_result"
    }
   ],
   "source": [
    "df.isnull().sum() / len(df) * 100"
   ]
  },
  {
   "cell_type": "code",
   "execution_count": null,
   "id": "6ab4930b",
   "metadata": {},
   "outputs": [],
   "source": [
    "df.info()"
   ]
  },
  {
   "cell_type": "code",
   "execution_count": 9,
   "id": "bfbecc86",
   "metadata": {},
   "outputs": [
    {
     "data": {
      "text/plain": [
       "MMM-YY                     24\n",
       "Driver_ID                2381\n",
       "Age                        36\n",
       "Gender                      2\n",
       "City                       29\n",
       "Education_Level             3\n",
       "Income                   2383\n",
       "Dateofjoining             869\n",
       "LastWorkingDate           493\n",
       "Joining Designation         5\n",
       "Grade                       5\n",
       "Total Business Value    10181\n",
       "Quarterly Rating            4\n",
       "dtype: int64"
      ]
     },
     "execution_count": 9,
     "metadata": {},
     "output_type": "execute_result"
    }
   ],
   "source": [
    "df.nunique()"
   ]
  },
  {
   "cell_type": "code",
   "execution_count": null,
   "id": "c4dfde42",
   "metadata": {},
   "outputs": [],
   "source": []
  },
  {
   "cell_type": "markdown",
   "id": "6d340ed6",
   "metadata": {},
   "source": [
    "#### Preparing for filling nan values for only 'Age' and 'Gender'"
   ]
  },
  {
   "cell_type": "code",
   "execution_count": 5,
   "id": "f1328231",
   "metadata": {},
   "outputs": [],
   "source": [
    "from sklearn.impute import KNNImputer\n",
    "\n",
    "imputer = KNNImputer(n_neighbors=5, weights='uniform', metric='nan_euclidean',)\n",
    "imputer.fit(df[['Age','Gender']])\n",
    "# transform the dataset\n",
    "df[['Age','Gender']] = imputer.transform(df[['Age','Gender']])"
   ]
  },
  {
   "cell_type": "code",
   "execution_count": 12,
   "id": "9af72beb",
   "metadata": {},
   "outputs": [
    {
     "data": {
      "text/plain": [
       "MMM-YY                   0.000000\n",
       "Driver_ID                0.000000\n",
       "Age                      0.000000\n",
       "Gender                   0.000000\n",
       "City                     0.000000\n",
       "Education_Level          0.000000\n",
       "Income                   0.000000\n",
       "Dateofjoining            0.000000\n",
       "LastWorkingDate         91.541039\n",
       "Joining Designation      0.000000\n",
       "Grade                    0.000000\n",
       "Total Business Value     0.000000\n",
       "Quarterly Rating         0.000000\n",
       "dtype: float64"
      ]
     },
     "execution_count": 12,
     "metadata": {},
     "output_type": "execute_result"
    }
   ],
   "source": [
    "df.isnull().sum() / len(df) * 100"
   ]
  },
  {
   "cell_type": "code",
   "execution_count": 13,
   "id": "18e7752a",
   "metadata": {},
   "outputs": [
    {
     "data": {
      "text/plain": [
       "Gender\n",
       "0.0    11089\n",
       "1.0     8001\n",
       "0.2       10\n",
       "0.8        3\n",
       "0.6        1\n",
       "Name: count, dtype: int64"
      ]
     },
     "execution_count": 13,
     "metadata": {},
     "output_type": "execute_result"
    }
   ],
   "source": [
    "df['Gender'].value_counts()"
   ]
  },
  {
   "cell_type": "code",
   "execution_count": 14,
   "id": "503336f9",
   "metadata": {},
   "outputs": [
    {
     "data": {
      "text/plain": [
       "MMM-YY                     24\n",
       "Driver_ID                2381\n",
       "Age                        37\n",
       "Gender                      5\n",
       "City                       29\n",
       "Education_Level             3\n",
       "Income                   2383\n",
       "Dateofjoining             869\n",
       "LastWorkingDate           493\n",
       "Joining Designation         5\n",
       "Grade                       5\n",
       "Total Business Value    10181\n",
       "Quarterly Rating            4\n",
       "dtype: int64"
      ]
     },
     "execution_count": 14,
     "metadata": {},
     "output_type": "execute_result"
    }
   ],
   "source": [
    "df.nunique()"
   ]
  },
  {
   "cell_type": "code",
   "execution_count": null,
   "id": "870324da",
   "metadata": {},
   "outputs": [],
   "source": []
  },
  {
   "cell_type": "markdown",
   "id": "c1439e5b",
   "metadata": {},
   "source": [
    "#### Aggregation at Driver Level"
   ]
  },
  {
   "cell_type": "code",
   "execution_count": 6,
   "id": "32170be1",
   "metadata": {},
   "outputs": [],
   "source": [
    "new_df = pd.DataFrame()"
   ]
  },
  {
   "cell_type": "code",
   "execution_count": 7,
   "id": "db67a3a5",
   "metadata": {},
   "outputs": [],
   "source": [
    "new_df['Driver_ID']=df['Driver_ID'].unique()"
   ]
  },
  {
   "cell_type": "code",
   "execution_count": 8,
   "id": "888d8f94",
   "metadata": {},
   "outputs": [],
   "source": [
    "new_df['Age'] = list(df.groupby('Driver_ID',axis=0).max('MMM-YY')['Age'])\n",
    "new_df['Gender'] = list(df.groupby('Driver_ID').agg({'Gender':'last'})['Gender'])\n",
    "new_df['City'] = list(df.groupby('Driver_ID').agg({'City':'last'})['City'])\n",
    "new_df['Education'] = list(df.groupby('Driver_ID').agg({'Education_Level':'last'})['Education_Level'])\n",
    "new_df['Income'] = list(df.groupby('Driver_ID').agg({'Income':'last'})['Income'])\n",
    "new_df['Dateofjoining'] = list(df.groupby('Driver_ID').agg({'Dateofjoining':'last'})['Dateofjoining'])\n",
    "\n",
    "new_df['Joining_Designation'] = list(df.groupby('Driver_ID').agg({'Joining Designation':'last'})['Joining Designation'])\n",
    "new_df['Grade'] = list(df.groupby('Driver_ID').agg({'Grade':'last'})['Grade'])\n",
    "new_df['Total_Business_Value'] = list(df.groupby('Driver_ID',axis=0).sum('Total Business Value')['Total Business Value'])\n",
    "new_df['Last_Quarterly_Rating'] = list(df.groupby('Driver_ID').agg({'Quarterly Rating':'last'})['Quarterly Rating'])\n",
    "new_df['Target'] = list(df.groupby('Driver_ID').agg({'LastWorkingDate':'last'})['LastWorkingDate'].notna().astype(int))\n",
    "\n",
    "new_df['is_rating_increased'] = list((df.groupby('Driver_ID')['Quarterly Rating'].last() > df.groupby('Driver_ID')['Quarterly Rating'].first()).astype(int))\n",
    "new_df['is_income_increased'] = list((df.groupby('Driver_ID')['Income'].last() > df.groupby('Driver_ID')['Income'].first()).astype(int))\n",
    "new_df['is_grade_increased'] = list((df.groupby('Driver_ID')['Grade'].last() > df.groupby('Driver_ID')['Grade'].first()).astype(int))\n",
    "new_df['is_joining_increased'] = list((df.groupby('Driver_ID')['Joining Designation'].last() > df.groupby('Driver_ID')['Joining Designation'].first()).astype(int))\n"
   ]
  },
  {
   "cell_type": "code",
   "execution_count": 9,
   "id": "c53f48d5",
   "metadata": {},
   "outputs": [],
   "source": [
    "new_df.drop('Last_Quarterly_Rating',axis=1,inplace=True)"
   ]
  },
  {
   "cell_type": "code",
   "execution_count": 11,
   "id": "c8dfaa43",
   "metadata": {},
   "outputs": [
    {
     "name": "stdout",
     "output_type": "stream",
     "text": [
      "<class 'pandas.core.frame.DataFrame'>\n",
      "RangeIndex: 2381 entries, 0 to 2380\n",
      "Data columns (total 14 columns):\n",
      " #   Column                Non-Null Count  Dtype         \n",
      "---  ------                --------------  -----         \n",
      " 0   Driver_ID             2381 non-null   int64         \n",
      " 1   Age                   2381 non-null   float64       \n",
      " 2   Gender                2381 non-null   float64       \n",
      " 3   City                  2381 non-null   object        \n",
      " 4   Education             2381 non-null   int64         \n",
      " 5   Income                2381 non-null   int64         \n",
      " 6   Dateofjoining         2381 non-null   datetime64[ns]\n",
      " 7   Joining_Designation   2381 non-null   int64         \n",
      " 8   Grade                 2381 non-null   int64         \n",
      " 9   Total_Business_Value  2381 non-null   int64         \n",
      " 10  Target                2381 non-null   int64         \n",
      " 11  is_rating_increased   2381 non-null   int64         \n",
      " 12  is_income_increased   2381 non-null   int64         \n",
      " 13  is_grade_increased    2381 non-null   int64         \n",
      "dtypes: datetime64[ns](1), float64(2), int64(10), object(1)\n",
      "memory usage: 260.5+ KB\n"
     ]
    }
   ],
   "source": [
    "new_df.info()"
   ]
  },
  {
   "cell_type": "code",
   "execution_count": null,
   "id": "bfbeb1e3",
   "metadata": {},
   "outputs": [],
   "source": []
  },
  {
   "cell_type": "markdown",
   "id": "1ba063c2",
   "metadata": {},
   "source": [
    "#### Distribution of Target variable"
   ]
  },
  {
   "cell_type": "code",
   "execution_count": 14,
   "id": "cbc30cff",
   "metadata": {},
   "outputs": [
    {
     "data": {
      "text/plain": [
       "<Axes: xlabel='Target', ylabel='count'>"
      ]
     },
     "execution_count": 14,
     "metadata": {},
     "output_type": "execute_result"
    },
    {
     "data": {
      "image/png": "[encoded data removed]",
      "text/plain": [
       "<Figure size 640x480 with 1 Axes>"
      ]
     },
     "metadata": {},
     "output_type": "display_data"
    }
   ],
   "source": [
    "sns.countplot(data=new_df,x='Target')"
   ]
  },
  {
   "cell_type": "code",
   "execution_count": 25,
   "id": "07a7629c",
   "metadata": {},
   "outputs": [],
   "source": [
    "# Distribution of target variable is not balanced.\n",
    "# There are more proportion of people who left than stayed."
   ]
  },
  {
   "cell_type": "code",
   "execution_count": 12,
   "id": "fa321eef",
   "metadata": {},
   "outputs": [
    {
     "data": {
      "image/png": "[encoded data removed]",
      "text/plain": [
       "<Figure size 1080x1080 with 8 Axes>"
      ]
     },
     "metadata": {
      "needs_background": "light"
     },
     "output_type": "display_data"
    }
   ],
   "source": [
    "plt.figure(figsize=(15, 15))\n",
    "plt.subplot(421)\n",
    "sns.countplot(data=new_df, x=\"Gender\")\n",
    "# final_data[\"Gender\"].value_counts(normalize=True).plot.bar('Gender')\n",
    "\n",
    "plt.subplot(422)\n",
    "sns.countplot(data=new_df, x=\"City\")\n",
    "plt.xticks(rotation=\"45\")\n",
    "\n",
    "plt.subplot(423)\n",
    "sns.countplot(data=new_df, x=\"Joining_Designation\")\n",
    "\n",
    "plt.subplot(424)\n",
    "sns.countplot(data=new_df, x=\"Education\")\n",
    "\n",
    "plt.subplot(425)\n",
    "sns.countplot(data=new_df, x=\"Grade\")\n",
    "\n",
    "plt.subplot(426)\n",
    "sns.countplot(data=new_df, x=\"is_rating_increased\")\n",
    "\n",
    "plt.subplot(427)\n",
    "sns.countplot(data=new_df, x=\"is_income_increased\")\n",
    "\n",
    "plt.subplot(428)\n",
    "sns.countplot(data=new_df, x=\"is_grade_increased\")\n",
    "\n",
    "plt.tight_layout()"
   ]
  },
  {
   "cell_type": "markdown",
   "id": "77dfef20",
   "metadata": {},
   "source": [
    "**OBSERVATIONS**\n",
    "\n",
    "- Out of 2381 employees, 1404 employees are of the Male gender and 977 are females.\n",
    "- Out of 2381 employees, 152 employees are from city C20 and 101 from city C15.\n",
    "- Out of 2381 employees, 802 employees have their education as Graduate and 795 have completed their 12.\n",
    "- Out of 2381 employees, 1026 joined with the grade as 1, 815 employees joined with the grade 2.\n",
    "- Out of 2381 employees, 855 employees had their designation as 2 at the time of reporting.\n",
    "- Out of 2381 employees, 1744 employees had their last quarterly rating as 1.\n",
    "- Out of 2381 employees, the quarterly rating has not increased for 2076 employees."
   ]
  },
  {
   "cell_type": "code",
   "execution_count": null,
   "id": "3824c92b",
   "metadata": {},
   "outputs": [],
   "source": []
  },
  {
   "cell_type": "code",
   "execution_count": 27,
   "id": "efcd0bc2",
   "metadata": {},
   "outputs": [
    {
     "data": {
      "image/png": "[encoded data removed]",
      "text/plain": [
       "<Figure size 1080x360 with 1 Axes>"
      ]
     },
     "metadata": {
      "needs_background": "light"
     },
     "output_type": "display_data"
    }
   ],
   "source": [
    "try:\n",
    "    plt.subplots(figsize=(15,5))\n",
    "    plt.subplot(121)\n",
    "    sns.histplot(new_df['Age'], kde=True)\n",
    "    plt.title(\"Age of drivers\")\n",
    "    plt.subplot(122)\n",
    "    new_df['Age'].plot.box(title='Boxplot of Age')\n",
    "    plt.tight_layout(pad=3)\n",
    "except:\n",
    "    pass"
   ]
  },
  {
   "cell_type": "markdown",
   "id": "c1e3af61",
   "metadata": {},
   "source": [
    "**OBSERVATION**\n",
    "\n",
    "- The distribution of age slightly skewed on right which might indicate the outliers in the data"
   ]
  },
  {
   "cell_type": "code",
   "execution_count": null,
   "id": "9a3d6c3f",
   "metadata": {},
   "outputs": [],
   "source": []
  },
  {
   "cell_type": "code",
   "execution_count": 28,
   "id": "051f6407",
   "metadata": {
    "scrolled": true
   },
   "outputs": [
    {
     "data": {
      "image/png": "[encoded data removed]",
      "text/plain": [
       "<Figure size 1080x360 with 1 Axes>"
      ]
     },
     "metadata": {
      "needs_background": "light"
     },
     "output_type": "display_data"
    }
   ],
   "source": [
    "try:\n",
    "    plt.subplots(figsize=(15,5))\n",
    "    plt.subplot(121)\n",
    "    sns.histplot(new_df['Income'], kde=True)\n",
    "    plt.title(\"Monthly Income of drivers\")\n",
    "    plt.subplot(122)\n",
    "    new_df['Income'].plot.box(title='Boxplot of Income')\n",
    "    plt.tight_layout(pad=3)\n",
    "except:\n",
    "    pass"
   ]
  },
  {
   "cell_type": "markdown",
   "id": "4cab2b18",
   "metadata": {},
   "source": [
    "**OBSERVATION**\n",
    "\n",
    "- The distribution of monthly income skewed on right which might indicate the outliers in the data"
   ]
  },
  {
   "cell_type": "code",
   "execution_count": null,
   "id": "6cd23428",
   "metadata": {},
   "outputs": [],
   "source": []
  },
  {
   "cell_type": "code",
   "execution_count": 29,
   "id": "73631335",
   "metadata": {},
   "outputs": [
    {
     "data": {
      "image/png": "[encoded data removed]",
      "text/plain": [
       "<Figure size 1080x360 with 1 Axes>"
      ]
     },
     "metadata": {
      "needs_background": "light"
     },
     "output_type": "display_data"
    }
   ],
   "source": [
    "try:\n",
    "    plt.subplots(figsize=(15,5))\n",
    "    plt.subplot(121)\n",
    "    sns.histplot(new_df['Total_Business_Value'], kde=True, bins=20)\n",
    "    plt.title(\"Total_Business_Value of drivers\")\n",
    "    plt.subplot(122)\n",
    "    new_df['Total_Business_Value'].plot.box(title='Boxplot of Total_Business_Value')\n",
    "    plt.tight_layout(pad=3)\n",
    "except:\n",
    "    pass"
   ]
  },
  {
   "cell_type": "markdown",
   "id": "4aa24b43",
   "metadata": {},
   "source": [
    "**OBSERVATION**\n",
    "\n",
    "- The distribution of total business value highly skewed on right which might indicate the outliers in the data"
   ]
  },
  {
   "cell_type": "code",
   "execution_count": null,
   "id": "2a76d205",
   "metadata": {},
   "outputs": [],
   "source": []
  },
  {
   "cell_type": "markdown",
   "id": "740a4ab7",
   "metadata": {},
   "source": [
    "### BI-VARIATE ANALYSIS"
   ]
  },
  {
   "cell_type": "code",
   "execution_count": 67,
   "id": "55b24204",
   "metadata": {
    "scrolled": true
   },
   "outputs": [
    {
     "data": {
      "image/png": "[encoded data removed]",
      "text/plain": [
       "<Figure size 720x1440 with 7 Axes>"
      ]
     },
     "metadata": {
      "needs_background": "light"
     },
     "output_type": "display_data"
    }
   ],
   "source": [
    "plt.figure(figsize=(10,20))\n",
    "\n",
    "plt.subplot(421)\n",
    "sns.barplot(data=new_df, x=\"Target\", y=\"Age\")\n",
    "plt.title(\"Age vs Churn\")\n",
    "\n",
    "plt.subplot(422)\n",
    "sns.barplot(data=new_df, x=\"Target\", y=\"Education\")\n",
    "plt.title(\"Education vs Churn\")\n",
    "\n",
    "plt.subplot(423)\n",
    "sns.barplot(data=new_df, x=\"Target\", y=\"Gender\")\n",
    "plt.title(\"Gender vs Churn\")\n",
    "\n",
    "plt.subplot(425)\n",
    "sns.barplot(data=new_df, x=\"Target\", y=\"Grade\")\n",
    "plt.title(\"Grade vs Churn\")\n",
    "\n",
    "plt.subplot(426)\n",
    "sns.countplot(data=new_df, x=\"Joining_Designation\", hue=\"Target\")\n",
    "plt.title(\"Joining_Designation vs Churn\")\n",
    "\n",
    "plt.subplot(427)\n",
    "sns.barplot(data=new_df, x=\"Target\", y=\"is_income_increased\")\n",
    "plt.title(\"Salary_Increased vs Churn\")\n",
    "\n",
    "plt.subplot(428)\n",
    "sns.barplot(data=new_df, x=\"Target\", y=\"is_rating_increased\")\n",
    "plt.title(\"Quarterly_Rating_Increased vs Churn\")\n",
    "\n",
    "plt.tight_layout(pad=3)"
   ]
  },
  {
   "cell_type": "markdown",
   "id": "f225a880",
   "metadata": {},
   "source": [
    "**OBSERVATIONS**\n",
    "\n",
    "- The proportion of Age, gender and education is more or less the same for both the employees who left the organization and those who did not leave.\n",
    "- The employees who have their grade as 3 or 4 at the time of joining are less likely to leave the organization.\n",
    "- The employees whose quarterly rating has increased are less likely to leave the organization.\n",
    "- The employees whose monthly salary has not increased are more likely to leave the organization."
   ]
  },
  {
   "cell_type": "code",
   "execution_count": null,
   "id": "0886575c",
   "metadata": {},
   "outputs": [],
   "source": []
  },
  {
   "cell_type": "markdown",
   "id": "cbb56792",
   "metadata": {},
   "source": [
    "### SPLITTING THE DATASET"
   ]
  },
  {
   "cell_type": "code",
   "execution_count": 9,
   "id": "94bd0053",
   "metadata": {},
   "outputs": [
    {
     "data": {
      "text/html": [
       "<div>\n",
       "<style scoped>\n",
       "    .dataframe tbody tr th:only-of-type {\n",
       "        vertical-align: middle;\n",
       "    }\n",
       "\n",
       "    .dataframe tbody tr th {\n",
       "        vertical-align: top;\n",
       "    }\n",
       "\n",
       "    .dataframe thead th {\n",
       "        text-align: right;\n",
       "    }\n",
       "</style>\n",
       "<table border=\"1\" class=\"dataframe\">\n",
       "  <thead>\n",
       "    <tr style=\"text-align: right;\">\n",
       "      <th></th>\n",
       "      <th>Driver_ID</th>\n",
       "      <th>Age</th>\n",
       "      <th>Gender</th>\n",
       "      <th>City</th>\n",
       "      <th>Education</th>\n",
       "      <th>Income</th>\n",
       "      <th>Dateofjoining</th>\n",
       "      <th>Joining_Designation</th>\n",
       "      <th>Grade</th>\n",
       "      <th>Total_Business_Value</th>\n",
       "      <th>Last_Quarterly_Rating</th>\n",
       "      <th>Target</th>\n",
       "      <th>is_rating_increased</th>\n",
       "      <th>is_income_increased</th>\n",
       "      <th>is_grade_increased</th>\n",
       "      <th>is_joining_increased</th>\n",
       "    </tr>\n",
       "  </thead>\n",
       "  <tbody>\n",
       "    <tr>\n",
       "      <th>0</th>\n",
       "      <td>1</td>\n",
       "      <td>28.0</td>\n",
       "      <td>0.0</td>\n",
       "      <td>C23</td>\n",
       "      <td>2</td>\n",
       "      <td>57387</td>\n",
       "      <td>2018-12-24</td>\n",
       "      <td>1</td>\n",
       "      <td>1</td>\n",
       "      <td>1715580</td>\n",
       "      <td>2</td>\n",
       "      <td>1</td>\n",
       "      <td>0</td>\n",
       "      <td>0</td>\n",
       "      <td>0</td>\n",
       "      <td>0</td>\n",
       "    </tr>\n",
       "    <tr>\n",
       "      <th>1</th>\n",
       "      <td>2</td>\n",
       "      <td>31.0</td>\n",
       "      <td>0.0</td>\n",
       "      <td>C7</td>\n",
       "      <td>2</td>\n",
       "      <td>67016</td>\n",
       "      <td>2020-11-06</td>\n",
       "      <td>2</td>\n",
       "      <td>2</td>\n",
       "      <td>0</td>\n",
       "      <td>1</td>\n",
       "      <td>0</td>\n",
       "      <td>0</td>\n",
       "      <td>0</td>\n",
       "      <td>0</td>\n",
       "      <td>0</td>\n",
       "    </tr>\n",
       "    <tr>\n",
       "      <th>2</th>\n",
       "      <td>4</td>\n",
       "      <td>43.0</td>\n",
       "      <td>0.0</td>\n",
       "      <td>C13</td>\n",
       "      <td>2</td>\n",
       "      <td>65603</td>\n",
       "      <td>2019-12-07</td>\n",
       "      <td>2</td>\n",
       "      <td>2</td>\n",
       "      <td>350000</td>\n",
       "      <td>1</td>\n",
       "      <td>1</td>\n",
       "      <td>0</td>\n",
       "      <td>0</td>\n",
       "      <td>0</td>\n",
       "      <td>0</td>\n",
       "    </tr>\n",
       "    <tr>\n",
       "      <th>3</th>\n",
       "      <td>5</td>\n",
       "      <td>29.0</td>\n",
       "      <td>0.0</td>\n",
       "      <td>C9</td>\n",
       "      <td>0</td>\n",
       "      <td>46368</td>\n",
       "      <td>2019-01-09</td>\n",
       "      <td>1</td>\n",
       "      <td>1</td>\n",
       "      <td>120360</td>\n",
       "      <td>1</td>\n",
       "      <td>1</td>\n",
       "      <td>0</td>\n",
       "      <td>0</td>\n",
       "      <td>0</td>\n",
       "      <td>0</td>\n",
       "    </tr>\n",
       "    <tr>\n",
       "      <th>4</th>\n",
       "      <td>6</td>\n",
       "      <td>31.0</td>\n",
       "      <td>1.0</td>\n",
       "      <td>C11</td>\n",
       "      <td>1</td>\n",
       "      <td>78728</td>\n",
       "      <td>2020-07-31</td>\n",
       "      <td>3</td>\n",
       "      <td>3</td>\n",
       "      <td>1265000</td>\n",
       "      <td>2</td>\n",
       "      <td>0</td>\n",
       "      <td>1</td>\n",
       "      <td>0</td>\n",
       "      <td>0</td>\n",
       "      <td>0</td>\n",
       "    </tr>\n",
       "    <tr>\n",
       "      <th>...</th>\n",
       "      <td>...</td>\n",
       "      <td>...</td>\n",
       "      <td>...</td>\n",
       "      <td>...</td>\n",
       "      <td>...</td>\n",
       "      <td>...</td>\n",
       "      <td>...</td>\n",
       "      <td>...</td>\n",
       "      <td>...</td>\n",
       "      <td>...</td>\n",
       "      <td>...</td>\n",
       "      <td>...</td>\n",
       "      <td>...</td>\n",
       "      <td>...</td>\n",
       "      <td>...</td>\n",
       "      <td>...</td>\n",
       "    </tr>\n",
       "    <tr>\n",
       "      <th>2376</th>\n",
       "      <td>2784</td>\n",
       "      <td>34.0</td>\n",
       "      <td>0.0</td>\n",
       "      <td>C24</td>\n",
       "      <td>0</td>\n",
       "      <td>82815</td>\n",
       "      <td>2015-10-15</td>\n",
       "      <td>2</td>\n",
       "      <td>3</td>\n",
       "      <td>21748820</td>\n",
       "      <td>4</td>\n",
       "      <td>0</td>\n",
       "      <td>1</td>\n",
       "      <td>0</td>\n",
       "      <td>0</td>\n",
       "      <td>0</td>\n",
       "    </tr>\n",
       "    <tr>\n",
       "      <th>2377</th>\n",
       "      <td>2785</td>\n",
       "      <td>34.0</td>\n",
       "      <td>1.0</td>\n",
       "      <td>C9</td>\n",
       "      <td>0</td>\n",
       "      <td>12105</td>\n",
       "      <td>2020-08-28</td>\n",
       "      <td>1</td>\n",
       "      <td>1</td>\n",
       "      <td>0</td>\n",
       "      <td>1</td>\n",
       "      <td>1</td>\n",
       "      <td>0</td>\n",
       "      <td>0</td>\n",
       "      <td>0</td>\n",
       "      <td>0</td>\n",
       "    </tr>\n",
       "    <tr>\n",
       "      <th>2378</th>\n",
       "      <td>2786</td>\n",
       "      <td>45.0</td>\n",
       "      <td>0.0</td>\n",
       "      <td>C19</td>\n",
       "      <td>0</td>\n",
       "      <td>35370</td>\n",
       "      <td>2018-07-31</td>\n",
       "      <td>2</td>\n",
       "      <td>2</td>\n",
       "      <td>2815090</td>\n",
       "      <td>1</td>\n",
       "      <td>1</td>\n",
       "      <td>0</td>\n",
       "      <td>0</td>\n",
       "      <td>0</td>\n",
       "      <td>0</td>\n",
       "    </tr>\n",
       "    <tr>\n",
       "      <th>2379</th>\n",
       "      <td>2787</td>\n",
       "      <td>28.0</td>\n",
       "      <td>1.0</td>\n",
       "      <td>C20</td>\n",
       "      <td>2</td>\n",
       "      <td>69498</td>\n",
       "      <td>2018-07-21</td>\n",
       "      <td>1</td>\n",
       "      <td>1</td>\n",
       "      <td>977830</td>\n",
       "      <td>1</td>\n",
       "      <td>1</td>\n",
       "      <td>0</td>\n",
       "      <td>0</td>\n",
       "      <td>0</td>\n",
       "      <td>0</td>\n",
       "    </tr>\n",
       "    <tr>\n",
       "      <th>2380</th>\n",
       "      <td>2788</td>\n",
       "      <td>30.0</td>\n",
       "      <td>0.0</td>\n",
       "      <td>C27</td>\n",
       "      <td>2</td>\n",
       "      <td>70254</td>\n",
       "      <td>2020-06-08</td>\n",
       "      <td>2</td>\n",
       "      <td>2</td>\n",
       "      <td>2298240</td>\n",
       "      <td>2</td>\n",
       "      <td>0</td>\n",
       "      <td>1</td>\n",
       "      <td>0</td>\n",
       "      <td>0</td>\n",
       "      <td>0</td>\n",
       "    </tr>\n",
       "  </tbody>\n",
       "</table>\n",
       "<p>2381 rows × 16 columns</p>\n",
       "</div>"
      ],
      "text/plain": [
       "      Driver_ID   Age  Gender City  Education  Income Dateofjoining  \\\n",
       "0             1  28.0     0.0  C23          2   57387    2018-12-24   \n",
       "1             2  31.0     0.0   C7          2   67016    2020-11-06   \n",
       "2             4  43.0     0.0  C13          2   65603    2019-12-07   \n",
       "3             5  29.0     0.0   C9          0   46368    2019-01-09   \n",
       "4             6  31.0     1.0  C11          1   78728    2020-07-31   \n",
       "...         ...   ...     ...  ...        ...     ...           ...   \n",
       "2376       2784  34.0     0.0  C24          0   82815    2015-10-15   \n",
       "2377       2785  34.0     1.0   C9          0   12105    2020-08-28   \n",
       "2378       2786  45.0     0.0  C19          0   35370    2018-07-31   \n",
       "2379       2787  28.0     1.0  C20          2   69498    2018-07-21   \n",
       "2380       2788  30.0     0.0  C27          2   70254    2020-06-08   \n",
       "\n",
       "      Joining_Designation  Grade  Total_Business_Value  Last_Quarterly_Rating  \\\n",
       "0                       1      1               1715580                      2   \n",
       "1                       2      2                     0                      1   \n",
       "2                       2      2                350000                      1   \n",
       "3                       1      1                120360                      1   \n",
       "4                       3      3               1265000                      2   \n",
       "...                   ...    ...                   ...                    ...   \n",
       "2376                    2      3              21748820                      4   \n",
       "2377                    1      1                     0                      1   \n",
       "2378                    2      2               2815090                      1   \n",
       "2379                    1      1                977830                      1   \n",
       "2380                    2      2               2298240                      2   \n",
       "\n",
       "      Target  is_rating_increased  is_income_increased  is_grade_increased  \\\n",
       "0          1                    0                    0                   0   \n",
       "1          0                    0                    0                   0   \n",
       "2          1                    0                    0                   0   \n",
       "3          1                    0                    0                   0   \n",
       "4          0                    1                    0                   0   \n",
       "...      ...                  ...                  ...                 ...   \n",
       "2376       0                    1                    0                   0   \n",
       "2377       1                    0                    0                   0   \n",
       "2378       1                    0                    0                   0   \n",
       "2379       1                    0                    0                   0   \n",
       "2380       0                    1                    0                   0   \n",
       "\n",
       "      is_joining_increased  \n",
       "0                        0  \n",
       "1                        0  \n",
       "2                        0  \n",
       "3                        0  \n",
       "4                        0  \n",
       "...                    ...  \n",
       "2376                     0  \n",
       "2377                     0  \n",
       "2378                     0  \n",
       "2379                     0  \n",
       "2380                     0  \n",
       "\n",
       "[2381 rows x 16 columns]"
      ]
     },
     "execution_count": 9,
     "metadata": {},
     "output_type": "execute_result"
    }
   ],
   "source": [
    "new_df"
   ]
  },
  {
   "cell_type": "code",
   "execution_count": 10,
   "id": "d74f450e",
   "metadata": {},
   "outputs": [],
   "source": [
    "X = new_df.copy()"
   ]
  },
  {
   "cell_type": "code",
   "execution_count": 11,
   "id": "737ee351",
   "metadata": {},
   "outputs": [],
   "source": [
    "X.drop(['Target','Driver_ID'],axis=1,inplace=True)"
   ]
  },
  {
   "cell_type": "code",
   "execution_count": 12,
   "id": "fadf5350",
   "metadata": {},
   "outputs": [],
   "source": [
    "X.drop('Dateofjoining',axis=1,inplace=True)"
   ]
  },
  {
   "cell_type": "code",
   "execution_count": 13,
   "id": "e9e7cf22",
   "metadata": {},
   "outputs": [],
   "source": [
    "y = new_df['Target']"
   ]
  },
  {
   "cell_type": "code",
   "execution_count": null,
   "id": "c024972f",
   "metadata": {},
   "outputs": [],
   "source": []
  },
  {
   "cell_type": "code",
   "execution_count": null,
   "id": "8e4caae6",
   "metadata": {},
   "outputs": [],
   "source": []
  },
  {
   "cell_type": "markdown",
   "id": "a232660a",
   "metadata": {},
   "source": [
    "#### DOING ONE HOT ENCODING FOR 'CITY'"
   ]
  },
  {
   "cell_type": "code",
   "execution_count": 13,
   "id": "857bde4a",
   "metadata": {},
   "outputs": [],
   "source": [
    "#RUN ONLY IF YOU ARE USING OHE ENCODING AND USING STACKED CLASSIFIER MODEL\n",
    "\n",
    "\n",
    "X = pd.concat([X,pd.get_dummies(X['City'],prefix='City').astype(int)],axis=1)\n",
    "X.drop('City',axis=1,inplace=True)"
   ]
  },
  {
   "cell_type": "code",
   "execution_count": null,
   "id": "dc6f89c4-d64f-448e-9dc6-912f41bc5ba0",
   "metadata": {},
   "outputs": [],
   "source": []
  },
  {
   "cell_type": "code",
   "execution_count": null,
   "id": "c80d019e",
   "metadata": {},
   "outputs": [],
   "source": []
  },
  {
   "cell_type": "code",
   "execution_count": 15,
   "id": "07ae39cf",
   "metadata": {},
   "outputs": [],
   "source": [
    "from sklearn.model_selection import train_test_split\n",
    "\n",
    "# Split data into train, validation, and test sets\n",
    "X_train, X_temp, y_train, y_temp = train_test_split(\n",
    "    X, y, test_size=0.3, stratify=y, random_state=42)\n",
    "\n",
    "# Split the remaining 30% into validation and test sets (50-50 split)\n",
    "X_val, X_test, y_val, y_test = train_test_split(\n",
    "    X_temp, y_temp, test_size=0.5, stratify=y_temp, random_state=42)"
   ]
  },
  {
   "cell_type": "code",
   "execution_count": 17,
   "id": "ed2e320c",
   "metadata": {},
   "outputs": [
    {
     "name": "stdout",
     "output_type": "stream",
     "text": [
      "Training set: 1666 samples\n",
      "Validation set: 357 samples\n",
      "Test set: 358 samples\n"
     ]
    }
   ],
   "source": [
    "print(f\"Training set: {len(y_train)} samples\")\n",
    "print(f\"Validation set: {len(y_val)} samples\")\n",
    "print(f\"Test set: {len(y_test)} samples\")"
   ]
  },
  {
   "cell_type": "code",
   "execution_count": null,
   "id": "b84cead2",
   "metadata": {},
   "outputs": [],
   "source": []
  },
  {
   "cell_type": "markdown",
   "id": "e0667bef",
   "metadata": {},
   "source": [
    "#### LABEL ENCODING\n",
    "- DOING MEAN LABEL ENCODING FOR 'CITY'"
   ]
  },
  {
   "cell_type": "code",
   "execution_count": null,
   "id": "12191ba6",
   "metadata": {},
   "outputs": [],
   "source": [
    "# DO IF YOU ARE DOING LABEL ENCODING AND NOT USING STACKED CLASSIFIER"
   ]
  },
  {
   "cell_type": "code",
   "execution_count": 16,
   "id": "d67438ba",
   "metadata": {},
   "outputs": [],
   "source": [
    "# Compute target encoding on Training Set Only\n",
    "city_probs = X_train.copy()\n",
    "city_probs['target'] = y_train  # Add target to training features\n",
    "city_probs = city_probs.groupby('City')['target'].mean()  # Compute mean target for each city\n"
   ]
  },
  {
   "cell_type": "code",
   "execution_count": 17,
   "id": "8ccd38ee",
   "metadata": {},
   "outputs": [],
   "source": [
    "# Step 4: Apply encoding to Train, Validation, and Test sets\n",
    "X_train['City_encoded'] = X_train['City'].map(city_probs)\n",
    "X_val['City_encoded'] = X_val['City'].map(city_probs)   # Use train mappings\n",
    "X_test['City_encoded'] = X_test['City'].map(city_probs) # Use train mappings"
   ]
  },
  {
   "cell_type": "code",
   "execution_count": 18,
   "id": "352af105",
   "metadata": {},
   "outputs": [
    {
     "data": {
      "text/plain": [
       "((1666, 16), (357, 16), (358, 16))"
      ]
     },
     "execution_count": 18,
     "metadata": {},
     "output_type": "execute_result"
    }
   ],
   "source": [
    "X_train.shape, X_val.shape, X_test.shape"
   ]
  },
  {
   "cell_type": "code",
   "execution_count": null,
   "id": "91f8bd9e",
   "metadata": {},
   "outputs": [],
   "source": []
  },
  {
   "cell_type": "markdown",
   "id": "1444c924",
   "metadata": {},
   "source": [
    "#### REMOVING CATEGORICAL FEATURES FROM TRAINING, VALIDATION AND TESTING DATASET."
   ]
  },
  {
   "cell_type": "code",
   "execution_count": 16,
   "id": "950dd24a",
   "metadata": {},
   "outputs": [
    {
     "ename": "KeyError",
     "evalue": "\"['City', 'Dateofjoining'] not found in axis\"",
     "output_type": "error",
     "traceback": [
      "\u001b[1;31m---------------------------------------------------------------------------\u001b[0m",
      "\u001b[1;31mKeyError\u001b[0m                                  Traceback (most recent call last)",
      "Input \u001b[1;32mIn [16]\u001b[0m, in \u001b[0;36m<cell line: 3>\u001b[1;34m()\u001b[0m\n\u001b[0;32m      1\u001b[0m \u001b[38;5;66;03m# RUN ONLY IF USE LABEL ENCODING\u001b[39;00m\n\u001b[1;32m----> 3\u001b[0m X_train \u001b[38;5;241m=\u001b[39m \u001b[43mX_train\u001b[49m\u001b[38;5;241;43m.\u001b[39;49m\u001b[43mdrop\u001b[49m\u001b[43m(\u001b[49m\u001b[43m[\u001b[49m\u001b[38;5;124;43m'\u001b[39;49m\u001b[38;5;124;43mCity\u001b[39;49m\u001b[38;5;124;43m'\u001b[39;49m\u001b[43m,\u001b[49m\u001b[38;5;124;43m'\u001b[39;49m\u001b[38;5;124;43mDateofjoining\u001b[39;49m\u001b[38;5;124;43m'\u001b[39;49m\u001b[43m]\u001b[49m\u001b[43m,\u001b[49m\u001b[43maxis\u001b[49m\u001b[38;5;241;43m=\u001b[39;49m\u001b[38;5;241;43m1\u001b[39;49m\u001b[43m)\u001b[49m\n\u001b[0;32m      4\u001b[0m X_val \u001b[38;5;241m=\u001b[39m X_val\u001b[38;5;241m.\u001b[39mdrop([\u001b[38;5;124m'\u001b[39m\u001b[38;5;124mCity\u001b[39m\u001b[38;5;124m'\u001b[39m,\u001b[38;5;124m'\u001b[39m\u001b[38;5;124mDateofjoining\u001b[39m\u001b[38;5;124m'\u001b[39m],axis\u001b[38;5;241m=\u001b[39m\u001b[38;5;241m1\u001b[39m)\n\u001b[0;32m      5\u001b[0m X_test \u001b[38;5;241m=\u001b[39m X_test\u001b[38;5;241m.\u001b[39mdrop([\u001b[38;5;124m'\u001b[39m\u001b[38;5;124mCity\u001b[39m\u001b[38;5;124m'\u001b[39m,\u001b[38;5;124m'\u001b[39m\u001b[38;5;124mDateofjoining\u001b[39m\u001b[38;5;124m'\u001b[39m],axis\u001b[38;5;241m=\u001b[39m\u001b[38;5;241m1\u001b[39m)\n",
      "File \u001b[1;32m~\\anaconda3\\lib\\site-packages\\pandas\\core\\frame.py:5581\u001b[0m, in \u001b[0;36mDataFrame.drop\u001b[1;34m(self, labels, axis, index, columns, level, inplace, errors)\u001b[0m\n\u001b[0;32m   5433\u001b[0m \u001b[38;5;28;01mdef\u001b[39;00m \u001b[38;5;21mdrop\u001b[39m(\n\u001b[0;32m   5434\u001b[0m     \u001b[38;5;28mself\u001b[39m,\n\u001b[0;32m   5435\u001b[0m     labels: IndexLabel \u001b[38;5;241m|\u001b[39m \u001b[38;5;28;01mNone\u001b[39;00m \u001b[38;5;241m=\u001b[39m \u001b[38;5;28;01mNone\u001b[39;00m,\n\u001b[1;32m   (...)\u001b[0m\n\u001b[0;32m   5442\u001b[0m     errors: IgnoreRaise \u001b[38;5;241m=\u001b[39m \u001b[38;5;124m\"\u001b[39m\u001b[38;5;124mraise\u001b[39m\u001b[38;5;124m\"\u001b[39m,\n\u001b[0;32m   5443\u001b[0m ) \u001b[38;5;241m-\u001b[39m\u001b[38;5;241m>\u001b[39m DataFrame \u001b[38;5;241m|\u001b[39m \u001b[38;5;28;01mNone\u001b[39;00m:\n\u001b[0;32m   5444\u001b[0m     \u001b[38;5;124;03m\"\"\"\u001b[39;00m\n\u001b[0;32m   5445\u001b[0m \u001b[38;5;124;03m    Drop specified labels from rows or columns.\u001b[39;00m\n\u001b[0;32m   5446\u001b[0m \n\u001b[1;32m   (...)\u001b[0m\n\u001b[0;32m   5579\u001b[0m \u001b[38;5;124;03m            weight  1.0     0.8\u001b[39;00m\n\u001b[0;32m   5580\u001b[0m \u001b[38;5;124;03m    \"\"\"\u001b[39;00m\n\u001b[1;32m-> 5581\u001b[0m     \u001b[38;5;28;01mreturn\u001b[39;00m \u001b[38;5;28;43msuper\u001b[39;49m\u001b[43m(\u001b[49m\u001b[43m)\u001b[49m\u001b[38;5;241;43m.\u001b[39;49m\u001b[43mdrop\u001b[49m\u001b[43m(\u001b[49m\n\u001b[0;32m   5582\u001b[0m \u001b[43m        \u001b[49m\u001b[43mlabels\u001b[49m\u001b[38;5;241;43m=\u001b[39;49m\u001b[43mlabels\u001b[49m\u001b[43m,\u001b[49m\n\u001b[0;32m   5583\u001b[0m \u001b[43m        \u001b[49m\u001b[43maxis\u001b[49m\u001b[38;5;241;43m=\u001b[39;49m\u001b[43maxis\u001b[49m\u001b[43m,\u001b[49m\n\u001b[0;32m   5584\u001b[0m \u001b[43m        \u001b[49m\u001b[43mindex\u001b[49m\u001b[38;5;241;43m=\u001b[39;49m\u001b[43mindex\u001b[49m\u001b[43m,\u001b[49m\n\u001b[0;32m   5585\u001b[0m \u001b[43m        \u001b[49m\u001b[43mcolumns\u001b[49m\u001b[38;5;241;43m=\u001b[39;49m\u001b[43mcolumns\u001b[49m\u001b[43m,\u001b[49m\n\u001b[0;32m   5586\u001b[0m \u001b[43m        \u001b[49m\u001b[43mlevel\u001b[49m\u001b[38;5;241;43m=\u001b[39;49m\u001b[43mlevel\u001b[49m\u001b[43m,\u001b[49m\n\u001b[0;32m   5587\u001b[0m \u001b[43m        \u001b[49m\u001b[43minplace\u001b[49m\u001b[38;5;241;43m=\u001b[39;49m\u001b[43minplace\u001b[49m\u001b[43m,\u001b[49m\n\u001b[0;32m   5588\u001b[0m \u001b[43m        \u001b[49m\u001b[43merrors\u001b[49m\u001b[38;5;241;43m=\u001b[39;49m\u001b[43merrors\u001b[49m\u001b[43m,\u001b[49m\n\u001b[0;32m   5589\u001b[0m \u001b[43m    \u001b[49m\u001b[43m)\u001b[49m\n",
      "File \u001b[1;32m~\\anaconda3\\lib\\site-packages\\pandas\\core\\generic.py:4788\u001b[0m, in \u001b[0;36mNDFrame.drop\u001b[1;34m(self, labels, axis, index, columns, level, inplace, errors)\u001b[0m\n\u001b[0;32m   4786\u001b[0m \u001b[38;5;28;01mfor\u001b[39;00m axis, labels \u001b[38;5;129;01min\u001b[39;00m axes\u001b[38;5;241m.\u001b[39mitems():\n\u001b[0;32m   4787\u001b[0m     \u001b[38;5;28;01mif\u001b[39;00m labels \u001b[38;5;129;01mis\u001b[39;00m \u001b[38;5;129;01mnot\u001b[39;00m \u001b[38;5;28;01mNone\u001b[39;00m:\n\u001b[1;32m-> 4788\u001b[0m         obj \u001b[38;5;241m=\u001b[39m \u001b[43mobj\u001b[49m\u001b[38;5;241;43m.\u001b[39;49m\u001b[43m_drop_axis\u001b[49m\u001b[43m(\u001b[49m\u001b[43mlabels\u001b[49m\u001b[43m,\u001b[49m\u001b[43m \u001b[49m\u001b[43maxis\u001b[49m\u001b[43m,\u001b[49m\u001b[43m \u001b[49m\u001b[43mlevel\u001b[49m\u001b[38;5;241;43m=\u001b[39;49m\u001b[43mlevel\u001b[49m\u001b[43m,\u001b[49m\u001b[43m \u001b[49m\u001b[43merrors\u001b[49m\u001b[38;5;241;43m=\u001b[39;49m\u001b[43merrors\u001b[49m\u001b[43m)\u001b[49m\n\u001b[0;32m   4790\u001b[0m \u001b[38;5;28;01mif\u001b[39;00m inplace:\n\u001b[0;32m   4791\u001b[0m     \u001b[38;5;28mself\u001b[39m\u001b[38;5;241m.\u001b[39m_update_inplace(obj)\n",
      "File \u001b[1;32m~\\anaconda3\\lib\\site-packages\\pandas\\core\\generic.py:4830\u001b[0m, in \u001b[0;36mNDFrame._drop_axis\u001b[1;34m(self, labels, axis, level, errors, only_slice)\u001b[0m\n\u001b[0;32m   4828\u001b[0m         new_axis \u001b[38;5;241m=\u001b[39m axis\u001b[38;5;241m.\u001b[39mdrop(labels, level\u001b[38;5;241m=\u001b[39mlevel, errors\u001b[38;5;241m=\u001b[39merrors)\n\u001b[0;32m   4829\u001b[0m     \u001b[38;5;28;01melse\u001b[39;00m:\n\u001b[1;32m-> 4830\u001b[0m         new_axis \u001b[38;5;241m=\u001b[39m \u001b[43maxis\u001b[49m\u001b[38;5;241;43m.\u001b[39;49m\u001b[43mdrop\u001b[49m\u001b[43m(\u001b[49m\u001b[43mlabels\u001b[49m\u001b[43m,\u001b[49m\u001b[43m \u001b[49m\u001b[43merrors\u001b[49m\u001b[38;5;241;43m=\u001b[39;49m\u001b[43merrors\u001b[49m\u001b[43m)\u001b[49m\n\u001b[0;32m   4831\u001b[0m     indexer \u001b[38;5;241m=\u001b[39m axis\u001b[38;5;241m.\u001b[39mget_indexer(new_axis)\n\u001b[0;32m   4833\u001b[0m \u001b[38;5;66;03m# Case for non-unique axis\u001b[39;00m\n\u001b[0;32m   4834\u001b[0m \u001b[38;5;28;01melse\u001b[39;00m:\n",
      "File \u001b[1;32m~\\anaconda3\\lib\\site-packages\\pandas\\core\\indexes\\base.py:7070\u001b[0m, in \u001b[0;36mIndex.drop\u001b[1;34m(self, labels, errors)\u001b[0m\n\u001b[0;32m   7068\u001b[0m \u001b[38;5;28;01mif\u001b[39;00m mask\u001b[38;5;241m.\u001b[39many():\n\u001b[0;32m   7069\u001b[0m     \u001b[38;5;28;01mif\u001b[39;00m errors \u001b[38;5;241m!=\u001b[39m \u001b[38;5;124m\"\u001b[39m\u001b[38;5;124mignore\u001b[39m\u001b[38;5;124m\"\u001b[39m:\n\u001b[1;32m-> 7070\u001b[0m         \u001b[38;5;28;01mraise\u001b[39;00m \u001b[38;5;167;01mKeyError\u001b[39;00m(\u001b[38;5;124mf\u001b[39m\u001b[38;5;124m\"\u001b[39m\u001b[38;5;132;01m{\u001b[39;00mlabels[mask]\u001b[38;5;241m.\u001b[39mtolist()\u001b[38;5;132;01m}\u001b[39;00m\u001b[38;5;124m not found in axis\u001b[39m\u001b[38;5;124m\"\u001b[39m)\n\u001b[0;32m   7071\u001b[0m     indexer \u001b[38;5;241m=\u001b[39m indexer[\u001b[38;5;241m~\u001b[39mmask]\n\u001b[0;32m   7072\u001b[0m \u001b[38;5;28;01mreturn\u001b[39;00m \u001b[38;5;28mself\u001b[39m\u001b[38;5;241m.\u001b[39mdelete(indexer)\n",
      "\u001b[1;31mKeyError\u001b[0m: \"['City', 'Dateofjoining'] not found in axis\""
     ]
    }
   ],
   "source": [
    "# RUN ONLY IF USE LABEL ENCODING\n",
    "\n",
    "X_train = X_train.drop(['City','Dateofjoining'],axis=1)\n",
    "X_val = X_val.drop(['City','Dateofjoining'],axis=1)\n",
    "X_test = X_test.drop(['City','Dateofjoining'],axis=1)"
   ]
  },
  {
   "cell_type": "code",
   "execution_count": null,
   "id": "56074544",
   "metadata": {},
   "outputs": [],
   "source": [
    "X_train"
   ]
  },
  {
   "cell_type": "code",
   "execution_count": 22,
   "id": "1f8f8793",
   "metadata": {},
   "outputs": [
    {
     "data": {
      "image/png": "[encoded data removed]",
      "text/plain": [
       "<Figure size 1080x504 with 2 Axes>"
      ]
     },
     "metadata": {
      "needs_background": "light"
     },
     "output_type": "display_data"
    }
   ],
   "source": [
    "plt.figure(figsize=(15, 7))\n",
    "\n",
    "sns.heatmap(X_train.corr(method=\"pearson\"), annot=True, cmap=\"crest\")\n",
    "plt.show()"
   ]
  },
  {
   "cell_type": "code",
   "execution_count": null,
   "id": "d7f67b47",
   "metadata": {},
   "outputs": [],
   "source": []
  },
  {
   "cell_type": "markdown",
   "id": "bffbb48c",
   "metadata": {},
   "source": [
    "#### SCALING THE DATASET"
   ]
  },
  {
   "cell_type": "code",
   "execution_count": 18,
   "id": "4ae68f0f",
   "metadata": {},
   "outputs": [],
   "source": [
    "# SAVING THE COLUMN NAMES\n",
    "train_col = X_train.columns\n",
    "val_col = X_val.columns\n",
    "test_col = X_test.columns"
   ]
  },
  {
   "cell_type": "code",
   "execution_count": null,
   "id": "441e45ef",
   "metadata": {},
   "outputs": [],
   "source": [
    "# FITTING, TRANSFORMING ON TRAIN SET AND TRANSFORMING USING ITS VALUES TO VALIDATION AND TEST SET.\n",
    "\n",
    "from sklearn.preprocessing import StandardScaler\n",
    "\n",
    "scaler = StandardScaler()\n",
    "X_train = scaler.fit_transform(X_train)\n",
    "X_val = scaler.transform(X_val)\n",
    "X_test = scaler.transform(X_test)"
   ]
  },
  {
   "cell_type": "code",
   "execution_count": 19,
   "id": "cadf9a07",
   "metadata": {},
   "outputs": [],
   "source": [
    "# RETREVING BACK THE COLUMNS\n",
    "\n",
    "X_train = pd.DataFrame(X_train)\n",
    "X_train.columns = train_col\n",
    "\n",
    "X_val = pd.DataFrame(X_val)\n",
    "X_val.columns = val_col\n",
    "\n",
    "X_test = pd.DataFrame(X_test)\n",
    "X_test.columns = test_col"
   ]
  },
  {
   "cell_type": "code",
   "execution_count": null,
   "id": "6e09d367",
   "metadata": {},
   "outputs": [],
   "source": []
  },
  {
   "cell_type": "markdown",
   "id": "fe3b5b98",
   "metadata": {},
   "source": [
    "#### USING RANDOM FORREST"
   ]
  },
  {
   "cell_type": "code",
   "execution_count": 19,
   "id": "88441862",
   "metadata": {},
   "outputs": [],
   "source": [
    "from sklearn.ensemble import RandomForestClassifier\n",
    "from sklearn.metrics import accuracy_score, classification_report, confusion_matrix"
   ]
  },
  {
   "cell_type": "markdown",
   "id": "be346386",
   "metadata": {},
   "source": [
    "#### BASE MODEL"
   ]
  },
  {
   "cell_type": "code",
   "execution_count": 20,
   "id": "b8e7db4f",
   "metadata": {},
   "outputs": [
    {
     "data": {
      "text/html": [
       "<style>#sk-container-id-1 {\n",
       "  /* Definition of color scheme common for light and dark mode */\n",
       "  --sklearn-color-text: #000;\n",
       "  --sklearn-color-text-muted: #666;\n",
       "  --sklearn-color-line: gray;\n",
       "  /* Definition of color scheme for unfitted estimators */\n",
       "  --sklearn-color-unfitted-level-0: #fff5e6;\n",
       "  --sklearn-color-unfitted-level-1: #f6e4d2;\n",
       "  --sklearn-color-unfitted-level-2: #ffe0b3;\n",
       "  --sklearn-color-unfitted-level-3: chocolate;\n",
       "  /* Definition of color scheme for fitted estimators */\n",
       "  --sklearn-color-fitted-level-0: #f0f8ff;\n",
       "  --sklearn-color-fitted-level-1: #d4ebff;\n",
       "  --sklearn-color-fitted-level-2: #b3dbfd;\n",
       "  --sklearn-color-fitted-level-3: cornflowerblue;\n",
       "\n",
       "  /* Specific color for light theme */\n",
       "  --sklearn-color-text-on-default-background: var(--sg-text-color, var(--theme-code-foreground, var(--jp-content-font-color1, black)));\n",
       "  --sklearn-color-background: var(--sg-background-color, var(--theme-background, var(--jp-layout-color0, white)));\n",
       "  --sklearn-color-border-box: var(--sg-text-color, var(--theme-code-foreground, var(--jp-content-font-color1, black)));\n",
       "  --sklearn-color-icon: #696969;\n",
       "\n",
       "  @media (prefers-color-scheme: dark) {\n",
       "    /* Redefinition of color scheme for dark theme */\n",
       "    --sklearn-color-text-on-default-background: var(--sg-text-color, var(--theme-code-foreground, var(--jp-content-font-color1, white)));\n",
       "    --sklearn-color-background: var(--sg-background-color, var(--theme-background, var(--jp-layout-color0, #111)));\n",
       "    --sklearn-color-border-box: var(--sg-text-color, var(--theme-code-foreground, var(--jp-content-font-color1, white)));\n",
       "    --sklearn-color-icon: #878787;\n",
       "  }\n",
       "}\n",
       "\n",
       "#sk-container-id-1 {\n",
       "  color: var(--sklearn-color-text);\n",
       "}\n",
       "\n",
       "#sk-container-id-1 pre {\n",
       "  padding: 0;\n",
       "}\n",
       "\n",
       "#sk-container-id-1 input.sk-hidden--visually {\n",
       "  border: 0;\n",
       "  clip: rect(1px 1px 1px 1px);\n",
       "  clip: rect(1px, 1px, 1px, 1px);\n",
       "  height: 1px;\n",
       "  margin: -1px;\n",
       "  overflow: hidden;\n",
       "  padding: 0;\n",
       "  position: absolute;\n",
       "  width: 1px;\n",
       "}\n",
       "\n",
       "#sk-container-id-1 div.sk-dashed-wrapped {\n",
       "  border: 1px dashed var(--sklearn-color-line);\n",
       "  margin: 0 0.4em 0.5em 0.4em;\n",
       "  box-sizing: border-box;\n",
       "  padding-bottom: 0.4em;\n",
       "  background-color: var(--sklearn-color-background);\n",
       "}\n",
       "\n",
       "#sk-container-id-1 div.sk-container {\n",
       "  /* jupyter's `normalize.less` sets `[hidden] { display: none; }`\n",
       "     but bootstrap.min.css set `[hidden] { display: none !important; }`\n",
       "     so we also need the `!important` here to be able to override the\n",
       "     default hidden behavior on the sphinx rendered scikit-learn.org.\n",
       "     See: https://github.com/scikit-learn/scikit-learn/issues/21755 */\n",
       "  display: inline-block !important;\n",
       "  position: relative;\n",
       "}\n",
       "\n",
       "#sk-container-id-1 div.sk-text-repr-fallback {\n",
       "  display: none;\n",
       "}\n",
       "\n",
       "div.sk-parallel-item,\n",
       "div.sk-serial,\n",
       "div.sk-item {\n",
       "  /* draw centered vertical line to link estimators */\n",
       "  background-image: linear-gradient(var(--sklearn-color-text-on-default-background), var(--sklearn-color-text-on-default-background));\n",
       "  background-size: 2px 100%;\n",
       "  background-repeat: no-repeat;\n",
       "  background-position: center center;\n",
       "}\n",
       "\n",
       "/* Parallel-specific style estimator block */\n",
       "\n",
       "#sk-container-id-1 div.sk-parallel-item::after {\n",
       "  content: \"\";\n",
       "  width: 100%;\n",
       "  border-bottom: 2px solid var(--sklearn-color-text-on-default-background);\n",
       "  flex-grow: 1;\n",
       "}\n",
       "\n",
       "#sk-container-id-1 div.sk-parallel {\n",
       "  display: flex;\n",
       "  align-items: stretch;\n",
       "  justify-content: center;\n",
       "  background-color: var(--sklearn-color-background);\n",
       "  position: relative;\n",
       "}\n",
       "\n",
       "#sk-container-id-1 div.sk-parallel-item {\n",
       "  display: flex;\n",
       "  flex-direction: column;\n",
       "}\n",
       "\n",
       "#sk-container-id-1 div.sk-parallel-item:first-child::after {\n",
       "  align-self: flex-end;\n",
       "  width: 50%;\n",
       "}\n",
       "\n",
       "#sk-container-id-1 div.sk-parallel-item:last-child::after {\n",
       "  align-self: flex-start;\n",
       "  width: 50%;\n",
       "}\n",
       "\n",
       "#sk-container-id-1 div.sk-parallel-item:only-child::after {\n",
       "  width: 0;\n",
       "}\n",
       "\n",
       "/* Serial-specific style estimator block */\n",
       "\n",
       "#sk-container-id-1 div.sk-serial {\n",
       "  display: flex;\n",
       "  flex-direction: column;\n",
       "  align-items: center;\n",
       "  background-color: var(--sklearn-color-background);\n",
       "  padding-right: 1em;\n",
       "  padding-left: 1em;\n",
       "}\n",
       "\n",
       "\n",
       "/* Toggleable style: style used for estimator/Pipeline/ColumnTransformer box that is\n",
       "clickable and can be expanded/collapsed.\n",
       "- Pipeline and ColumnTransformer use this feature and define the default style\n",
       "- Estimators will overwrite some part of the style using the `sk-estimator` class\n",
       "*/\n",
       "\n",
       "/* Pipeline and ColumnTransformer style (default) */\n",
       "\n",
       "#sk-container-id-1 div.sk-toggleable {\n",
       "  /* Default theme specific background. It is overwritten whether we have a\n",
       "  specific estimator or a Pipeline/ColumnTransformer */\n",
       "  background-color: var(--sklearn-color-background);\n",
       "}\n",
       "\n",
       "/* Toggleable label */\n",
       "#sk-container-id-1 label.sk-toggleable__label {\n",
       "  cursor: pointer;\n",
       "  display: flex;\n",
       "  width: 100%;\n",
       "  margin-bottom: 0;\n",
       "  padding: 0.5em;\n",
       "  box-sizing: border-box;\n",
       "  text-align: center;\n",
       "  align-items: start;\n",
       "  justify-content: space-between;\n",
       "  gap: 0.5em;\n",
       "}\n",
       "\n",
       "#sk-container-id-1 label.sk-toggleable__label .caption {\n",
       "  font-size: 0.6rem;\n",
       "  font-weight: lighter;\n",
       "  color: var(--sklearn-color-text-muted);\n",
       "}\n",
       "\n",
       "#sk-container-id-1 label.sk-toggleable__label-arrow:before {\n",
       "  /* Arrow on the left of the label */\n",
       "  content: \"▸\";\n",
       "  float: left;\n",
       "  margin-right: 0.25em;\n",
       "  color: var(--sklearn-color-icon);\n",
       "}\n",
       "\n",
       "#sk-container-id-1 label.sk-toggleable__label-arrow:hover:before {\n",
       "  color: var(--sklearn-color-text);\n",
       "}\n",
       "\n",
       "/* Toggleable content - dropdown */\n",
       "\n",
       "#sk-container-id-1 div.sk-toggleable__content {\n",
       "  max-height: 0;\n",
       "  max-width: 0;\n",
       "  overflow: hidden;\n",
       "  text-align: left;\n",
       "  /* unfitted */\n",
       "  background-color: var(--sklearn-color-unfitted-level-0);\n",
       "}\n",
       "\n",
       "#sk-container-id-1 div.sk-toggleable__content.fitted {\n",
       "  /* fitted */\n",
       "  background-color: var(--sklearn-color-fitted-level-0);\n",
       "}\n",
       "\n",
       "#sk-container-id-1 div.sk-toggleable__content pre {\n",
       "  margin: 0.2em;\n",
       "  border-radius: 0.25em;\n",
       "  color: var(--sklearn-color-text);\n",
       "  /* unfitted */\n",
       "  background-color: var(--sklearn-color-unfitted-level-0);\n",
       "}\n",
       "\n",
       "#sk-container-id-1 div.sk-toggleable__content.fitted pre {\n",
       "  /* unfitted */\n",
       "  background-color: var(--sklearn-color-fitted-level-0);\n",
       "}\n",
       "\n",
       "#sk-container-id-1 input.sk-toggleable__control:checked~div.sk-toggleable__content {\n",
       "  /* Expand drop-down */\n",
       "  max-height: 200px;\n",
       "  max-width: 100%;\n",
       "  overflow: auto;\n",
       "}\n",
       "\n",
       "#sk-container-id-1 input.sk-toggleable__control:checked~label.sk-toggleable__label-arrow:before {\n",
       "  content: \"▾\";\n",
       "}\n",
       "\n",
       "/* Pipeline/ColumnTransformer-specific style */\n",
       "\n",
       "#sk-container-id-1 div.sk-label input.sk-toggleable__control:checked~label.sk-toggleable__label {\n",
       "  color: var(--sklearn-color-text);\n",
       "  background-color: var(--sklearn-color-unfitted-level-2);\n",
       "}\n",
       "\n",
       "#sk-container-id-1 div.sk-label.fitted input.sk-toggleable__control:checked~label.sk-toggleable__label {\n",
       "  background-color: var(--sklearn-color-fitted-level-2);\n",
       "}\n",
       "\n",
       "/* Estimator-specific style */\n",
       "\n",
       "/* Colorize estimator box */\n",
       "#sk-container-id-1 div.sk-estimator input.sk-toggleable__control:checked~label.sk-toggleable__label {\n",
       "  /* unfitted */\n",
       "  background-color: var(--sklearn-color-unfitted-level-2);\n",
       "}\n",
       "\n",
       "#sk-container-id-1 div.sk-estimator.fitted input.sk-toggleable__control:checked~label.sk-toggleable__label {\n",
       "  /* fitted */\n",
       "  background-color: var(--sklearn-color-fitted-level-2);\n",
       "}\n",
       "\n",
       "#sk-container-id-1 div.sk-label label.sk-toggleable__label,\n",
       "#sk-container-id-1 div.sk-label label {\n",
       "  /* The background is the default theme color */\n",
       "  color: var(--sklearn-color-text-on-default-background);\n",
       "}\n",
       "\n",
       "/* On hover, darken the color of the background */\n",
       "#sk-container-id-1 div.sk-label:hover label.sk-toggleable__label {\n",
       "  color: var(--sklearn-color-text);\n",
       "  background-color: var(--sklearn-color-unfitted-level-2);\n",
       "}\n",
       "\n",
       "/* Label box, darken color on hover, fitted */\n",
       "#sk-container-id-1 div.sk-label.fitted:hover label.sk-toggleable__label.fitted {\n",
       "  color: var(--sklearn-color-text);\n",
       "  background-color: var(--sklearn-color-fitted-level-2);\n",
       "}\n",
       "\n",
       "/* Estimator label */\n",
       "\n",
       "#sk-container-id-1 div.sk-label label {\n",
       "  font-family: monospace;\n",
       "  font-weight: bold;\n",
       "  display: inline-block;\n",
       "  line-height: 1.2em;\n",
       "}\n",
       "\n",
       "#sk-container-id-1 div.sk-label-container {\n",
       "  text-align: center;\n",
       "}\n",
       "\n",
       "/* Estimator-specific */\n",
       "#sk-container-id-1 div.sk-estimator {\n",
       "  font-family: monospace;\n",
       "  border: 1px dotted var(--sklearn-color-border-box);\n",
       "  border-radius: 0.25em;\n",
       "  box-sizing: border-box;\n",
       "  margin-bottom: 0.5em;\n",
       "  /* unfitted */\n",
       "  background-color: var(--sklearn-color-unfitted-level-0);\n",
       "}\n",
       "\n",
       "#sk-container-id-1 div.sk-estimator.fitted {\n",
       "  /* fitted */\n",
       "  background-color: var(--sklearn-color-fitted-level-0);\n",
       "}\n",
       "\n",
       "/* on hover */\n",
       "#sk-container-id-1 div.sk-estimator:hover {\n",
       "  /* unfitted */\n",
       "  background-color: var(--sklearn-color-unfitted-level-2);\n",
       "}\n",
       "\n",
       "#sk-container-id-1 div.sk-estimator.fitted:hover {\n",
       "  /* fitted */\n",
       "  background-color: var(--sklearn-color-fitted-level-2);\n",
       "}\n",
       "\n",
       "/* Specification for estimator info (e.g. \"i\" and \"?\") */\n",
       "\n",
       "/* Common style for \"i\" and \"?\" */\n",
       "\n",
       ".sk-estimator-doc-link,\n",
       "a:link.sk-estimator-doc-link,\n",
       "a:visited.sk-estimator-doc-link {\n",
       "  float: right;\n",
       "  font-size: smaller;\n",
       "  line-height: 1em;\n",
       "  font-family: monospace;\n",
       "  background-color: var(--sklearn-color-background);\n",
       "  border-radius: 1em;\n",
       "  height: 1em;\n",
       "  width: 1em;\n",
       "  text-decoration: none !important;\n",
       "  margin-left: 0.5em;\n",
       "  text-align: center;\n",
       "  /* unfitted */\n",
       "  border: var(--sklearn-color-unfitted-level-1) 1pt solid;\n",
       "  color: var(--sklearn-color-unfitted-level-1);\n",
       "}\n",
       "\n",
       ".sk-estimator-doc-link.fitted,\n",
       "a:link.sk-estimator-doc-link.fitted,\n",
       "a:visited.sk-estimator-doc-link.fitted {\n",
       "  /* fitted */\n",
       "  border: var(--sklearn-color-fitted-level-1) 1pt solid;\n",
       "  color: var(--sklearn-color-fitted-level-1);\n",
       "}\n",
       "\n",
       "/* On hover */\n",
       "div.sk-estimator:hover .sk-estimator-doc-link:hover,\n",
       ".sk-estimator-doc-link:hover,\n",
       "div.sk-label-container:hover .sk-estimator-doc-link:hover,\n",
       ".sk-estimator-doc-link:hover {\n",
       "  /* unfitted */\n",
       "  background-color: var(--sklearn-color-unfitted-level-3);\n",
       "  color: var(--sklearn-color-background);\n",
       "  text-decoration: none;\n",
       "}\n",
       "\n",
       "div.sk-estimator.fitted:hover .sk-estimator-doc-link.fitted:hover,\n",
       ".sk-estimator-doc-link.fitted:hover,\n",
       "div.sk-label-container:hover .sk-estimator-doc-link.fitted:hover,\n",
       ".sk-estimator-doc-link.fitted:hover {\n",
       "  /* fitted */\n",
       "  background-color: var(--sklearn-color-fitted-level-3);\n",
       "  color: var(--sklearn-color-background);\n",
       "  text-decoration: none;\n",
       "}\n",
       "\n",
       "/* Span, style for the box shown on hovering the info icon */\n",
       ".sk-estimator-doc-link span {\n",
       "  display: none;\n",
       "  z-index: 9999;\n",
       "  position: relative;\n",
       "  font-weight: normal;\n",
       "  right: .2ex;\n",
       "  padding: .5ex;\n",
       "  margin: .5ex;\n",
       "  width: min-content;\n",
       "  min-width: 20ex;\n",
       "  max-width: 50ex;\n",
       "  color: var(--sklearn-color-text);\n",
       "  box-shadow: 2pt 2pt 4pt #999;\n",
       "  /* unfitted */\n",
       "  background: var(--sklearn-color-unfitted-level-0);\n",
       "  border: .5pt solid var(--sklearn-color-unfitted-level-3);\n",
       "}\n",
       "\n",
       ".sk-estimator-doc-link.fitted span {\n",
       "  /* fitted */\n",
       "  background: var(--sklearn-color-fitted-level-0);\n",
       "  border: var(--sklearn-color-fitted-level-3);\n",
       "}\n",
       "\n",
       ".sk-estimator-doc-link:hover span {\n",
       "  display: block;\n",
       "}\n",
       "\n",
       "/* \"?\"-specific style due to the `<a>` HTML tag */\n",
       "\n",
       "#sk-container-id-1 a.estimator_doc_link {\n",
       "  float: right;\n",
       "  font-size: 1rem;\n",
       "  line-height: 1em;\n",
       "  font-family: monospace;\n",
       "  background-color: var(--sklearn-color-background);\n",
       "  border-radius: 1rem;\n",
       "  height: 1rem;\n",
       "  width: 1rem;\n",
       "  text-decoration: none;\n",
       "  /* unfitted */\n",
       "  color: var(--sklearn-color-unfitted-level-1);\n",
       "  border: var(--sklearn-color-unfitted-level-1) 1pt solid;\n",
       "}\n",
       "\n",
       "#sk-container-id-1 a.estimator_doc_link.fitted {\n",
       "  /* fitted */\n",
       "  border: var(--sklearn-color-fitted-level-1) 1pt solid;\n",
       "  color: var(--sklearn-color-fitted-level-1);\n",
       "}\n",
       "\n",
       "/* On hover */\n",
       "#sk-container-id-1 a.estimator_doc_link:hover {\n",
       "  /* unfitted */\n",
       "  background-color: var(--sklearn-color-unfitted-level-3);\n",
       "  color: var(--sklearn-color-background);\n",
       "  text-decoration: none;\n",
       "}\n",
       "\n",
       "#sk-container-id-1 a.estimator_doc_link.fitted:hover {\n",
       "  /* fitted */\n",
       "  background-color: var(--sklearn-color-fitted-level-3);\n",
       "}\n",
       "</style><div id=\"sk-container-id-1\" class=\"sk-top-container\"><div class=\"sk-text-repr-fallback\"><pre>RandomForestClassifier()</pre><b>In a Jupyter environment, please rerun this cell to show the HTML representation or trust the notebook. <br />On GitHub, the HTML representation is unable to render, please try loading this page with nbviewer.org.</b></div><div class=\"sk-container\" hidden><div class=\"sk-item\"><div class=\"sk-estimator fitted sk-toggleable\"><input class=\"sk-toggleable__control sk-hidden--visually\" id=\"sk-estimator-id-1\" type=\"checkbox\" checked><label for=\"sk-estimator-id-1\" class=\"sk-toggleable__label fitted sk-toggleable__label-arrow\"><div><div>RandomForestClassifier</div></div><div><a class=\"sk-estimator-doc-link fitted\" rel=\"noreferrer\" target=\"_blank\" href=\"https://scikit-learn.org/1.6/modules/generated/sklearn.ensemble.RandomForestClassifier.html\">?<span>Documentation for RandomForestClassifier</span></a><span class=\"sk-estimator-doc-link fitted\">i<span>Fitted</span></span></div></label><div class=\"sk-toggleable__content fitted\"><pre>RandomForestClassifier()</pre></div> </div></div></div></div>"
      ],
      "text/plain": [
       "RandomForestClassifier()"
      ]
     },
     "execution_count": 20,
     "metadata": {},
     "output_type": "execute_result"
    }
   ],
   "source": [
    "random_forest_base_model = RandomForestClassifier()\n",
    "random_forest_base_model.fit(X_train,y_train)\n"
   ]
  },
  {
   "cell_type": "code",
   "execution_count": 21,
   "id": "0a9f603d",
   "metadata": {},
   "outputs": [
    {
     "name": "stdout",
     "output_type": "stream",
     "text": [
      "Classification Report:\n",
      "               precision    recall  f1-score   support\n",
      "\n",
      "           0       1.00      0.78      0.87       535\n",
      "           1       0.90      1.00      0.95      1131\n",
      "\n",
      "    accuracy                           0.93      1666\n",
      "   macro avg       0.95      0.89      0.91      1666\n",
      "weighted avg       0.94      0.93      0.93      1666\n",
      "\n",
      "Validation accuracy: 0.9285714285714286\n"
     ]
    }
   ],
   "source": [
    "y_pred_base_rf_tr = random_forest_base_model.predict(X_train)\n",
    "print(\"Classification Report:\\n\", classification_report(y_train, y_pred_base_rf_tr))\n",
    "print(\"Validation accuracy:\", accuracy_score(y_train, y_pred_base_rf_tr))"
   ]
  },
  {
   "cell_type": "code",
   "execution_count": null,
   "id": "3db29583",
   "metadata": {},
   "outputs": [],
   "source": []
  },
  {
   "cell_type": "code",
   "execution_count": 22,
   "id": "9df1705c",
   "metadata": {},
   "outputs": [
    {
     "name": "stdout",
     "output_type": "stream",
     "text": [
      "Classification Report:\n",
      "               precision    recall  f1-score   support\n",
      "\n",
      "           0       0.72      0.50      0.59       115\n",
      "           1       0.79      0.90      0.85       242\n",
      "\n",
      "    accuracy                           0.78       357\n",
      "   macro avg       0.75      0.70      0.72       357\n",
      "weighted avg       0.77      0.78      0.76       357\n",
      "\n",
      "Validation accuracy: 0.7759103641456583\n"
     ]
    }
   ],
   "source": [
    "y_pred_base_rf_val = random_forest_base_model.predict(X_val)\n",
    "print(\"Classification Report:\\n\", classification_report(y_val, y_pred_base_rf_val))\n",
    "print(\"Validation accuracy:\", accuracy_score(y_val, y_pred_base_rf_val))"
   ]
  },
  {
   "cell_type": "markdown",
   "id": "6647acc3",
   "metadata": {},
   "source": [
    "- BASE MODEL OF RANDOM FORREST WITH NO HYPERPARAMETER TUNED GIVES 81% OF ACCURACY\n",
    "- NOTE: DATASET wrt TARGET VARIABLE IS NOT BALANCED"
   ]
  },
  {
   "cell_type": "code",
   "execution_count": null,
   "id": "85d3d8cf",
   "metadata": {},
   "outputs": [],
   "source": []
  },
  {
   "cell_type": "markdown",
   "id": "ecfaadcc",
   "metadata": {},
   "source": [
    "#### TUNED MODEL"
   ]
  },
  {
   "cell_type": "code",
   "execution_count": 19,
   "id": "635ddde2",
   "metadata": {},
   "outputs": [],
   "source": [
    "from sklearn.model_selection import GridSearchCV, StratifiedKFold"
   ]
  },
  {
   "cell_type": "code",
   "execution_count": 26,
   "id": "15e13e7c",
   "metadata": {},
   "outputs": [],
   "source": [
    "# Defining parameters -\n",
    "\n",
    "params = {\n",
    "          'n_estimators' : [100,150,200,400],\n",
    "          'max_depth' : [3,4,5,6,7],\n",
    "          'criterion' : ['gini', 'entropy'],\n",
    "          'bootstrap' : [True, False],\n",
    "          'max_features' : [1,2,3]}\n",
    "\n",
    "# Define Stratified K-Fold for cross-validation\n",
    "\n",
    "kf = StratifiedKFold(n_splits=5, shuffle=True, random_state=42)  # 5 folds\n",
    "\n",
    "# FITTING INTO GRIDSEARCH FOR FINDING BEST PARAMETER\n",
    "grid_search = GridSearchCV(estimator = RandomForestClassifier(class_weight='balanced',verbose=1),\n",
    "                    param_grid = params, scoring = 'f1_weighted', cv = kf, n_jobs=-1)\n",
    "\n",
    "grid_search.fit(X_train, y_train)\n",
    "best_model_rf = grid_search.best_estimator_\n",
    "y_pred_best_rf_val = best_model_rf.predict(X_val)\n",
    "print(\"Classification Report:\\n\", classification_report(y_val, y_pred_best_rf_val))\n",
    "\n",
    "y_pred_best_rf_test = best_model_rf.predict(X_test)\n",
    "print(\"Classification Report:\\n\", classification_report(y_test, y_pred_best_rf_test))"
   ]
  },
  {
   "cell_type": "code",
   "execution_count": 33,
   "id": "43eac154",
   "metadata": {},
   "outputs": [
    {
     "name": "stdout",
     "output_type": "stream",
     "text": [
      "Classification Report:\n",
      "               precision    recall  f1-score   support\n",
      "\n",
      "           0       0.73      0.54      0.62       115\n",
      "           1       0.81      0.91      0.85       243\n",
      "\n",
      "    accuracy                           0.79       358\n",
      "   macro avg       0.77      0.72      0.74       358\n",
      "weighted avg       0.78      0.79      0.78       358\n",
      "\n"
     ]
    },
    {
     "name": "stderr",
     "output_type": "stream",
     "text": [
      "[Parallel(n_jobs=1)]: Done  49 tasks      | elapsed:    0.0s\n"
     ]
    }
   ],
   "source": [
    "# TESTING ON TEST DATASET\n",
    "y_pred_best_rf_test = best_model_rf.predict(X_test)\n",
    "print(\"Classification Report:\\n\", classification_report(y_test, y_pred_best_rf_test))"
   ]
  },
  {
   "cell_type": "code",
   "execution_count": null,
   "id": "6456591c",
   "metadata": {},
   "outputs": [],
   "source": []
  },
  {
   "cell_type": "markdown",
   "id": "2b2268e2",
   "metadata": {},
   "source": [
    "### USING DECISION TREE"
   ]
  },
  {
   "cell_type": "code",
   "execution_count": 23,
   "id": "90f840e4",
   "metadata": {},
   "outputs": [
    {
     "name": "stdout",
     "output_type": "stream",
     "text": [
      "              precision    recall  f1-score   support\n",
      "\n",
      "           0       1.00      0.78      0.87       535\n",
      "           1       0.90      1.00      0.95      1131\n",
      "\n",
      "    accuracy                           0.93      1666\n",
      "   macro avg       0.95      0.89      0.91      1666\n",
      "weighted avg       0.94      0.93      0.93      1666\n",
      "\n",
      "---------------------------------------------------------------------\n",
      "              precision    recall  f1-score   support\n",
      "\n",
      "           0       0.72      0.50      0.59       115\n",
      "           1       0.79      0.90      0.85       242\n",
      "\n",
      "    accuracy                           0.78       357\n",
      "   macro avg       0.75      0.70      0.72       357\n",
      "weighted avg       0.77      0.78      0.76       357\n",
      "\n"
     ]
    }
   ],
   "source": [
    "from sklearn.tree import DecisionTreeClassifier\n",
    "from sklearn.metrics import f1_score\n",
    "\n",
    "\n",
    "# Create base Decision Tree classifer object\n",
    "dt_base_model = DecisionTreeClassifier()\n",
    "\n",
    "# Train Decision Tree Classifer\n",
    "dt_base_model.fit(X_train,y_train)\n",
    "\n",
    "#Predict the response for test dataset\n",
    "y_pred_base_dt_tr = dt_base_model.predict(X_train)\n",
    "y_pred_base_dt_val = dt_base_model.predict(X_val)\n",
    "\n",
    "print(classification_report(y_train, y_pred_base_dt_tr))\n",
    "print('---------------------------------------------------------------------')\n",
    "print(classification_report(y_val, y_pred_base_dt_val))\n"
   ]
  },
  {
   "cell_type": "code",
   "execution_count": 39,
   "id": "f8f4aef9",
   "metadata": {},
   "outputs": [],
   "source": [
    "# HYPERPARAMETER TUNING"
   ]
  },
  {
   "cell_type": "code",
   "execution_count": 31,
   "id": "77d46878",
   "metadata": {},
   "outputs": [],
   "source": [
    "param_grid_dt = {\n",
    "    'max_depth': [3, 5, 10],  \n",
    "    'min_samples_split': [2, 5, 6],  \n",
    "    'min_samples_leaf': [1, 2, 5],  \n",
    "    'criterion': ['gini', 'entropy'] }"
   ]
  },
  {
   "cell_type": "code",
   "execution_count": 32,
   "id": "3f0e38c9",
   "metadata": {},
   "outputs": [],
   "source": [
    "# Define Stratified K-Fold for cross-validation\n",
    "\n",
    "kf = StratifiedKFold(n_splits=5, shuffle=True, random_state=42)  # 5 folds"
   ]
  },
  {
   "cell_type": "code",
   "execution_count": 33,
   "id": "47cf4598",
   "metadata": {},
   "outputs": [
    {
     "name": "stdout",
     "output_type": "stream",
     "text": [
      "Fitting 5 folds for each of 54 candidates, totalling 270 fits\n"
     ]
    },
    {
     "data": {
      "text/plain": [
       "GridSearchCV(cv=StratifiedKFold(n_splits=5, random_state=42, shuffle=True),\n",
       "             estimator=DecisionTreeClassifier(class_weight='balanced',\n",
       "                                              random_state=42),\n",
       "             n_jobs=-1,\n",
       "             param_grid={'criterion': ['gini', 'entropy'],\n",
       "                         'max_depth': [3, 5, 10], 'min_samples_leaf': [1, 2, 5],\n",
       "                         'min_samples_split': [2, 5, 6]},\n",
       "             scoring='recall', verbose=1)"
      ]
     },
     "execution_count": 33,
     "metadata": {},
     "output_type": "execute_result"
    }
   ],
   "source": [
    "from sklearn.metrics import f1_score\n",
    "\n",
    "# Initialize Decision Tree Classifier\n",
    "dt = DecisionTreeClassifier(class_weight='balanced',random_state=42)\n",
    "\n",
    "# Initialize GridSearchCV\n",
    "grid_search_dt = GridSearchCV(dt, param_grid_dt, cv=kf, scoring='recall', n_jobs=-1, verbose=1)\n",
    "\n",
    "# Fit on training data\n",
    "grid_search_dt.fit(X_train, y_train)"
   ]
  },
  {
   "cell_type": "code",
   "execution_count": 34,
   "id": "f9d606ff",
   "metadata": {},
   "outputs": [
    {
     "name": "stdout",
     "output_type": "stream",
     "text": [
      "Best Parameters: {'criterion': 'entropy', 'max_depth': 10, 'min_samples_leaf': 1, 'min_samples_split': 2}\n",
      "Best F1-Score: 0.8275544813067718\n"
     ]
    }
   ],
   "source": [
    "\n",
    "# Print best parameters and best F1-score\n",
    "print(\"Best Parameters:\", grid_search_dt.best_params_)\n",
    "print(\"Best F1-Score:\", grid_search_dt.best_score_)"
   ]
  },
  {
   "cell_type": "code",
   "execution_count": 35,
   "id": "c9ebdd26",
   "metadata": {},
   "outputs": [],
   "source": [
    "# Getting the best model found by GridSearchCV\n",
    "\n",
    "best_dt = grid_search_dt.best_estimator_"
   ]
  },
  {
   "cell_type": "code",
   "execution_count": 36,
   "id": "3e94ac61",
   "metadata": {},
   "outputs": [],
   "source": [
    "y_pred_tuned_dt_val = best_dt.predict(X_val)"
   ]
  },
  {
   "cell_type": "code",
   "execution_count": 37,
   "id": "9cda8403",
   "metadata": {},
   "outputs": [
    {
     "name": "stdout",
     "output_type": "stream",
     "text": [
      "              precision    recall  f1-score   support\n",
      "\n",
      "           0       0.56      0.63      0.59       115\n",
      "           1       0.81      0.76      0.79       242\n",
      "\n",
      "    accuracy                           0.72       357\n",
      "   macro avg       0.69      0.70      0.69       357\n",
      "weighted avg       0.73      0.72      0.72       357\n",
      "\n"
     ]
    }
   ],
   "source": [
    "print(classification_report(y_val, y_pred_tuned_dt_val))"
   ]
  },
  {
   "cell_type": "code",
   "execution_count": null,
   "id": "60349eb0",
   "metadata": {},
   "outputs": [],
   "source": []
  },
  {
   "cell_type": "markdown",
   "id": "373a40b4",
   "metadata": {},
   "source": [
    "### USING XGBOOST"
   ]
  },
  {
   "cell_type": "code",
   "execution_count": 24,
   "id": "e6edb489",
   "metadata": {},
   "outputs": [],
   "source": [
    "from xgboost import XGBClassifier"
   ]
  },
  {
   "cell_type": "code",
   "execution_count": 25,
   "id": "a8ecd7b1",
   "metadata": {},
   "outputs": [
    {
     "name": "stdout",
     "output_type": "stream",
     "text": [
      "              precision    recall  f1-score   support\n",
      "\n",
      "           0       0.73      0.48      0.58       115\n",
      "           1       0.79      0.92      0.85       242\n",
      "\n",
      "    accuracy                           0.78       357\n",
      "   macro avg       0.76      0.70      0.71       357\n",
      "weighted avg       0.77      0.78      0.76       357\n",
      "\n"
     ]
    }
   ],
   "source": [
    "# USING BASE XGBOOST \n",
    "\n",
    "xgb_model_base = XGBClassifier(random_state=42)\n",
    "xgb_model_base.fit(X_train, y_train)\n",
    "y_pred_base_xgb_val = xgb_model_base.predict(X_val)\n",
    "print(classification_report(y_val, y_pred_base_xgb_val))"
   ]
  },
  {
   "cell_type": "code",
   "execution_count": null,
   "id": "0b4ae44c",
   "metadata": {},
   "outputs": [],
   "source": []
  },
  {
   "cell_type": "code",
   "execution_count": 26,
   "id": "32b278d6",
   "metadata": {},
   "outputs": [
    {
     "name": "stdout",
     "output_type": "stream",
     "text": [
      "0.47303271441202477\n"
     ]
    }
   ],
   "source": [
    "# COMPUTING SCALE_POS_WEIGHT\n",
    "# Count the number of samples in each class\n",
    "neg, pos = np.bincount(y_train)  # y_train must be binary (0 & 1)\n",
    "\n",
    "# Compute scale_pos_weight\n",
    "scale_pos_weight = neg / pos\n",
    "print(scale_pos_weight)"
   ]
  },
  {
   "cell_type": "code",
   "execution_count": 27,
   "id": "0f2c9a8c",
   "metadata": {},
   "outputs": [],
   "source": [
    "# USING HYPERTUNED XGBOOST \n",
    "\n",
    "xgb_param_grid = {\n",
    "    'n_estimators': [50, 100, 200],\n",
    "    'max_depth': [3, 5, 7],\n",
    "    'learning_rate': [0.01, 0.1, 0.2],\n",
    "    'subsample': [0.7, 0.8, 1.0],\n",
    "    'colsample_bytree': [0.7, 0.8, 1.0],\n",
    "    'scale_pos_weight': [1, scale_pos_weight, scale_pos_weight * 1.5, scale_pos_weight * 2]}"
   ]
  },
  {
   "cell_type": "code",
   "execution_count": 28,
   "id": "35eae076",
   "metadata": {},
   "outputs": [],
   "source": [
    "# Define Stratified K-Fold for cross-validation\n",
    "\n",
    "kf = StratifiedKFold(n_splits=5, shuffle=True, random_state=42)  # 5 folds"
   ]
  },
  {
   "cell_type": "code",
   "execution_count": 29,
   "id": "53acfa21",
   "metadata": {},
   "outputs": [],
   "source": [
    "# Initialize XGBoost Classifier\n",
    "import xgboost as xgb\n",
    "\n",
    "xgb_clf = xgb.XGBClassifier(\n",
    "    objective='binary:logistic', \n",
    "    eval_metric='logloss', \n",
    "    use_label_encoder=False\n",
    "    )\n",
    "\n",
    "# Perform Grid Search with Stratified K-Fold for cross-validation\n",
    "grid_search_xgb = GridSearchCV(\n",
    "    xgb_clf, xgb_param_grid, cv=kf, scoring='f1', n_jobs=-1, verbose=1\n",
    ")"
   ]
  },
  {
   "cell_type": "code",
   "execution_count": 30,
   "id": "5b69a963",
   "metadata": {},
   "outputs": [
    {
     "name": "stdout",
     "output_type": "stream",
     "text": [
      "Fitting 5 folds for each of 972 candidates, totalling 4860 fits\n"
     ]
    },
    {
     "data": {
      "text/html": [
       "<style>#sk-container-id-2 {\n",
       "  /* Definition of color scheme common for light and dark mode */\n",
       "  --sklearn-color-text: #000;\n",
       "  --sklearn-color-text-muted: #666;\n",
       "  --sklearn-color-line: gray;\n",
       "  /* Definition of color scheme for unfitted estimators */\n",
       "  --sklearn-color-unfitted-level-0: #fff5e6;\n",
       "  --sklearn-color-unfitted-level-1: #f6e4d2;\n",
       "  --sklearn-color-unfitted-level-2: #ffe0b3;\n",
       "  --sklearn-color-unfitted-level-3: chocolate;\n",
       "  /* Definition of color scheme for fitted estimators */\n",
       "  --sklearn-color-fitted-level-0: #f0f8ff;\n",
       "  --sklearn-color-fitted-level-1: #d4ebff;\n",
       "  --sklearn-color-fitted-level-2: #b3dbfd;\n",
       "  --sklearn-color-fitted-level-3: cornflowerblue;\n",
       "\n",
       "  /* Specific color for light theme */\n",
       "  --sklearn-color-text-on-default-background: var(--sg-text-color, var(--theme-code-foreground, var(--jp-content-font-color1, black)));\n",
       "  --sklearn-color-background: var(--sg-background-color, var(--theme-background, var(--jp-layout-color0, white)));\n",
       "  --sklearn-color-border-box: var(--sg-text-color, var(--theme-code-foreground, var(--jp-content-font-color1, black)));\n",
       "  --sklearn-color-icon: #696969;\n",
       "\n",
       "  @media (prefers-color-scheme: dark) {\n",
       "    /* Redefinition of color scheme for dark theme */\n",
       "    --sklearn-color-text-on-default-background: var(--sg-text-color, var(--theme-code-foreground, var(--jp-content-font-color1, white)));\n",
       "    --sklearn-color-background: var(--sg-background-color, var(--theme-background, var(--jp-layout-color0, #111)));\n",
       "    --sklearn-color-border-box: var(--sg-text-color, var(--theme-code-foreground, var(--jp-content-font-color1, white)));\n",
       "    --sklearn-color-icon: #878787;\n",
       "  }\n",
       "}\n",
       "\n",
       "#sk-container-id-2 {\n",
       "  color: var(--sklearn-color-text);\n",
       "}\n",
       "\n",
       "#sk-container-id-2 pre {\n",
       "  padding: 0;\n",
       "}\n",
       "\n",
       "#sk-container-id-2 input.sk-hidden--visually {\n",
       "  border: 0;\n",
       "  clip: rect(1px 1px 1px 1px);\n",
       "  clip: rect(1px, 1px, 1px, 1px);\n",
       "  height: 1px;\n",
       "  margin: -1px;\n",
       "  overflow: hidden;\n",
       "  padding: 0;\n",
       "  position: absolute;\n",
       "  width: 1px;\n",
       "}\n",
       "\n",
       "#sk-container-id-2 div.sk-dashed-wrapped {\n",
       "  border: 1px dashed var(--sklearn-color-line);\n",
       "  margin: 0 0.4em 0.5em 0.4em;\n",
       "  box-sizing: border-box;\n",
       "  padding-bottom: 0.4em;\n",
       "  background-color: var(--sklearn-color-background);\n",
       "}\n",
       "\n",
       "#sk-container-id-2 div.sk-container {\n",
       "  /* jupyter's `normalize.less` sets `[hidden] { display: none; }`\n",
       "     but bootstrap.min.css set `[hidden] { display: none !important; }`\n",
       "     so we also need the `!important` here to be able to override the\n",
       "     default hidden behavior on the sphinx rendered scikit-learn.org.\n",
       "     See: https://github.com/scikit-learn/scikit-learn/issues/21755 */\n",
       "  display: inline-block !important;\n",
       "  position: relative;\n",
       "}\n",
       "\n",
       "#sk-container-id-2 div.sk-text-repr-fallback {\n",
       "  display: none;\n",
       "}\n",
       "\n",
       "div.sk-parallel-item,\n",
       "div.sk-serial,\n",
       "div.sk-item {\n",
       "  /* draw centered vertical line to link estimators */\n",
       "  background-image: linear-gradient(var(--sklearn-color-text-on-default-background), var(--sklearn-color-text-on-default-background));\n",
       "  background-size: 2px 100%;\n",
       "  background-repeat: no-repeat;\n",
       "  background-position: center center;\n",
       "}\n",
       "\n",
       "/* Parallel-specific style estimator block */\n",
       "\n",
       "#sk-container-id-2 div.sk-parallel-item::after {\n",
       "  content: \"\";\n",
       "  width: 100%;\n",
       "  border-bottom: 2px solid var(--sklearn-color-text-on-default-background);\n",
       "  flex-grow: 1;\n",
       "}\n",
       "\n",
       "#sk-container-id-2 div.sk-parallel {\n",
       "  display: flex;\n",
       "  align-items: stretch;\n",
       "  justify-content: center;\n",
       "  background-color: var(--sklearn-color-background);\n",
       "  position: relative;\n",
       "}\n",
       "\n",
       "#sk-container-id-2 div.sk-parallel-item {\n",
       "  display: flex;\n",
       "  flex-direction: column;\n",
       "}\n",
       "\n",
       "#sk-container-id-2 div.sk-parallel-item:first-child::after {\n",
       "  align-self: flex-end;\n",
       "  width: 50%;\n",
       "}\n",
       "\n",
       "#sk-container-id-2 div.sk-parallel-item:last-child::after {\n",
       "  align-self: flex-start;\n",
       "  width: 50%;\n",
       "}\n",
       "\n",
       "#sk-container-id-2 div.sk-parallel-item:only-child::after {\n",
       "  width: 0;\n",
       "}\n",
       "\n",
       "/* Serial-specific style estimator block */\n",
       "\n",
       "#sk-container-id-2 div.sk-serial {\n",
       "  display: flex;\n",
       "  flex-direction: column;\n",
       "  align-items: center;\n",
       "  background-color: var(--sklearn-color-background);\n",
       "  padding-right: 1em;\n",
       "  padding-left: 1em;\n",
       "}\n",
       "\n",
       "\n",
       "/* Toggleable style: style used for estimator/Pipeline/ColumnTransformer box that is\n",
       "clickable and can be expanded/collapsed.\n",
       "- Pipeline and ColumnTransformer use this feature and define the default style\n",
       "- Estimators will overwrite some part of the style using the `sk-estimator` class\n",
       "*/\n",
       "\n",
       "/* Pipeline and ColumnTransformer style (default) */\n",
       "\n",
       "#sk-container-id-2 div.sk-toggleable {\n",
       "  /* Default theme specific background. It is overwritten whether we have a\n",
       "  specific estimator or a Pipeline/ColumnTransformer */\n",
       "  background-color: var(--sklearn-color-background);\n",
       "}\n",
       "\n",
       "/* Toggleable label */\n",
       "#sk-container-id-2 label.sk-toggleable__label {\n",
       "  cursor: pointer;\n",
       "  display: flex;\n",
       "  width: 100%;\n",
       "  margin-bottom: 0;\n",
       "  padding: 0.5em;\n",
       "  box-sizing: border-box;\n",
       "  text-align: center;\n",
       "  align-items: start;\n",
       "  justify-content: space-between;\n",
       "  gap: 0.5em;\n",
       "}\n",
       "\n",
       "#sk-container-id-2 label.sk-toggleable__label .caption {\n",
       "  font-size: 0.6rem;\n",
       "  font-weight: lighter;\n",
       "  color: var(--sklearn-color-text-muted);\n",
       "}\n",
       "\n",
       "#sk-container-id-2 label.sk-toggleable__label-arrow:before {\n",
       "  /* Arrow on the left of the label */\n",
       "  content: \"▸\";\n",
       "  float: left;\n",
       "  margin-right: 0.25em;\n",
       "  color: var(--sklearn-color-icon);\n",
       "}\n",
       "\n",
       "#sk-container-id-2 label.sk-toggleable__label-arrow:hover:before {\n",
       "  color: var(--sklearn-color-text);\n",
       "}\n",
       "\n",
       "/* Toggleable content - dropdown */\n",
       "\n",
       "#sk-container-id-2 div.sk-toggleable__content {\n",
       "  max-height: 0;\n",
       "  max-width: 0;\n",
       "  overflow: hidden;\n",
       "  text-align: left;\n",
       "  /* unfitted */\n",
       "  background-color: var(--sklearn-color-unfitted-level-0);\n",
       "}\n",
       "\n",
       "#sk-container-id-2 div.sk-toggleable__content.fitted {\n",
       "  /* fitted */\n",
       "  background-color: var(--sklearn-color-fitted-level-0);\n",
       "}\n",
       "\n",
       "#sk-container-id-2 div.sk-toggleable__content pre {\n",
       "  margin: 0.2em;\n",
       "  border-radius: 0.25em;\n",
       "  color: var(--sklearn-color-text);\n",
       "  /* unfitted */\n",
       "  background-color: var(--sklearn-color-unfitted-level-0);\n",
       "}\n",
       "\n",
       "#sk-container-id-2 div.sk-toggleable__content.fitted pre {\n",
       "  /* unfitted */\n",
       "  background-color: var(--sklearn-color-fitted-level-0);\n",
       "}\n",
       "\n",
       "#sk-container-id-2 input.sk-toggleable__control:checked~div.sk-toggleable__content {\n",
       "  /* Expand drop-down */\n",
       "  max-height: 200px;\n",
       "  max-width: 100%;\n",
       "  overflow: auto;\n",
       "}\n",
       "\n",
       "#sk-container-id-2 input.sk-toggleable__control:checked~label.sk-toggleable__label-arrow:before {\n",
       "  content: \"▾\";\n",
       "}\n",
       "\n",
       "/* Pipeline/ColumnTransformer-specific style */\n",
       "\n",
       "#sk-container-id-2 div.sk-label input.sk-toggleable__control:checked~label.sk-toggleable__label {\n",
       "  color: var(--sklearn-color-text);\n",
       "  background-color: var(--sklearn-color-unfitted-level-2);\n",
       "}\n",
       "\n",
       "#sk-container-id-2 div.sk-label.fitted input.sk-toggleable__control:checked~label.sk-toggleable__label {\n",
       "  background-color: var(--sklearn-color-fitted-level-2);\n",
       "}\n",
       "\n",
       "/* Estimator-specific style */\n",
       "\n",
       "/* Colorize estimator box */\n",
       "#sk-container-id-2 div.sk-estimator input.sk-toggleable__control:checked~label.sk-toggleable__label {\n",
       "  /* unfitted */\n",
       "  background-color: var(--sklearn-color-unfitted-level-2);\n",
       "}\n",
       "\n",
       "#sk-container-id-2 div.sk-estimator.fitted input.sk-toggleable__control:checked~label.sk-toggleable__label {\n",
       "  /* fitted */\n",
       "  background-color: var(--sklearn-color-fitted-level-2);\n",
       "}\n",
       "\n",
       "#sk-container-id-2 div.sk-label label.sk-toggleable__label,\n",
       "#sk-container-id-2 div.sk-label label {\n",
       "  /* The background is the default theme color */\n",
       "  color: var(--sklearn-color-text-on-default-background);\n",
       "}\n",
       "\n",
       "/* On hover, darken the color of the background */\n",
       "#sk-container-id-2 div.sk-label:hover label.sk-toggleable__label {\n",
       "  color: var(--sklearn-color-text);\n",
       "  background-color: var(--sklearn-color-unfitted-level-2);\n",
       "}\n",
       "\n",
       "/* Label box, darken color on hover, fitted */\n",
       "#sk-container-id-2 div.sk-label.fitted:hover label.sk-toggleable__label.fitted {\n",
       "  color: var(--sklearn-color-text);\n",
       "  background-color: var(--sklearn-color-fitted-level-2);\n",
       "}\n",
       "\n",
       "/* Estimator label */\n",
       "\n",
       "#sk-container-id-2 div.sk-label label {\n",
       "  font-family: monospace;\n",
       "  font-weight: bold;\n",
       "  display: inline-block;\n",
       "  line-height: 1.2em;\n",
       "}\n",
       "\n",
       "#sk-container-id-2 div.sk-label-container {\n",
       "  text-align: center;\n",
       "}\n",
       "\n",
       "/* Estimator-specific */\n",
       "#sk-container-id-2 div.sk-estimator {\n",
       "  font-family: monospace;\n",
       "  border: 1px dotted var(--sklearn-color-border-box);\n",
       "  border-radius: 0.25em;\n",
       "  box-sizing: border-box;\n",
       "  margin-bottom: 0.5em;\n",
       "  /* unfitted */\n",
       "  background-color: var(--sklearn-color-unfitted-level-0);\n",
       "}\n",
       "\n",
       "#sk-container-id-2 div.sk-estimator.fitted {\n",
       "  /* fitted */\n",
       "  background-color: var(--sklearn-color-fitted-level-0);\n",
       "}\n",
       "\n",
       "/* on hover */\n",
       "#sk-container-id-2 div.sk-estimator:hover {\n",
       "  /* unfitted */\n",
       "  background-color: var(--sklearn-color-unfitted-level-2);\n",
       "}\n",
       "\n",
       "#sk-container-id-2 div.sk-estimator.fitted:hover {\n",
       "  /* fitted */\n",
       "  background-color: var(--sklearn-color-fitted-level-2);\n",
       "}\n",
       "\n",
       "/* Specification for estimator info (e.g. \"i\" and \"?\") */\n",
       "\n",
       "/* Common style for \"i\" and \"?\" */\n",
       "\n",
       ".sk-estimator-doc-link,\n",
       "a:link.sk-estimator-doc-link,\n",
       "a:visited.sk-estimator-doc-link {\n",
       "  float: right;\n",
       "  font-size: smaller;\n",
       "  line-height: 1em;\n",
       "  font-family: monospace;\n",
       "  background-color: var(--sklearn-color-background);\n",
       "  border-radius: 1em;\n",
       "  height: 1em;\n",
       "  width: 1em;\n",
       "  text-decoration: none !important;\n",
       "  margin-left: 0.5em;\n",
       "  text-align: center;\n",
       "  /* unfitted */\n",
       "  border: var(--sklearn-color-unfitted-level-1) 1pt solid;\n",
       "  color: var(--sklearn-color-unfitted-level-1);\n",
       "}\n",
       "\n",
       ".sk-estimator-doc-link.fitted,\n",
       "a:link.sk-estimator-doc-link.fitted,\n",
       "a:visited.sk-estimator-doc-link.fitted {\n",
       "  /* fitted */\n",
       "  border: var(--sklearn-color-fitted-level-1) 1pt solid;\n",
       "  color: var(--sklearn-color-fitted-level-1);\n",
       "}\n",
       "\n",
       "/* On hover */\n",
       "div.sk-estimator:hover .sk-estimator-doc-link:hover,\n",
       ".sk-estimator-doc-link:hover,\n",
       "div.sk-label-container:hover .sk-estimator-doc-link:hover,\n",
       ".sk-estimator-doc-link:hover {\n",
       "  /* unfitted */\n",
       "  background-color: var(--sklearn-color-unfitted-level-3);\n",
       "  color: var(--sklearn-color-background);\n",
       "  text-decoration: none;\n",
       "}\n",
       "\n",
       "div.sk-estimator.fitted:hover .sk-estimator-doc-link.fitted:hover,\n",
       ".sk-estimator-doc-link.fitted:hover,\n",
       "div.sk-label-container:hover .sk-estimator-doc-link.fitted:hover,\n",
       ".sk-estimator-doc-link.fitted:hover {\n",
       "  /* fitted */\n",
       "  background-color: var(--sklearn-color-fitted-level-3);\n",
       "  color: var(--sklearn-color-background);\n",
       "  text-decoration: none;\n",
       "}\n",
       "\n",
       "/* Span, style for the box shown on hovering the info icon */\n",
       ".sk-estimator-doc-link span {\n",
       "  display: none;\n",
       "  z-index: 9999;\n",
       "  position: relative;\n",
       "  font-weight: normal;\n",
       "  right: .2ex;\n",
       "  padding: .5ex;\n",
       "  margin: .5ex;\n",
       "  width: min-content;\n",
       "  min-width: 20ex;\n",
       "  max-width: 50ex;\n",
       "  color: var(--sklearn-color-text);\n",
       "  box-shadow: 2pt 2pt 4pt #999;\n",
       "  /* unfitted */\n",
       "  background: var(--sklearn-color-unfitted-level-0);\n",
       "  border: .5pt solid var(--sklearn-color-unfitted-level-3);\n",
       "}\n",
       "\n",
       ".sk-estimator-doc-link.fitted span {\n",
       "  /* fitted */\n",
       "  background: var(--sklearn-color-fitted-level-0);\n",
       "  border: var(--sklearn-color-fitted-level-3);\n",
       "}\n",
       "\n",
       ".sk-estimator-doc-link:hover span {\n",
       "  display: block;\n",
       "}\n",
       "\n",
       "/* \"?\"-specific style due to the `<a>` HTML tag */\n",
       "\n",
       "#sk-container-id-2 a.estimator_doc_link {\n",
       "  float: right;\n",
       "  font-size: 1rem;\n",
       "  line-height: 1em;\n",
       "  font-family: monospace;\n",
       "  background-color: var(--sklearn-color-background);\n",
       "  border-radius: 1rem;\n",
       "  height: 1rem;\n",
       "  width: 1rem;\n",
       "  text-decoration: none;\n",
       "  /* unfitted */\n",
       "  color: var(--sklearn-color-unfitted-level-1);\n",
       "  border: var(--sklearn-color-unfitted-level-1) 1pt solid;\n",
       "}\n",
       "\n",
       "#sk-container-id-2 a.estimator_doc_link.fitted {\n",
       "  /* fitted */\n",
       "  border: var(--sklearn-color-fitted-level-1) 1pt solid;\n",
       "  color: var(--sklearn-color-fitted-level-1);\n",
       "}\n",
       "\n",
       "/* On hover */\n",
       "#sk-container-id-2 a.estimator_doc_link:hover {\n",
       "  /* unfitted */\n",
       "  background-color: var(--sklearn-color-unfitted-level-3);\n",
       "  color: var(--sklearn-color-background);\n",
       "  text-decoration: none;\n",
       "}\n",
       "\n",
       "#sk-container-id-2 a.estimator_doc_link.fitted:hover {\n",
       "  /* fitted */\n",
       "  background-color: var(--sklearn-color-fitted-level-3);\n",
       "}\n",
       "</style><div id=\"sk-container-id-2\" class=\"sk-top-container\"><div class=\"sk-text-repr-fallback\"><pre>GridSearchCV(cv=StratifiedKFold(n_splits=5, random_state=42, shuffle=True),\n",
       "             estimator=XGBClassifier(base_score=None, booster=None,\n",
       "                                     callbacks=None, colsample_bylevel=None,\n",
       "                                     colsample_bynode=None,\n",
       "                                     colsample_bytree=None, device=None,\n",
       "                                     early_stopping_rounds=None,\n",
       "                                     enable_categorical=False,\n",
       "                                     eval_metric=&#x27;logloss&#x27;, feature_types=None,\n",
       "                                     gamma=None, grow_policy=None,\n",
       "                                     importanc...\n",
       "                                     n_jobs=None, num_parallel_tree=None,\n",
       "                                     random_state=None, ...),\n",
       "             n_jobs=-1,\n",
       "             param_grid={&#x27;colsample_bytree&#x27;: [0.7, 0.8, 1.0],\n",
       "                         &#x27;learning_rate&#x27;: [0.01, 0.1, 0.2],\n",
       "                         &#x27;max_depth&#x27;: [3, 5, 7], &#x27;n_estimators&#x27;: [50, 100, 200],\n",
       "                         &#x27;scale_pos_weight&#x27;: [1,\n",
       "                                              np.float64(0.47303271441202477),\n",
       "                                              np.float64(0.7095490716180372),\n",
       "                                              np.float64(0.9460654288240495)],\n",
       "                         &#x27;subsample&#x27;: [0.7, 0.8, 1.0]},\n",
       "             scoring=&#x27;f1&#x27;, verbose=1)</pre><b>In a Jupyter environment, please rerun this cell to show the HTML representation or trust the notebook. <br />On GitHub, the HTML representation is unable to render, please try loading this page with nbviewer.org.</b></div><div class=\"sk-container\" hidden><div class=\"sk-item sk-dashed-wrapped\"><div class=\"sk-label-container\"><div class=\"sk-label fitted sk-toggleable\"><input class=\"sk-toggleable__control sk-hidden--visually\" id=\"sk-estimator-id-2\" type=\"checkbox\" ><label for=\"sk-estimator-id-2\" class=\"sk-toggleable__label fitted sk-toggleable__label-arrow\"><div><div>GridSearchCV</div></div><div><a class=\"sk-estimator-doc-link fitted\" rel=\"noreferrer\" target=\"_blank\" href=\"https://scikit-learn.org/1.6/modules/generated/sklearn.model_selection.GridSearchCV.html\">?<span>Documentation for GridSearchCV</span></a><span class=\"sk-estimator-doc-link fitted\">i<span>Fitted</span></span></div></label><div class=\"sk-toggleable__content fitted\"><pre>GridSearchCV(cv=StratifiedKFold(n_splits=5, random_state=42, shuffle=True),\n",
       "             estimator=XGBClassifier(base_score=None, booster=None,\n",
       "                                     callbacks=None, colsample_bylevel=None,\n",
       "                                     colsample_bynode=None,\n",
       "                                     colsample_bytree=None, device=None,\n",
       "                                     early_stopping_rounds=None,\n",
       "                                     enable_categorical=False,\n",
       "                                     eval_metric=&#x27;logloss&#x27;, feature_types=None,\n",
       "                                     gamma=None, grow_policy=None,\n",
       "                                     importanc...\n",
       "                                     n_jobs=None, num_parallel_tree=None,\n",
       "                                     random_state=None, ...),\n",
       "             n_jobs=-1,\n",
       "             param_grid={&#x27;colsample_bytree&#x27;: [0.7, 0.8, 1.0],\n",
       "                         &#x27;learning_rate&#x27;: [0.01, 0.1, 0.2],\n",
       "                         &#x27;max_depth&#x27;: [3, 5, 7], &#x27;n_estimators&#x27;: [50, 100, 200],\n",
       "                         &#x27;scale_pos_weight&#x27;: [1,\n",
       "                                              np.float64(0.47303271441202477),\n",
       "                                              np.float64(0.7095490716180372),\n",
       "                                              np.float64(0.9460654288240495)],\n",
       "                         &#x27;subsample&#x27;: [0.7, 0.8, 1.0]},\n",
       "             scoring=&#x27;f1&#x27;, verbose=1)</pre></div> </div></div><div class=\"sk-parallel\"><div class=\"sk-parallel-item\"><div class=\"sk-item\"><div class=\"sk-label-container\"><div class=\"sk-label fitted sk-toggleable\"><input class=\"sk-toggleable__control sk-hidden--visually\" id=\"sk-estimator-id-3\" type=\"checkbox\" ><label for=\"sk-estimator-id-3\" class=\"sk-toggleable__label fitted sk-toggleable__label-arrow\"><div><div>best_estimator_: XGBClassifier</div></div></label><div class=\"sk-toggleable__content fitted\"><pre>XGBClassifier(base_score=None, booster=None, callbacks=None,\n",
       "              colsample_bylevel=None, colsample_bynode=None,\n",
       "              colsample_bytree=0.7, device=None, early_stopping_rounds=None,\n",
       "              enable_categorical=False, eval_metric=&#x27;logloss&#x27;,\n",
       "              feature_types=None, gamma=None, grow_policy=None,\n",
       "              importance_type=None, interaction_constraints=None,\n",
       "              learning_rate=0.01, max_bin=None, max_cat_threshold=None,\n",
       "              max_cat_to_onehot=None, max_delta_step=None, max_depth=5,\n",
       "              max_leaves=None, min_child_weight=None, missing=nan,\n",
       "              monotone_constraints=None, multi_strategy=None, n_estimators=200,\n",
       "              n_jobs=None, num_parallel_tree=None, random_state=None, ...)</pre></div> </div></div><div class=\"sk-serial\"><div class=\"sk-item\"><div class=\"sk-estimator fitted sk-toggleable\"><input class=\"sk-toggleable__control sk-hidden--visually\" id=\"sk-estimator-id-4\" type=\"checkbox\" ><label for=\"sk-estimator-id-4\" class=\"sk-toggleable__label fitted sk-toggleable__label-arrow\"><div><div>XGBClassifier</div></div></label><div class=\"sk-toggleable__content fitted\"><pre>XGBClassifier(base_score=None, booster=None, callbacks=None,\n",
       "              colsample_bylevel=None, colsample_bynode=None,\n",
       "              colsample_bytree=0.7, device=None, early_stopping_rounds=None,\n",
       "              enable_categorical=False, eval_metric=&#x27;logloss&#x27;,\n",
       "              feature_types=None, gamma=None, grow_policy=None,\n",
       "              importance_type=None, interaction_constraints=None,\n",
       "              learning_rate=0.01, max_bin=None, max_cat_threshold=None,\n",
       "              max_cat_to_onehot=None, max_delta_step=None, max_depth=5,\n",
       "              max_leaves=None, min_child_weight=None, missing=nan,\n",
       "              monotone_constraints=None, multi_strategy=None, n_estimators=200,\n",
       "              n_jobs=None, num_parallel_tree=None, random_state=None, ...)</pre></div> </div></div></div></div></div></div></div></div></div>"
      ],
      "text/plain": [
       "GridSearchCV(cv=StratifiedKFold(n_splits=5, random_state=42, shuffle=True),\n",
       "             estimator=XGBClassifier(base_score=None, booster=None,\n",
       "                                     callbacks=None, colsample_bylevel=None,\n",
       "                                     colsample_bynode=None,\n",
       "                                     colsample_bytree=None, device=None,\n",
       "                                     early_stopping_rounds=None,\n",
       "                                     enable_categorical=False,\n",
       "                                     eval_metric='logloss', feature_types=None,\n",
       "                                     gamma=None, grow_policy=None,\n",
       "                                     importanc...\n",
       "                                     n_jobs=None, num_parallel_tree=None,\n",
       "                                     random_state=None, ...),\n",
       "             n_jobs=-1,\n",
       "             param_grid={'colsample_bytree': [0.7, 0.8, 1.0],\n",
       "                         'learning_rate': [0.01, 0.1, 0.2],\n",
       "                         'max_depth': [3, 5, 7], 'n_estimators': [50, 100, 200],\n",
       "                         'scale_pos_weight': [1,\n",
       "                                              np.float64(0.47303271441202477),\n",
       "                                              np.float64(0.7095490716180372),\n",
       "                                              np.float64(0.9460654288240495)],\n",
       "                         'subsample': [0.7, 0.8, 1.0]},\n",
       "             scoring='f1', verbose=1)"
      ]
     },
     "execution_count": 30,
     "metadata": {},
     "output_type": "execute_result"
    }
   ],
   "source": [
    "# Fit on training data\n",
    "grid_search_xgb.fit(X_train, y_train)"
   ]
  },
  {
   "cell_type": "code",
   "execution_count": 31,
   "id": "06ecf622",
   "metadata": {},
   "outputs": [
    {
     "name": "stdout",
     "output_type": "stream",
     "text": [
      "Best Parameters: {'colsample_bytree': 0.7, 'learning_rate': 0.01, 'max_depth': 5, 'n_estimators': 200, 'scale_pos_weight': 1, 'subsample': 1.0}\n"
     ]
    }
   ],
   "source": [
    "# Get best parameters & best model\n",
    "best_params = grid_search_xgb.best_params_\n",
    "best_xgb_model = grid_search_xgb.best_estimator_\n",
    "\n",
    "print(\"Best Parameters:\", best_params)"
   ]
  },
  {
   "cell_type": "code",
   "execution_count": 32,
   "id": "43bce7c4",
   "metadata": {},
   "outputs": [],
   "source": [
    "# Predict on test data\n",
    "y_pred_tuned_xgb_val = best_xgb_model.predict(X_val)"
   ]
  },
  {
   "cell_type": "code",
   "execution_count": 33,
   "id": "4b762b99",
   "metadata": {},
   "outputs": [
    {
     "name": "stdout",
     "output_type": "stream",
     "text": [
      "              precision    recall  f1-score   support\n",
      "\n",
      "           0       0.84      0.58      0.69       115\n",
      "           1       0.83      0.95      0.88       242\n",
      "\n",
      "    accuracy                           0.83       357\n",
      "   macro avg       0.83      0.76      0.78       357\n",
      "weighted avg       0.83      0.83      0.82       357\n",
      "\n"
     ]
    }
   ],
   "source": [
    "from sklearn.metrics import accuracy_score, classification_report, confusion_matrix\n",
    "print(classification_report(y_val, y_pred_tuned_xgb_val))"
   ]
  },
  {
   "cell_type": "code",
   "execution_count": 48,
   "id": "8da7f036",
   "metadata": {},
   "outputs": [
    {
     "name": "stdout",
     "output_type": "stream",
     "text": [
      "F1-Score for validation is : 0.8820\n"
     ]
    }
   ],
   "source": [
    "# Evaluate performance\n",
    "from sklearn.metrics import f1_score\n",
    "xgb_val_f1 = f1_score(y_val, y_pred_tuned_xgb_val)\n",
    "print(f\"F1-Score for validation is : {xgb_val_f1:.4f}\")"
   ]
  },
  {
   "cell_type": "code",
   "execution_count": null,
   "id": "7c626bcf",
   "metadata": {},
   "outputs": [],
   "source": [
    "# FEATURE IMPORTANCE"
   ]
  },
  {
   "cell_type": "code",
   "execution_count": 49,
   "id": "0f548d73",
   "metadata": {},
   "outputs": [
    {
     "name": "stdout",
     "output_type": "stream",
     "text": [
      "XGBoost Feature Importance: [0.0271469  0.02276535 0.01524167 0.0186286  0.09079694 0.02656572\n",
      " 0.13921732 0.24804357 0.         0.         0.         0.01242953\n",
      " 0.         0.         0.02383762 0.02635456 0.01300938 0.03616709\n",
      " 0.0228391  0.         0.02252898 0.04268314 0.         0.\n",
      " 0.         0.0115003  0.         0.01135686 0.         0.015937\n",
      " 0.01447629 0.02191462 0.03461288 0.0185858  0.         0.01645404\n",
      " 0.01448825 0.02246332 0.         0.02995527]\n"
     ]
    },
    {
     "data": {
      "image/png": "[encoded data removed]",
      "text/plain": [
       "<Figure size 576x720 with 1 Axes>"
      ]
     },
     "metadata": {
      "needs_background": "light"
     },
     "output_type": "display_data"
    }
   ],
   "source": [
    "xgb_importance = best_xgb_model.feature_importances_\n",
    "print(\"XGBoost Feature Importance:\", xgb_importance)\n",
    "\n",
    "k=5\n",
    "feat_imp_dt = pd.DataFrame(list(zip(X_train.columns,xgb_importance)),columns=['feature','impt'])\n",
    "feat_imp_dt = feat_imp_dt.sort_values('impt',ascending=False).head(k)\n",
    "\n",
    "plt.figure(figsize=(8,10))\n",
    "sns.barplot(data=feat_imp_dt,y='feature',x='impt')\n",
    "plt.show()"
   ]
  },
  {
   "cell_type": "code",
   "execution_count": null,
   "id": "18e52aef",
   "metadata": {},
   "outputs": [],
   "source": []
  },
  {
   "cell_type": "code",
   "execution_count": null,
   "id": "0e4802e8",
   "metadata": {},
   "outputs": [],
   "source": [
    "# TEST DATASET"
   ]
  },
  {
   "cell_type": "code",
   "execution_count": 50,
   "id": "712e055e",
   "metadata": {},
   "outputs": [
    {
     "name": "stdout",
     "output_type": "stream",
     "text": [
      "              precision    recall  f1-score   support\n",
      "\n",
      "           0       0.74      0.51      0.61       115\n",
      "           1       0.80      0.91      0.85       243\n",
      "\n",
      "    accuracy                           0.78       358\n",
      "   macro avg       0.77      0.71      0.73       358\n",
      "weighted avg       0.78      0.78      0.77       358\n",
      "\n",
      "F1-Score for final test is : 0.8522\n"
     ]
    }
   ],
   "source": [
    "from sklearn.metrics import f1_score\n",
    "from sklearn.metrics import accuracy_score, classification_report, confusion_matrix\n",
    "\n",
    "y_pred_tuned_xgb_test = best_xgb_model.predict(X_test)\n",
    "print(classification_report(y_test, y_pred_tuned_xgb_test))\n",
    "xgb_test_f1 = f1_score(y_test, y_pred_tuned_xgb_test)\n",
    "print(f\"F1-Score for final test is : {xgb_test_f1:.4f}\")"
   ]
  },
  {
   "cell_type": "code",
   "execution_count": null,
   "id": "4329a2c6",
   "metadata": {},
   "outputs": [],
   "source": []
  },
  {
   "cell_type": "code",
   "execution_count": null,
   "id": "2d211684",
   "metadata": {},
   "outputs": [],
   "source": []
  },
  {
   "cell_type": "code",
   "execution_count": null,
   "id": "f6a851c3",
   "metadata": {},
   "outputs": [],
   "source": []
  },
  {
   "cell_type": "code",
   "execution_count": null,
   "id": "051f4802",
   "metadata": {},
   "outputs": [],
   "source": []
  },
  {
   "cell_type": "markdown",
   "id": "5e29e19b",
   "metadata": {},
   "source": [
    "### SCORES IN IMBALANCED DATASET IN VALIDATION SET"
   ]
  },
  {
   "cell_type": "markdown",
   "id": "bcd47c3c",
   "metadata": {},
   "source": [
    "**F1 SCORE FOR BASE LEARNERS**\n",
    "- F1 SCORE FOR VALIDATION WITH DECISION TREE IS 0.78\n",
    "- F1 SCORE FOR VALIDATION WITH RANDOM FORREST IS 0.87\n",
    "- F1 SCORE FOR VALIDATION WITH XGBOOST IS 0.84\n",
    "\n",
    "\n",
    "**PRECISION SCORE FOR BASE LEARNERS**\n",
    "- PRECISION SCORE FOR VALIDATION WITH DECISION TREE IS 0.77\n",
    "- PRECISION SCORE FOR VALIDATION WITH RANDOM FORREST IS 0.83\n",
    "- PRECISION SCORE FOR VALIDATION WITH XGBOOST IS 0.80\n",
    "\n",
    "\n",
    "**RECALL SCORE FOR BASE LEARNERS**\n",
    "- RECALL SCORE FOR VALIDATION WITH DECISION TREE IS 0.79\n",
    "- RECALL SCORE FOR VALIDATION WITH RANDOM FORREST IS 0.91\n",
    "- RECALL SCORE FOR VALIDATION WITH XGBOOST IS 0.88"
   ]
  },
  {
   "cell_type": "code",
   "execution_count": null,
   "id": "b6320735",
   "metadata": {},
   "outputs": [],
   "source": []
  },
  {
   "cell_type": "markdown",
   "id": "35a82b33",
   "metadata": {},
   "source": [
    "**F1 SCORE FOR TUNED LEARNERS**\n",
    "- F1 SCORE FOR VALIDATION WITH DECISION TREE IS 0.78\n",
    "- F1 SCORE FOR VALIDATION WITH RANDOM FORREST IS 0.87\n",
    "- F1 SCORE FOR VALIDATION WITH XGBOOST IS 0.8820\n",
    "\n",
    "\n",
    "**PRECISION SCORE FOR TUNED LEARNERS**\n",
    "- PRECISION SCORE FOR VALIDATION WITH DECISION TREE IS 0.85\n",
    "- PRECISION SCORE FOR VALIDATION WITH RANDOM FORREST IS 0.84\n",
    "- PRECISION SCORE FOR VALIDATION WITH XGBOOST IS 0.83\n",
    "\n",
    "\n",
    "**RECALL SCORE FOR TUNED LEARNERS**\n",
    "- RECALL SCORE FOR VALIDATION WITH DECISION TREE IS 0.73\n",
    "- RECALL SCORE FOR VALIDATION WITH RANDOM FORREST IS 0.91\n",
    "- RECALL SCORE FOR VALIDATION WITH XGBOOST IS 0.94"
   ]
  },
  {
   "cell_type": "code",
   "execution_count": null,
   "id": "08d38d19",
   "metadata": {},
   "outputs": [],
   "source": []
  },
  {
   "cell_type": "markdown",
   "id": "b38e9dbf",
   "metadata": {},
   "source": []
  },
  {
   "cell_type": "code",
   "execution_count": null,
   "id": "6f7490f6",
   "metadata": {},
   "outputs": [],
   "source": []
  },
  {
   "cell_type": "markdown",
   "id": "fb3c28eb",
   "metadata": {},
   "source": [
    "### Balancing Dataset using - SMOTE"
   ]
  },
  {
   "cell_type": "markdown",
   "id": "aecc4d84",
   "metadata": {},
   "source": [
    "#### CHECKING THE SCORES AGAIN WHILE USING SMOTE TO SEE ANY DIFFERENCE.\n",
    "**As the target variable is imbalanced towards 1. We will use SMOTE to balance the dataset**"
   ]
  },
  {
   "cell_type": "code",
   "execution_count": 54,
   "id": "82e6ec9a",
   "metadata": {},
   "outputs": [
    {
     "name": "stdout",
     "output_type": "stream",
     "text": [
      "Before OverSampling, counts of label '1': 1131\n",
      "Before OverSampling, counts of label '0': 535 \n",
      "\n",
      "After OverSampling, the shape of train_X: (2262, 12)\n",
      "After OverSampling, the shape of train_y: (2262,) \n",
      "\n",
      "After OverSampling, counts of label '1': 1131\n",
      "After OverSampling, counts of label '0': 1131\n"
     ]
    }
   ],
   "source": [
    "from imblearn.over_sampling import SMOTE\n",
    "\n",
    "\n",
    "print(\"Before OverSampling, counts of label '1': {}\".format(sum(y_train == 1)))\n",
    "print(\"Before OverSampling, counts of label '0': {} \\n\".format(sum(y_train == 0)))\n",
    "\n",
    "sm = SMOTE(random_state = 7)\n",
    "X_train_sm, y_train_sm = sm.fit_resample(X_train, y_train.ravel())\n",
    "  \n",
    "print('After OverSampling, the shape of train_X: {}'.format(X_train_sm.shape))\n",
    "print('After OverSampling, the shape of train_y: {} \\n'.format(y_train_sm.shape))\n",
    "  \n",
    "print(\"After OverSampling, counts of label '1': {}\".format(sum(y_train_sm == 1)))\n",
    "print(\"After OverSampling, counts of label '0': {}\".format(sum(y_train_sm == 0)))"
   ]
  },
  {
   "cell_type": "code",
   "execution_count": null,
   "id": "1b0b8e17",
   "metadata": {},
   "outputs": [],
   "source": []
  },
  {
   "cell_type": "markdown",
   "id": "9f24a450",
   "metadata": {},
   "source": [
    "#### DECISION TREE"
   ]
  },
  {
   "cell_type": "code",
   "execution_count": 55,
   "id": "f7436a36",
   "metadata": {},
   "outputs": [],
   "source": [
    "param_grid_dt = {\n",
    "    'max_depth': [3, 5, 10, None],  \n",
    "    'min_samples_split': [2, 5, 10],  \n",
    "    'min_samples_leaf': [1, 2, 5],  \n",
    "    'criterion': ['gini', 'entropy'] }"
   ]
  },
  {
   "cell_type": "code",
   "execution_count": 56,
   "id": "ead2620e",
   "metadata": {},
   "outputs": [],
   "source": [
    "# Define Stratified K-Fold for cross-validation\n",
    "\n",
    "kf = StratifiedKFold(n_splits=5, shuffle=True, random_state=42)  # 5 folds"
   ]
  },
  {
   "cell_type": "code",
   "execution_count": 57,
   "id": "7c06b127",
   "metadata": {},
   "outputs": [
    {
     "name": "stdout",
     "output_type": "stream",
     "text": [
      "Fitting 5 folds for each of 72 candidates, totalling 360 fits\n"
     ]
    },
    {
     "data": {
      "text/plain": [
       "GridSearchCV(cv=StratifiedKFold(n_splits=5, random_state=42, shuffle=True),\n",
       "             estimator=DecisionTreeClassifier(class_weight='balanced',\n",
       "                                              random_state=42),\n",
       "             n_jobs=-1,\n",
       "             param_grid={'criterion': ['gini', 'entropy'],\n",
       "                         'max_depth': [3, 5, 10, None],\n",
       "                         'min_samples_leaf': [1, 2, 5],\n",
       "                         'min_samples_split': [2, 5, 10]},\n",
       "             scoring='accuracy', verbose=1)"
      ]
     },
     "execution_count": 57,
     "metadata": {},
     "output_type": "execute_result"
    }
   ],
   "source": [
    "from sklearn.metrics import f1_score\n",
    "\n",
    "# Initialize Decision Tree Classifier\n",
    "dt = DecisionTreeClassifier(class_weight='balanced',random_state=42)\n",
    "\n",
    "# Initialize GridSearchCV\n",
    "grid_search_dt_sm = GridSearchCV(dt, param_grid_dt, cv=kf, scoring='accuracy', n_jobs=-1, verbose=1)\n",
    "\n",
    "# Fit on training data\n",
    "grid_search_dt_sm.fit(X_train_sm, y_train_sm)"
   ]
  },
  {
   "cell_type": "code",
   "execution_count": 58,
   "id": "c9361b72",
   "metadata": {},
   "outputs": [
    {
     "name": "stdout",
     "output_type": "stream",
     "text": [
      "Best Parameters: {'criterion': 'gini', 'max_depth': 5, 'min_samples_leaf': 2, 'min_samples_split': 2}\n",
      "Best F1-Score: 0.7510988688976147\n"
     ]
    }
   ],
   "source": [
    "\n",
    "# Print best parameters and best F1-score\n",
    "print(\"Best Parameters:\", grid_search_dt_sm.best_params_)\n",
    "print(\"Best F1-Score:\", grid_search_dt_sm.best_score_)"
   ]
  },
  {
   "cell_type": "code",
   "execution_count": 59,
   "id": "29cc4354",
   "metadata": {},
   "outputs": [],
   "source": [
    "# Getting the best model found by GridSearchCV\n",
    "\n",
    "best_dt_sm = grid_search_dt_sm.best_estimator_"
   ]
  },
  {
   "cell_type": "code",
   "execution_count": 60,
   "id": "a29a9daf",
   "metadata": {},
   "outputs": [
    {
     "name": "stdout",
     "output_type": "stream",
     "text": [
      "              precision    recall  f1-score   support\n",
      "\n",
      "           0       0.64      0.67      0.65       115\n",
      "           1       0.84      0.82      0.83       242\n",
      "\n",
      "    accuracy                           0.77       357\n",
      "   macro avg       0.74      0.74      0.74       357\n",
      "weighted avg       0.77      0.77      0.77       357\n",
      "\n"
     ]
    }
   ],
   "source": [
    "y_pred_tuned_dt_vals_sm = best_dt_sm.predict(X_val)\n",
    "\n",
    "print(classification_report(y_val, y_pred_tuned_dt_vals_sm))"
   ]
  },
  {
   "cell_type": "code",
   "execution_count": null,
   "id": "ece9949a",
   "metadata": {},
   "outputs": [],
   "source": []
  },
  {
   "cell_type": "code",
   "execution_count": null,
   "id": "c9cd3751",
   "metadata": {},
   "outputs": [],
   "source": []
  },
  {
   "cell_type": "markdown",
   "id": "92b4cc67",
   "metadata": {},
   "source": [
    "#### RANDOM FORREST"
   ]
  },
  {
   "cell_type": "code",
   "execution_count": 61,
   "id": "f20cb597",
   "metadata": {},
   "outputs": [],
   "source": [
    "# Defining parameters -\n",
    "\n",
    "params = {\n",
    "          'n_estimators' : [100,200,300,400],\n",
    "          'max_depth' : [3,5,10],\n",
    "          'criterion' : ['gini', 'entropy'],\n",
    "          'bootstrap' : [True, False],\n",
    "          'max_features' : [8,9,10]\n",
    "         }"
   ]
  },
  {
   "cell_type": "code",
   "execution_count": 62,
   "id": "8b7360c0",
   "metadata": {},
   "outputs": [],
   "source": [
    "# Define Stratified K-Fold for cross-validation\n",
    "\n",
    "kf = StratifiedKFold(n_splits=5, shuffle=True, random_state=42)  # 5 folds"
   ]
  },
  {
   "cell_type": "code",
   "execution_count": 63,
   "id": "85650867",
   "metadata": {},
   "outputs": [],
   "source": [
    "# FITTING INTO GRIDSEARCH FOR FINDING BEST PARAMETER\n",
    "grid_search_rf_sm = GridSearchCV(estimator = RandomForestClassifier(class_weight='balanced',verbose=1),\n",
    "                    param_grid = params,\n",
    "                    scoring = 'accuracy',\n",
    "                    cv = kf,\n",
    "                    n_jobs=-1\n",
    "                    )"
   ]
  },
  {
   "cell_type": "code",
   "execution_count": 64,
   "id": "4e88e6da",
   "metadata": {},
   "outputs": [
    {
     "name": "stderr",
     "output_type": "stream",
     "text": [
      "[Parallel(n_jobs=1)]: Done  49 tasks      | elapsed:    0.3s\n",
      "[Parallel(n_jobs=1)]: Done 199 tasks      | elapsed:    1.3s\n"
     ]
    },
    {
     "name": "stdout",
     "output_type": "stream",
     "text": [
      "Best params:  {'bootstrap': True, 'criterion': 'gini', 'max_depth': 10, 'max_features': 9, 'n_estimators': 400}\n",
      "Best score:  0.8019457305280431\n"
     ]
    }
   ],
   "source": [
    "grid_search_rf_sm.fit(X_train_sm, y_train_sm)\n",
    "\n",
    "print(\"Best params: \", grid_search_rf_sm.best_params_)\n",
    "print(\"Best score: \", grid_search_rf_sm.best_score_)"
   ]
  },
  {
   "cell_type": "code",
   "execution_count": 65,
   "id": "5692dce7",
   "metadata": {},
   "outputs": [
    {
     "data": {
      "text/plain": [
       "RandomForestClassifier(class_weight='balanced', max_depth=10, max_features=9,\n",
       "                       n_estimators=400, verbose=1)"
      ]
     },
     "execution_count": 65,
     "metadata": {},
     "output_type": "execute_result"
    }
   ],
   "source": [
    "best_model_rf_sm = grid_search_rf_sm.best_estimator_\n",
    "best_model_rf_sm"
   ]
  },
  {
   "cell_type": "code",
   "execution_count": 66,
   "id": "2e834b5a",
   "metadata": {},
   "outputs": [
    {
     "name": "stdout",
     "output_type": "stream",
     "text": [
      "Classification Report:\n",
      "               precision    recall  f1-score   support\n",
      "\n",
      "           0       0.67      0.64      0.65       115\n",
      "           1       0.83      0.85      0.84       242\n",
      "\n",
      "    accuracy                           0.78       357\n",
      "   macro avg       0.75      0.75      0.75       357\n",
      "weighted avg       0.78      0.78      0.78       357\n",
      "\n",
      "Validation accuracy: 0.7815126050420168\n"
     ]
    },
    {
     "name": "stderr",
     "output_type": "stream",
     "text": [
      "[Parallel(n_jobs=1)]: Done  49 tasks      | elapsed:    0.0s\n",
      "[Parallel(n_jobs=1)]: Done 199 tasks      | elapsed:    0.0s\n"
     ]
    }
   ],
   "source": [
    "y_pred_best_rf_val_sm = best_model_rf_sm.predict(X_val)\n",
    "\n",
    "print(\"Classification Report:\\n\", classification_report(y_val, y_pred_best_rf_val_sm))\n",
    "print(\"Validation accuracy:\", accuracy_score(y_val, y_pred_best_rf_val_sm))\n"
   ]
  },
  {
   "cell_type": "code",
   "execution_count": null,
   "id": "ed28b7ce",
   "metadata": {},
   "outputs": [],
   "source": []
  },
  {
   "cell_type": "code",
   "execution_count": null,
   "id": "71d34e36",
   "metadata": {},
   "outputs": [],
   "source": []
  },
  {
   "cell_type": "markdown",
   "id": "d9bbfaa9",
   "metadata": {},
   "source": [
    "#### XGBOOST"
   ]
  },
  {
   "cell_type": "code",
   "execution_count": null,
   "id": "2c970553",
   "metadata": {},
   "outputs": [],
   "source": []
  },
  {
   "cell_type": "code",
   "execution_count": 22,
   "id": "e9c53fe6",
   "metadata": {},
   "outputs": [
    {
     "name": "stdout",
     "output_type": "stream",
     "text": [
      "0.47303271441202477\n"
     ]
    }
   ],
   "source": [
    "# COMPUTING SCALE_POS_WEIGHT\n",
    "# Count the number of samples in each class\n",
    "neg, pos = np.bincount(y_train)  # y_train must be binary (0 & 1)\n",
    "\n",
    "# Compute scale_pos_weight\n",
    "scale_pos_weight = neg / pos\n",
    "print(scale_pos_weight)"
   ]
  },
  {
   "cell_type": "code",
   "execution_count": 23,
   "id": "d7c27187",
   "metadata": {},
   "outputs": [],
   "source": [
    "# USING HYPERTUNED XGBOOST \n",
    "\n",
    "xgb_param_grid_sm = {\n",
    "    'n_estimators': [50, 100, 200],\n",
    "    'max_depth': [3, 5, 7],\n",
    "    'learning_rate': [0.01, 0.1, 0.2],\n",
    "    'subsample': [0.7, 0.8, 1.0],\n",
    "    'colsample_bytree': [0.7, 0.8, 1.0],\n",
    "    'scale_pos_weight': [1, scale_pos_weight, scale_pos_weight * 1.5, scale_pos_weight * 2]}"
   ]
  },
  {
   "cell_type": "code",
   "execution_count": 24,
   "id": "50396727",
   "metadata": {},
   "outputs": [],
   "source": [
    "# Define Stratified K-Fold for cross-validation\n",
    "\n",
    "kf = StratifiedKFold(n_splits=5, shuffle=True, random_state=42)  # 5 folds"
   ]
  },
  {
   "cell_type": "code",
   "execution_count": 25,
   "id": "227052a4",
   "metadata": {},
   "outputs": [],
   "source": [
    "# Initialize XGBoost Classifier\n",
    "import xgboost as xgb\n",
    "\n",
    "xgb_clf_sm = xgb.XGBClassifier(\n",
    "    objective='binary:logistic', \n",
    "    eval_metric='logloss', \n",
    "    use_label_encoder=False\n",
    "    )\n",
    "\n",
    "# Perform Grid Search with 5-fold Cross-Validation\n",
    "grid_search_xgb_sm = GridSearchCV(\n",
    "    xgb_clf_sm, xgb_param_grid_sm, cv=kf, scoring='accuracy', n_jobs=-1, verbose=1\n",
    ")"
   ]
  },
  {
   "cell_type": "code",
   "execution_count": 26,
   "id": "069af15b",
   "metadata": {},
   "outputs": [
    {
     "ename": "NameError",
     "evalue": "name 'X_train_sm' is not defined",
     "output_type": "error",
     "traceback": [
      "\u001b[1;31m---------------------------------------------------------------------------\u001b[0m",
      "\u001b[1;31mNameError\u001b[0m                                 Traceback (most recent call last)",
      "Input \u001b[1;32mIn [26]\u001b[0m, in \u001b[0;36m<cell line: 2>\u001b[1;34m()\u001b[0m\n\u001b[0;32m      1\u001b[0m \u001b[38;5;66;03m# Fit on training data\u001b[39;00m\n\u001b[1;32m----> 2\u001b[0m grid_search_xgb_sm\u001b[38;5;241m.\u001b[39mfit(\u001b[43mX_train_sm\u001b[49m, y_train_sm)\n",
      "\u001b[1;31mNameError\u001b[0m: name 'X_train_sm' is not defined"
     ]
    }
   ],
   "source": [
    "# Fit on training data\n",
    "grid_search_xgb_sm.fit(X_train_sm, y_train_sm)"
   ]
  },
  {
   "cell_type": "code",
   "execution_count": 72,
   "id": "5469a4b8",
   "metadata": {},
   "outputs": [
    {
     "name": "stdout",
     "output_type": "stream",
     "text": [
      "Best Parameters: {'colsample_bytree': 1.0, 'learning_rate': 0.2, 'max_depth': 7, 'n_estimators': 50, 'scale_pos_weight': 1, 'subsample': 0.8}\n"
     ]
    }
   ],
   "source": [
    "# Get best parameters & best model\n",
    "best_params_sm = grid_search_xgb_sm.best_params_\n",
    "best_xgb_model_sm = grid_search_xgb_sm.best_estimator_\n",
    "\n",
    "print(\"Best Parameters:\", best_params_sm)"
   ]
  },
  {
   "cell_type": "code",
   "execution_count": 73,
   "id": "9b197e73",
   "metadata": {},
   "outputs": [
    {
     "name": "stdout",
     "output_type": "stream",
     "text": [
      "              precision    recall  f1-score   support\n",
      "\n",
      "           0       0.63      0.58      0.61       115\n",
      "           1       0.81      0.84      0.82       242\n",
      "\n",
      "    accuracy                           0.76       357\n",
      "   macro avg       0.72      0.71      0.71       357\n",
      "weighted avg       0.75      0.76      0.75       357\n",
      "\n"
     ]
    }
   ],
   "source": [
    "# Predict on test data\n",
    "y_pred_tuned_xgb_val_sm = best_xgb_model_sm.predict(X_val)\n",
    "\n",
    "print(classification_report(y_val, y_pred_tuned_xgb_val_sm))"
   ]
  },
  {
   "cell_type": "code",
   "execution_count": null,
   "id": "f72693df",
   "metadata": {},
   "outputs": [],
   "source": []
  },
  {
   "cell_type": "markdown",
   "id": "219ebe5e",
   "metadata": {},
   "source": [
    "### SCORES AFTER SMOTE IN VALIDATION SET"
   ]
  },
  {
   "cell_type": "markdown",
   "id": "65816ebf",
   "metadata": {},
   "source": [
    "**F1 SCORE :**\n",
    "- F1 SCORE FOR VALIDATION WITH DECISION TREE IS 0.83\n",
    "- F1 SCORE FOR VALIDATION WITH RANDOM FORREST IS 0.84\n",
    "- F1 SCORE FOR VALIDATION WITH XGBOOST IS 0.82"
   ]
  },
  {
   "cell_type": "markdown",
   "id": "d6d31d7f",
   "metadata": {},
   "source": [
    "**PRECISION SCORE**\n",
    "- PRECISION SCORE FOR VALIDATION WITH DECISION TREE IS 0.82\n",
    "- PRECISION SCORE FOR VALIDATION WITH RANDOM FORREST IS 0.85\n",
    "- PRECISION SCORE FOR VALIDATION WITH XGBOOST IS 0.84"
   ]
  },
  {
   "cell_type": "markdown",
   "id": "4e29316e",
   "metadata": {},
   "source": [
    "**RECALL SCORE**\n",
    "- RECALL SCORE FOR VALIDATION WITH DECISION TREE IS 0.84\n",
    "- RECALL SCORE FOR VALIDATION WITH RANDOM FORREST IS 0.83\n",
    "- RECALL SCORE FOR VALIDATION WITH XGBOOST IS 0.81"
   ]
  },
  {
   "cell_type": "markdown",
   "id": "c8149515",
   "metadata": {},
   "source": [
    "**ACCURACY SCORE**\n",
    "- ACCURACY SCORE FOR VALIDATION WITH DECISION TREE IS 0.77\n",
    "- ACCURACY SCORE FOR VALIDATION WITH RANDOM FORREST IS 0.78\n",
    "- ACCURACY SCORE FOR VALIDATION WITH XGBOOST IS 0.76"
   ]
  },
  {
   "cell_type": "code",
   "execution_count": null,
   "id": "da929d6d",
   "metadata": {},
   "outputs": [],
   "source": []
  },
  {
   "cell_type": "markdown",
   "id": "81276075",
   "metadata": {},
   "source": [
    "### FEATURE IMPORTANCES"
   ]
  },
  {
   "cell_type": "code",
   "execution_count": null,
   "id": "a5adf6b8",
   "metadata": {},
   "outputs": [],
   "source": []
  },
  {
   "cell_type": "markdown",
   "id": "e98a43d2",
   "metadata": {},
   "source": [
    "#### DECISION TREE"
   ]
  },
  {
   "cell_type": "code",
   "execution_count": 58,
   "id": "edd7a7d1",
   "metadata": {},
   "outputs": [],
   "source": [
    "# Extract feature importance\n",
    "feature_importance_dt = pd.DataFrame({\n",
    "    'Feature': X_train.columns,\n",
    "    'Importance': best_dt.feature_importances_\n",
    "}).sort_values(by='Importance', ascending=False)"
   ]
  },
  {
   "cell_type": "code",
   "execution_count": 59,
   "id": "778366d2",
   "metadata": {},
   "outputs": [
    {
     "data": {
      "text/html": [
       "<div>\n",
       "<style scoped>\n",
       "    .dataframe tbody tr th:only-of-type {\n",
       "        vertical-align: middle;\n",
       "    }\n",
       "\n",
       "    .dataframe tbody tr th {\n",
       "        vertical-align: top;\n",
       "    }\n",
       "\n",
       "    .dataframe thead th {\n",
       "        text-align: right;\n",
       "    }\n",
       "</style>\n",
       "<table border=\"1\" class=\"dataframe\">\n",
       "  <thead>\n",
       "    <tr style=\"text-align: right;\">\n",
       "      <th></th>\n",
       "      <th>Feature</th>\n",
       "      <th>Importance</th>\n",
       "    </tr>\n",
       "  </thead>\n",
       "  <tbody>\n",
       "    <tr>\n",
       "      <th>6</th>\n",
       "      <td>Total_Business_Value</td>\n",
       "      <td>0.402203</td>\n",
       "    </tr>\n",
       "    <tr>\n",
       "      <th>7</th>\n",
       "      <td>is_rating_increased</td>\n",
       "      <td>0.399879</td>\n",
       "    </tr>\n",
       "    <tr>\n",
       "      <th>4</th>\n",
       "      <td>Joining_Designation</td>\n",
       "      <td>0.111469</td>\n",
       "    </tr>\n",
       "    <tr>\n",
       "      <th>0</th>\n",
       "      <td>Age</td>\n",
       "      <td>0.034087</td>\n",
       "    </tr>\n",
       "    <tr>\n",
       "      <th>3</th>\n",
       "      <td>Income</td>\n",
       "      <td>0.016198</td>\n",
       "    </tr>\n",
       "    <tr>\n",
       "      <th>5</th>\n",
       "      <td>Grade</td>\n",
       "      <td>0.012379</td>\n",
       "    </tr>\n",
       "    <tr>\n",
       "      <th>36</th>\n",
       "      <td>City_C7</td>\n",
       "      <td>0.012168</td>\n",
       "    </tr>\n",
       "    <tr>\n",
       "      <th>1</th>\n",
       "      <td>Gender</td>\n",
       "      <td>0.006496</td>\n",
       "    </tr>\n",
       "    <tr>\n",
       "      <th>13</th>\n",
       "      <td>City_C12</td>\n",
       "      <td>0.005121</td>\n",
       "    </tr>\n",
       "    <tr>\n",
       "      <th>30</th>\n",
       "      <td>City_C28</td>\n",
       "      <td>0.000000</td>\n",
       "    </tr>\n",
       "    <tr>\n",
       "      <th>25</th>\n",
       "      <td>City_C23</td>\n",
       "      <td>0.000000</td>\n",
       "    </tr>\n",
       "    <tr>\n",
       "      <th>26</th>\n",
       "      <td>City_C24</td>\n",
       "      <td>0.000000</td>\n",
       "    </tr>\n",
       "    <tr>\n",
       "      <th>27</th>\n",
       "      <td>City_C25</td>\n",
       "      <td>0.000000</td>\n",
       "    </tr>\n",
       "    <tr>\n",
       "      <th>28</th>\n",
       "      <td>City_C26</td>\n",
       "      <td>0.000000</td>\n",
       "    </tr>\n",
       "    <tr>\n",
       "      <th>29</th>\n",
       "      <td>City_C27</td>\n",
       "      <td>0.000000</td>\n",
       "    </tr>\n",
       "    <tr>\n",
       "      <th>33</th>\n",
       "      <td>City_C4</td>\n",
       "      <td>0.000000</td>\n",
       "    </tr>\n",
       "    <tr>\n",
       "      <th>31</th>\n",
       "      <td>City_C29</td>\n",
       "      <td>0.000000</td>\n",
       "    </tr>\n",
       "    <tr>\n",
       "      <th>32</th>\n",
       "      <td>City_C3</td>\n",
       "      <td>0.000000</td>\n",
       "    </tr>\n",
       "    <tr>\n",
       "      <th>23</th>\n",
       "      <td>City_C21</td>\n",
       "      <td>0.000000</td>\n",
       "    </tr>\n",
       "    <tr>\n",
       "      <th>34</th>\n",
       "      <td>City_C5</td>\n",
       "      <td>0.000000</td>\n",
       "    </tr>\n",
       "    <tr>\n",
       "      <th>35</th>\n",
       "      <td>City_C6</td>\n",
       "      <td>0.000000</td>\n",
       "    </tr>\n",
       "    <tr>\n",
       "      <th>37</th>\n",
       "      <td>City_C8</td>\n",
       "      <td>0.000000</td>\n",
       "    </tr>\n",
       "    <tr>\n",
       "      <th>24</th>\n",
       "      <td>City_C22</td>\n",
       "      <td>0.000000</td>\n",
       "    </tr>\n",
       "    <tr>\n",
       "      <th>19</th>\n",
       "      <td>City_C18</td>\n",
       "      <td>0.000000</td>\n",
       "    </tr>\n",
       "    <tr>\n",
       "      <th>22</th>\n",
       "      <td>City_C20</td>\n",
       "      <td>0.000000</td>\n",
       "    </tr>\n",
       "    <tr>\n",
       "      <th>21</th>\n",
       "      <td>City_C2</td>\n",
       "      <td>0.000000</td>\n",
       "    </tr>\n",
       "    <tr>\n",
       "      <th>20</th>\n",
       "      <td>City_C19</td>\n",
       "      <td>0.000000</td>\n",
       "    </tr>\n",
       "    <tr>\n",
       "      <th>18</th>\n",
       "      <td>City_C17</td>\n",
       "      <td>0.000000</td>\n",
       "    </tr>\n",
       "    <tr>\n",
       "      <th>17</th>\n",
       "      <td>City_C16</td>\n",
       "      <td>0.000000</td>\n",
       "    </tr>\n",
       "    <tr>\n",
       "      <th>16</th>\n",
       "      <td>City_C15</td>\n",
       "      <td>0.000000</td>\n",
       "    </tr>\n",
       "    <tr>\n",
       "      <th>15</th>\n",
       "      <td>City_C14</td>\n",
       "      <td>0.000000</td>\n",
       "    </tr>\n",
       "    <tr>\n",
       "      <th>14</th>\n",
       "      <td>City_C13</td>\n",
       "      <td>0.000000</td>\n",
       "    </tr>\n",
       "    <tr>\n",
       "      <th>12</th>\n",
       "      <td>City_C11</td>\n",
       "      <td>0.000000</td>\n",
       "    </tr>\n",
       "    <tr>\n",
       "      <th>11</th>\n",
       "      <td>City_C10</td>\n",
       "      <td>0.000000</td>\n",
       "    </tr>\n",
       "    <tr>\n",
       "      <th>10</th>\n",
       "      <td>City_C1</td>\n",
       "      <td>0.000000</td>\n",
       "    </tr>\n",
       "    <tr>\n",
       "      <th>9</th>\n",
       "      <td>is_grade_increased</td>\n",
       "      <td>0.000000</td>\n",
       "    </tr>\n",
       "    <tr>\n",
       "      <th>8</th>\n",
       "      <td>is_income_increased</td>\n",
       "      <td>0.000000</td>\n",
       "    </tr>\n",
       "    <tr>\n",
       "      <th>2</th>\n",
       "      <td>Education</td>\n",
       "      <td>0.000000</td>\n",
       "    </tr>\n",
       "    <tr>\n",
       "      <th>38</th>\n",
       "      <td>City_C9</td>\n",
       "      <td>0.000000</td>\n",
       "    </tr>\n",
       "  </tbody>\n",
       "</table>\n",
       "</div>"
      ],
      "text/plain": [
       "                 Feature  Importance\n",
       "6   Total_Business_Value    0.402203\n",
       "7    is_rating_increased    0.399879\n",
       "4    Joining_Designation    0.111469\n",
       "0                    Age    0.034087\n",
       "3                 Income    0.016198\n",
       "5                  Grade    0.012379\n",
       "36               City_C7    0.012168\n",
       "1                 Gender    0.006496\n",
       "13              City_C12    0.005121\n",
       "30              City_C28    0.000000\n",
       "25              City_C23    0.000000\n",
       "26              City_C24    0.000000\n",
       "27              City_C25    0.000000\n",
       "28              City_C26    0.000000\n",
       "29              City_C27    0.000000\n",
       "33               City_C4    0.000000\n",
       "31              City_C29    0.000000\n",
       "32               City_C3    0.000000\n",
       "23              City_C21    0.000000\n",
       "34               City_C5    0.000000\n",
       "35               City_C6    0.000000\n",
       "37               City_C8    0.000000\n",
       "24              City_C22    0.000000\n",
       "19              City_C18    0.000000\n",
       "22              City_C20    0.000000\n",
       "21               City_C2    0.000000\n",
       "20              City_C19    0.000000\n",
       "18              City_C17    0.000000\n",
       "17              City_C16    0.000000\n",
       "16              City_C15    0.000000\n",
       "15              City_C14    0.000000\n",
       "14              City_C13    0.000000\n",
       "12              City_C11    0.000000\n",
       "11              City_C10    0.000000\n",
       "10               City_C1    0.000000\n",
       "9     is_grade_increased    0.000000\n",
       "8    is_income_increased    0.000000\n",
       "2              Education    0.000000\n",
       "38               City_C9    0.000000"
      ]
     },
     "execution_count": 59,
     "metadata": {},
     "output_type": "execute_result"
    }
   ],
   "source": [
    "feature_importance_dt"
   ]
  },
  {
   "cell_type": "code",
   "execution_count": 60,
   "id": "2cf1653b",
   "metadata": {},
   "outputs": [
    {
     "data": {
      "image/png": "[encoded data removed]",
      "text/plain": [
       "<Figure size 576x432 with 1 Axes>"
      ]
     },
     "metadata": {
      "needs_background": "light"
     },
     "output_type": "display_data"
    }
   ],
   "source": [
    "plt.figure(figsize=(10,6))\n",
    "sns.barplot(data=feature_importance_dt,y='Feature',x='Importance')\n",
    "plt.show()"
   ]
  },
  {
   "cell_type": "code",
   "execution_count": null,
   "id": "b3e3b9c2",
   "metadata": {},
   "outputs": [],
   "source": []
  },
  {
   "cell_type": "markdown",
   "id": "9d2d65d3",
   "metadata": {},
   "source": [
    "#### RANDOM FORREST"
   ]
  },
  {
   "cell_type": "code",
   "execution_count": 33,
   "id": "c6d2299d",
   "metadata": {},
   "outputs": [
    {
     "data": {
      "text/plain": [
       "array([0.03480971, 0.00483714, 0.00781566, 0.09129364, 0.05137877,\n",
       "       0.06981177, 0.32749206, 0.30667758, 0.01574838, 0.0146288 ,\n",
       "       0.00137794, 0.00107469, 0.00141841, 0.00298288, 0.00469371,\n",
       "       0.00220971, 0.00136646, 0.00427235, 0.00271453, 0.0036751 ,\n",
       "       0.00544913, 0.00236356, 0.00175345, 0.00151931, 0.00279486,\n",
       "       0.00496959, 0.00145539, 0.0023647 , 0.00382643, 0.00215726,\n",
       "       0.00281787, 0.00593561, 0.00144529, 0.00065558, 0.00110022,\n",
       "       0.0010571 , 0.00404492, 0.0011081 , 0.00290236])"
      ]
     },
     "execution_count": 33,
     "metadata": {},
     "output_type": "execute_result"
    }
   ],
   "source": [
    "rf_fimpt =  best_model_rf.feature_importances_\n",
    "rf_fimpt"
   ]
  },
  {
   "cell_type": "code",
   "execution_count": 34,
   "id": "66a906ac",
   "metadata": {},
   "outputs": [],
   "source": [
    "std = np.std([tree.feature_importances_ for tree in best_model_rf.estimators_], axis=0)"
   ]
  },
  {
   "cell_type": "code",
   "execution_count": 36,
   "id": "fff06172",
   "metadata": {},
   "outputs": [
    {
     "data": {
      "text/plain": [
       "array([0.02748752, 0.00850012, 0.01339679, 0.0782938 , 0.05402679,\n",
       "       0.07394548, 0.17357181, 0.17776452, 0.03209631, 0.02844128,\n",
       "       0.00516994, 0.00479884, 0.00502069, 0.00697665, 0.01235923,\n",
       "       0.00540043, 0.00671065, 0.0103613 , 0.01063607, 0.00785149,\n",
       "       0.01247294, 0.00618597, 0.00530576, 0.00530419, 0.00765045,\n",
       "       0.01025256, 0.00500006, 0.00657734, 0.00702139, 0.00655753,\n",
       "       0.00680355, 0.01279413, 0.0047091 , 0.0024767 , 0.00418955,\n",
       "       0.00488441, 0.00755064, 0.00533976, 0.00809563])"
      ]
     },
     "execution_count": 36,
     "metadata": {},
     "output_type": "execute_result"
    }
   ],
   "source": [
    "std"
   ]
  },
  {
   "cell_type": "code",
   "execution_count": 35,
   "id": "6da05f54",
   "metadata": {},
   "outputs": [
    {
     "data": {
      "text/plain": [
       "<Figure size 1080x504 with 0 Axes>"
      ]
     },
     "metadata": {},
     "output_type": "display_data"
    },
    {
     "data": {
      "image/png": "[encoded data removed]",
      "text/plain": [
       "<Figure size 432x288 with 1 Axes>"
      ]
     },
     "metadata": {
      "needs_background": "light"
     },
     "output_type": "display_data"
    }
   ],
   "source": [
    "feature_importances = pd.Series(rf_fimpt, X_train.columns)\n",
    "\n",
    "plt.figure(figsize=(15,7))\n",
    "fig, ax = plt.subplots()\n",
    "feature_importances.plot.bar(yerr=std, ax=ax)\n",
    "ax.set_title(\"Feature importances using MDI\")\n",
    "ax.set_ylabel(\"Mean decrease in impurity\")\n",
    "\n",
    "plt.show()"
   ]
  },
  {
   "cell_type": "code",
   "execution_count": 43,
   "id": "8bf8b0bb",
   "metadata": {},
   "outputs": [
    {
     "data": {
      "text/html": [
       "<div>\n",
       "<style scoped>\n",
       "    .dataframe tbody tr th:only-of-type {\n",
       "        vertical-align: middle;\n",
       "    }\n",
       "\n",
       "    .dataframe tbody tr th {\n",
       "        vertical-align: top;\n",
       "    }\n",
       "\n",
       "    .dataframe thead th {\n",
       "        text-align: right;\n",
       "    }\n",
       "</style>\n",
       "<table border=\"1\" class=\"dataframe\">\n",
       "  <thead>\n",
       "    <tr style=\"text-align: right;\">\n",
       "      <th></th>\n",
       "      <th>feature</th>\n",
       "      <th>impt</th>\n",
       "    </tr>\n",
       "  </thead>\n",
       "  <tbody>\n",
       "    <tr>\n",
       "      <th>0</th>\n",
       "      <td>Age</td>\n",
       "      <td>0.034810</td>\n",
       "    </tr>\n",
       "    <tr>\n",
       "      <th>1</th>\n",
       "      <td>Gender</td>\n",
       "      <td>0.004837</td>\n",
       "    </tr>\n",
       "    <tr>\n",
       "      <th>2</th>\n",
       "      <td>Education</td>\n",
       "      <td>0.007816</td>\n",
       "    </tr>\n",
       "    <tr>\n",
       "      <th>3</th>\n",
       "      <td>Income</td>\n",
       "      <td>0.091294</td>\n",
       "    </tr>\n",
       "    <tr>\n",
       "      <th>4</th>\n",
       "      <td>Joining_Designation</td>\n",
       "      <td>0.051379</td>\n",
       "    </tr>\n",
       "    <tr>\n",
       "      <th>5</th>\n",
       "      <td>Grade</td>\n",
       "      <td>0.069812</td>\n",
       "    </tr>\n",
       "    <tr>\n",
       "      <th>6</th>\n",
       "      <td>Total_Business_Value</td>\n",
       "      <td>0.327492</td>\n",
       "    </tr>\n",
       "    <tr>\n",
       "      <th>7</th>\n",
       "      <td>is_rating_increased</td>\n",
       "      <td>0.306678</td>\n",
       "    </tr>\n",
       "    <tr>\n",
       "      <th>8</th>\n",
       "      <td>is_income_increased</td>\n",
       "      <td>0.015748</td>\n",
       "    </tr>\n",
       "    <tr>\n",
       "      <th>9</th>\n",
       "      <td>is_grade_increased</td>\n",
       "      <td>0.014629</td>\n",
       "    </tr>\n",
       "    <tr>\n",
       "      <th>10</th>\n",
       "      <td>City_C1</td>\n",
       "      <td>0.001378</td>\n",
       "    </tr>\n",
       "    <tr>\n",
       "      <th>11</th>\n",
       "      <td>City_C10</td>\n",
       "      <td>0.001075</td>\n",
       "    </tr>\n",
       "    <tr>\n",
       "      <th>12</th>\n",
       "      <td>City_C11</td>\n",
       "      <td>0.001418</td>\n",
       "    </tr>\n",
       "    <tr>\n",
       "      <th>13</th>\n",
       "      <td>City_C12</td>\n",
       "      <td>0.002983</td>\n",
       "    </tr>\n",
       "    <tr>\n",
       "      <th>14</th>\n",
       "      <td>City_C13</td>\n",
       "      <td>0.004694</td>\n",
       "    </tr>\n",
       "    <tr>\n",
       "      <th>15</th>\n",
       "      <td>City_C14</td>\n",
       "      <td>0.002210</td>\n",
       "    </tr>\n",
       "    <tr>\n",
       "      <th>16</th>\n",
       "      <td>City_C15</td>\n",
       "      <td>0.001366</td>\n",
       "    </tr>\n",
       "    <tr>\n",
       "      <th>17</th>\n",
       "      <td>City_C16</td>\n",
       "      <td>0.004272</td>\n",
       "    </tr>\n",
       "    <tr>\n",
       "      <th>18</th>\n",
       "      <td>City_C17</td>\n",
       "      <td>0.002715</td>\n",
       "    </tr>\n",
       "    <tr>\n",
       "      <th>19</th>\n",
       "      <td>City_C18</td>\n",
       "      <td>0.003675</td>\n",
       "    </tr>\n",
       "    <tr>\n",
       "      <th>20</th>\n",
       "      <td>City_C19</td>\n",
       "      <td>0.005449</td>\n",
       "    </tr>\n",
       "    <tr>\n",
       "      <th>21</th>\n",
       "      <td>City_C2</td>\n",
       "      <td>0.002364</td>\n",
       "    </tr>\n",
       "    <tr>\n",
       "      <th>22</th>\n",
       "      <td>City_C20</td>\n",
       "      <td>0.001753</td>\n",
       "    </tr>\n",
       "    <tr>\n",
       "      <th>23</th>\n",
       "      <td>City_C21</td>\n",
       "      <td>0.001519</td>\n",
       "    </tr>\n",
       "    <tr>\n",
       "      <th>24</th>\n",
       "      <td>City_C22</td>\n",
       "      <td>0.002795</td>\n",
       "    </tr>\n",
       "    <tr>\n",
       "      <th>25</th>\n",
       "      <td>City_C23</td>\n",
       "      <td>0.004970</td>\n",
       "    </tr>\n",
       "    <tr>\n",
       "      <th>26</th>\n",
       "      <td>City_C24</td>\n",
       "      <td>0.001455</td>\n",
       "    </tr>\n",
       "    <tr>\n",
       "      <th>27</th>\n",
       "      <td>City_C25</td>\n",
       "      <td>0.002365</td>\n",
       "    </tr>\n",
       "    <tr>\n",
       "      <th>28</th>\n",
       "      <td>City_C26</td>\n",
       "      <td>0.003826</td>\n",
       "    </tr>\n",
       "    <tr>\n",
       "      <th>29</th>\n",
       "      <td>City_C27</td>\n",
       "      <td>0.002157</td>\n",
       "    </tr>\n",
       "    <tr>\n",
       "      <th>30</th>\n",
       "      <td>City_C28</td>\n",
       "      <td>0.002818</td>\n",
       "    </tr>\n",
       "    <tr>\n",
       "      <th>31</th>\n",
       "      <td>City_C29</td>\n",
       "      <td>0.005936</td>\n",
       "    </tr>\n",
       "    <tr>\n",
       "      <th>32</th>\n",
       "      <td>City_C3</td>\n",
       "      <td>0.001445</td>\n",
       "    </tr>\n",
       "    <tr>\n",
       "      <th>33</th>\n",
       "      <td>City_C4</td>\n",
       "      <td>0.000656</td>\n",
       "    </tr>\n",
       "    <tr>\n",
       "      <th>34</th>\n",
       "      <td>City_C5</td>\n",
       "      <td>0.001100</td>\n",
       "    </tr>\n",
       "    <tr>\n",
       "      <th>35</th>\n",
       "      <td>City_C6</td>\n",
       "      <td>0.001057</td>\n",
       "    </tr>\n",
       "    <tr>\n",
       "      <th>36</th>\n",
       "      <td>City_C7</td>\n",
       "      <td>0.004045</td>\n",
       "    </tr>\n",
       "    <tr>\n",
       "      <th>37</th>\n",
       "      <td>City_C8</td>\n",
       "      <td>0.001108</td>\n",
       "    </tr>\n",
       "    <tr>\n",
       "      <th>38</th>\n",
       "      <td>City_C9</td>\n",
       "      <td>0.002902</td>\n",
       "    </tr>\n",
       "  </tbody>\n",
       "</table>\n",
       "</div>"
      ],
      "text/plain": [
       "                 feature      impt\n",
       "0                    Age  0.034810\n",
       "1                 Gender  0.004837\n",
       "2              Education  0.007816\n",
       "3                 Income  0.091294\n",
       "4    Joining_Designation  0.051379\n",
       "5                  Grade  0.069812\n",
       "6   Total_Business_Value  0.327492\n",
       "7    is_rating_increased  0.306678\n",
       "8    is_income_increased  0.015748\n",
       "9     is_grade_increased  0.014629\n",
       "10               City_C1  0.001378\n",
       "11              City_C10  0.001075\n",
       "12              City_C11  0.001418\n",
       "13              City_C12  0.002983\n",
       "14              City_C13  0.004694\n",
       "15              City_C14  0.002210\n",
       "16              City_C15  0.001366\n",
       "17              City_C16  0.004272\n",
       "18              City_C17  0.002715\n",
       "19              City_C18  0.003675\n",
       "20              City_C19  0.005449\n",
       "21               City_C2  0.002364\n",
       "22              City_C20  0.001753\n",
       "23              City_C21  0.001519\n",
       "24              City_C22  0.002795\n",
       "25              City_C23  0.004970\n",
       "26              City_C24  0.001455\n",
       "27              City_C25  0.002365\n",
       "28              City_C26  0.003826\n",
       "29              City_C27  0.002157\n",
       "30              City_C28  0.002818\n",
       "31              City_C29  0.005936\n",
       "32               City_C3  0.001445\n",
       "33               City_C4  0.000656\n",
       "34               City_C5  0.001100\n",
       "35               City_C6  0.001057\n",
       "36               City_C7  0.004045\n",
       "37               City_C8  0.001108\n",
       "38               City_C9  0.002902"
      ]
     },
     "execution_count": 43,
     "metadata": {},
     "output_type": "execute_result"
    }
   ],
   "source": [
    "feat_imp_dt = pd.DataFrame(list(zip(X_train.columns,rf_fimpt)),columns=['feature','impt'])\n",
    "feat_imp_dt"
   ]
  },
  {
   "cell_type": "code",
   "execution_count": 45,
   "id": "5493f98b",
   "metadata": {},
   "outputs": [
    {
     "data": {
      "image/png": "[encoded data removed]",
      "text/plain": [
       "<Figure size 576x720 with 1 Axes>"
      ]
     },
     "metadata": {
      "needs_background": "light"
     },
     "output_type": "display_data"
    }
   ],
   "source": [
    "plt.figure(figsize=(8,10))\n",
    "sns.barplot(data=feat_imp_dt,y='feature',x='impt')\n",
    "plt.show()"
   ]
  },
  {
   "cell_type": "code",
   "execution_count": null,
   "id": "7de79232",
   "metadata": {},
   "outputs": [],
   "source": []
  },
  {
   "cell_type": "markdown",
   "id": "c56d2763",
   "metadata": {},
   "source": [
    "#### XGBOOST"
   ]
  },
  {
   "cell_type": "code",
   "execution_count": 64,
   "id": "3dbe0572",
   "metadata": {},
   "outputs": [],
   "source": [
    "# Get feature importance\n",
    "feature_importance = pd.DataFrame({\n",
    "    'Feature': X_train.columns,\n",
    "    'Importance': best_xgb_model.feature_importances_\n",
    "}).sort_values(by='Importance', ascending=False)\n"
   ]
  },
  {
   "cell_type": "code",
   "execution_count": 65,
   "id": "17c117ad",
   "metadata": {},
   "outputs": [
    {
     "data": {
      "image/png": "[encoded data removed]",
      "text/plain": [
       "<Figure size 432x288 with 1 Axes>"
      ]
     },
     "metadata": {
      "needs_background": "light"
     },
     "output_type": "display_data"
    }
   ],
   "source": [
    "from xgboost import plot_importance\n",
    "plot_importance(best_xgb_model)\n",
    "plt.show()"
   ]
  },
  {
   "cell_type": "code",
   "execution_count": null,
   "id": "126e0c8d",
   "metadata": {},
   "outputs": [],
   "source": []
  },
  {
   "cell_type": "code",
   "execution_count": 66,
   "id": "a6561bb4",
   "metadata": {
    "scrolled": true
   },
   "outputs": [
    {
     "name": "stdout",
     "output_type": "stream",
     "text": [
      "{'Age': 4.258831977844238, 'Gender': 3.5714499950408936, 'Education': 2.3911280632019043, 'Income': 2.922473430633545, 'Joining_Designation': 14.24431324005127, 'Grade': 4.167656421661377, 'Total_Business_Value': 21.84054946899414, 'is_rating_increased': 38.9133186340332, 'City_C1': 1.9499568939208984, 'City_C12': 3.7396697998046875, 'City_C13': 4.134529113769531, 'City_C14': 2.040924072265625, 'City_C15': 5.6739277839660645, 'City_C16': 3.5830211639404297, 'City_C18': 3.534367799758911, 'City_C19': 6.696173667907715, 'City_C22': 1.804178237915039, 'City_C24': 1.7816753387451172, 'City_C26': 2.5002126693725586, 'City_C27': 2.271055221557617, 'City_C28': 3.437986373901367, 'City_C29': 5.4301018714904785, 'City_C3': 2.9157581329345703, 'City_C5': 2.581326484680176, 'City_C6': 2.272930145263672, 'City_C7': 3.5240683555603027, 'City_C9': 4.699411392211914}\n"
     ]
    }
   ],
   "source": [
    "importance_dict = best_xgb_model.get_booster().get_score(importance_type='gain')  # 'weight', 'cover', or 'gain'\n",
    "print(importance_dict)"
   ]
  },
  {
   "cell_type": "code",
   "execution_count": 67,
   "id": "b8e8cc2b",
   "metadata": {
    "scrolled": true
   },
   "outputs": [
    {
     "data": {
      "text/plain": [
       "Age                      4.258832\n",
       "Gender                   3.571450\n",
       "Education                2.391128\n",
       "Income                   2.922473\n",
       "Joining_Designation     14.244313\n",
       "Grade                    4.167656\n",
       "Total_Business_Value    21.840549\n",
       "is_rating_increased     38.913319\n",
       "City_C1                  1.949957\n",
       "City_C12                 3.739670\n",
       "City_C13                 4.134529\n",
       "City_C14                 2.040924\n",
       "City_C15                 5.673928\n",
       "City_C16                 3.583021\n",
       "City_C18                 3.534368\n",
       "City_C19                 6.696174\n",
       "City_C22                 1.804178\n",
       "City_C24                 1.781675\n",
       "City_C26                 2.500213\n",
       "City_C27                 2.271055\n",
       "City_C28                 3.437986\n",
       "City_C29                 5.430102\n",
       "City_C3                  2.915758\n",
       "City_C5                  2.581326\n",
       "City_C6                  2.272930\n",
       "City_C7                  3.524068\n",
       "City_C9                  4.699411\n",
       "dtype: float64"
      ]
     },
     "execution_count": 67,
     "metadata": {},
     "output_type": "execute_result"
    }
   ],
   "source": [
    "pd.Series(importance_dict)"
   ]
  },
  {
   "cell_type": "code",
   "execution_count": 68,
   "id": "88e07e71",
   "metadata": {
    "scrolled": true
   },
   "outputs": [
    {
     "data": {
      "text/html": [
       "<div>\n",
       "<style scoped>\n",
       "    .dataframe tbody tr th:only-of-type {\n",
       "        vertical-align: middle;\n",
       "    }\n",
       "\n",
       "    .dataframe tbody tr th {\n",
       "        vertical-align: top;\n",
       "    }\n",
       "\n",
       "    .dataframe thead th {\n",
       "        text-align: right;\n",
       "    }\n",
       "</style>\n",
       "<table border=\"1\" class=\"dataframe\">\n",
       "  <thead>\n",
       "    <tr style=\"text-align: right;\">\n",
       "      <th></th>\n",
       "      <th>feature</th>\n",
       "      <th>impt</th>\n",
       "    </tr>\n",
       "  </thead>\n",
       "  <tbody>\n",
       "    <tr>\n",
       "      <th>0</th>\n",
       "      <td>Age</td>\n",
       "      <td>4.258832</td>\n",
       "    </tr>\n",
       "    <tr>\n",
       "      <th>1</th>\n",
       "      <td>Gender</td>\n",
       "      <td>3.571450</td>\n",
       "    </tr>\n",
       "    <tr>\n",
       "      <th>2</th>\n",
       "      <td>Education</td>\n",
       "      <td>2.391128</td>\n",
       "    </tr>\n",
       "    <tr>\n",
       "      <th>3</th>\n",
       "      <td>Income</td>\n",
       "      <td>2.922473</td>\n",
       "    </tr>\n",
       "    <tr>\n",
       "      <th>4</th>\n",
       "      <td>Joining_Designation</td>\n",
       "      <td>14.244313</td>\n",
       "    </tr>\n",
       "    <tr>\n",
       "      <th>5</th>\n",
       "      <td>Grade</td>\n",
       "      <td>4.167656</td>\n",
       "    </tr>\n",
       "    <tr>\n",
       "      <th>6</th>\n",
       "      <td>Total_Business_Value</td>\n",
       "      <td>21.840549</td>\n",
       "    </tr>\n",
       "    <tr>\n",
       "      <th>7</th>\n",
       "      <td>is_rating_increased</td>\n",
       "      <td>38.913319</td>\n",
       "    </tr>\n",
       "    <tr>\n",
       "      <th>8</th>\n",
       "      <td>City_C1</td>\n",
       "      <td>1.949957</td>\n",
       "    </tr>\n",
       "    <tr>\n",
       "      <th>9</th>\n",
       "      <td>City_C12</td>\n",
       "      <td>3.739670</td>\n",
       "    </tr>\n",
       "    <tr>\n",
       "      <th>10</th>\n",
       "      <td>City_C13</td>\n",
       "      <td>4.134529</td>\n",
       "    </tr>\n",
       "    <tr>\n",
       "      <th>11</th>\n",
       "      <td>City_C14</td>\n",
       "      <td>2.040924</td>\n",
       "    </tr>\n",
       "    <tr>\n",
       "      <th>12</th>\n",
       "      <td>City_C15</td>\n",
       "      <td>5.673928</td>\n",
       "    </tr>\n",
       "    <tr>\n",
       "      <th>13</th>\n",
       "      <td>City_C16</td>\n",
       "      <td>3.583021</td>\n",
       "    </tr>\n",
       "    <tr>\n",
       "      <th>14</th>\n",
       "      <td>City_C18</td>\n",
       "      <td>3.534368</td>\n",
       "    </tr>\n",
       "    <tr>\n",
       "      <th>15</th>\n",
       "      <td>City_C19</td>\n",
       "      <td>6.696174</td>\n",
       "    </tr>\n",
       "    <tr>\n",
       "      <th>16</th>\n",
       "      <td>City_C22</td>\n",
       "      <td>1.804178</td>\n",
       "    </tr>\n",
       "    <tr>\n",
       "      <th>17</th>\n",
       "      <td>City_C24</td>\n",
       "      <td>1.781675</td>\n",
       "    </tr>\n",
       "    <tr>\n",
       "      <th>18</th>\n",
       "      <td>City_C26</td>\n",
       "      <td>2.500213</td>\n",
       "    </tr>\n",
       "    <tr>\n",
       "      <th>19</th>\n",
       "      <td>City_C27</td>\n",
       "      <td>2.271055</td>\n",
       "    </tr>\n",
       "    <tr>\n",
       "      <th>20</th>\n",
       "      <td>City_C28</td>\n",
       "      <td>3.437986</td>\n",
       "    </tr>\n",
       "    <tr>\n",
       "      <th>21</th>\n",
       "      <td>City_C29</td>\n",
       "      <td>5.430102</td>\n",
       "    </tr>\n",
       "    <tr>\n",
       "      <th>22</th>\n",
       "      <td>City_C3</td>\n",
       "      <td>2.915758</td>\n",
       "    </tr>\n",
       "    <tr>\n",
       "      <th>23</th>\n",
       "      <td>City_C5</td>\n",
       "      <td>2.581326</td>\n",
       "    </tr>\n",
       "    <tr>\n",
       "      <th>24</th>\n",
       "      <td>City_C6</td>\n",
       "      <td>2.272930</td>\n",
       "    </tr>\n",
       "    <tr>\n",
       "      <th>25</th>\n",
       "      <td>City_C7</td>\n",
       "      <td>3.524068</td>\n",
       "    </tr>\n",
       "    <tr>\n",
       "      <th>26</th>\n",
       "      <td>City_C9</td>\n",
       "      <td>4.699411</td>\n",
       "    </tr>\n",
       "  </tbody>\n",
       "</table>\n",
       "</div>"
      ],
      "text/plain": [
       "                 feature       impt\n",
       "0                    Age   4.258832\n",
       "1                 Gender   3.571450\n",
       "2              Education   2.391128\n",
       "3                 Income   2.922473\n",
       "4    Joining_Designation  14.244313\n",
       "5                  Grade   4.167656\n",
       "6   Total_Business_Value  21.840549\n",
       "7    is_rating_increased  38.913319\n",
       "8                City_C1   1.949957\n",
       "9               City_C12   3.739670\n",
       "10              City_C13   4.134529\n",
       "11              City_C14   2.040924\n",
       "12              City_C15   5.673928\n",
       "13              City_C16   3.583021\n",
       "14              City_C18   3.534368\n",
       "15              City_C19   6.696174\n",
       "16              City_C22   1.804178\n",
       "17              City_C24   1.781675\n",
       "18              City_C26   2.500213\n",
       "19              City_C27   2.271055\n",
       "20              City_C28   3.437986\n",
       "21              City_C29   5.430102\n",
       "22               City_C3   2.915758\n",
       "23               City_C5   2.581326\n",
       "24               City_C6   2.272930\n",
       "25               City_C7   3.524068\n",
       "26               City_C9   4.699411"
      ]
     },
     "execution_count": 68,
     "metadata": {},
     "output_type": "execute_result"
    }
   ],
   "source": [
    "feat_imp_xgb = pd.DataFrame(list(importance_dict.items()),columns=['feature','impt'])\n",
    "feat_imp_xgb"
   ]
  },
  {
   "cell_type": "code",
   "execution_count": 69,
   "id": "68f512b4",
   "metadata": {},
   "outputs": [
    {
     "data": {
      "image/png": "[encoded data removed]",
      "text/plain": [
       "<Figure size 576x432 with 1 Axes>"
      ]
     },
     "metadata": {
      "needs_background": "light"
     },
     "output_type": "display_data"
    }
   ],
   "source": [
    "plt.figure(figsize=(8,6))\n",
    "sns.barplot(data=feat_imp_xgb,y='feature',x='impt')\n",
    "plt.show()"
   ]
  },
  {
   "cell_type": "code",
   "execution_count": null,
   "id": "d2347edb",
   "metadata": {},
   "outputs": [],
   "source": []
  },
  {
   "cell_type": "markdown",
   "id": "a2a44ef5",
   "metadata": {},
   "source": [
    "#### SEPARATE MODELS USING STRATIFIED KFOLD"
   ]
  },
  {
   "cell_type": "code",
   "execution_count": 30,
   "id": "40400df6",
   "metadata": {},
   "outputs": [
    {
     "name": "stdout",
     "output_type": "stream",
     "text": [
      "Random Forest Nested CV F1-score: 0.7733329186450865\n",
      "Decision Tree Nested CV F1-score: 0.7597782186103921\n",
      "XGBoost Nested CV F1-score: 0.7856839826756961\n"
     ]
    }
   ],
   "source": [
    "from sklearn.model_selection import StratifiedKFold, GridSearchCV, cross_val_score\n",
    "from sklearn.ensemble import RandomForestClassifier\n",
    "from sklearn.tree import DecisionTreeClassifier\n",
    "from sklearn.metrics import make_scorer, f1_score\n",
    "import xgboost as xgb\n",
    "import numpy as np\n",
    "\n",
    "# Define outer CV (for model evaluation)\n",
    "outer_kf = StratifiedKFold(n_splits=5, shuffle=True, random_state=42)\n",
    "\n",
    "# Define inner CV (for hyperparameter tuning)\n",
    "inner_kf = StratifiedKFold(n_splits=5, shuffle=True, random_state=42)\n",
    "\n",
    "# Scoring metric\n",
    "scoring = make_scorer(f1_score, average='weighted')\n",
    "\n",
    "#---------------------------------------------------------------------------------\n",
    "\n",
    "### Random Forest Model ###\n",
    "rf_params = {\n",
    "    'n_estimators': [100, 200, 400],\n",
    "    'max_depth': [3, 5, 7],\n",
    "    'criterion': ['gini', 'entropy'],\n",
    "    'bootstrap': [True, False],\n",
    "    'max_features': [8, 9, 10]\n",
    "}\n",
    "\n",
    "rf = RandomForestClassifier(class_weight='balanced', random_state=42)\n",
    "grid_rf = GridSearchCV(rf, param_grid=rf_params, scoring=scoring, cv=inner_kf, n_jobs=-1, verbose=1)\n",
    "rf_nested_scores = cross_val_score(grid_rf, X, y, cv=outer_kf, scoring='f1_weighted', n_jobs=-1)\n",
    "print(\"Random Forest Nested CV F1-score:\", np.mean(rf_nested_scores))\n",
    "\n",
    "#---------------------------------------------------------------------------------\n",
    "\n",
    "### Decision Tree Model ###\n",
    "dt_params = {\n",
    "    'max_depth': [3, 5, 10, None],\n",
    "    'min_samples_split': [2, 5, 10],\n",
    "    'min_samples_leaf': [1, 2, 5],\n",
    "    'criterion': ['gini', 'entropy']\n",
    "}\n",
    "\n",
    "dt = DecisionTreeClassifier(class_weight='balanced', random_state=42)\n",
    "grid_dt = GridSearchCV(dt, param_grid=dt_params, scoring=scoring, cv=inner_kf, n_jobs=-1, verbose=1)\n",
    "dt_nested_scores = cross_val_score(grid_dt, X, y, cv=outer_kf, scoring='f1_weighted', n_jobs=-1)\n",
    "print(\"Decision Tree Nested CV F1-score:\", np.mean(dt_nested_scores))\n",
    "\n",
    "#---------------------------------------------------------------------------------\n",
    "\n",
    "### XGBoost Model ###\n",
    "neg, pos = np.bincount(y)  # y must be binary (0 & 1)\n",
    "scale_pos_weight = neg / pos\n",
    "\n",
    "xgb_params = {\n",
    "    'n_estimators': [50, 100, 200],\n",
    "    'max_depth': [3, 5, 7],\n",
    "    'learning_rate': [0.01, 0.1, 0.2],\n",
    "    'subsample': [0.7, 0.8, 1.0],\n",
    "    'colsample_bytree': [0.7, 0.8, 1.0],\n",
    "    'scale_pos_weight': [1, scale_pos_weight, scale_pos_weight * 1.5, scale_pos_weight * 2]\n",
    "}\n",
    "\n",
    "xgb_clf = xgb.XGBClassifier(objective='binary:logistic', eval_metric='logloss', use_label_encoder=False)\n",
    "grid_xgb = GridSearchCV(xgb_clf, param_grid=xgb_params, scoring=scoring, cv=inner_kf, n_jobs=-1, verbose=1)\n",
    "xgb_nested_scores = cross_val_score(grid_xgb, X, y, cv=outer_kf, scoring='f1_weighted', n_jobs=-1)\n",
    "print(\"XGBoost Nested CV F1-score:\", np.mean(xgb_nested_scores))\n"
   ]
  },
  {
   "cell_type": "code",
   "execution_count": null,
   "id": "d41649ce",
   "metadata": {},
   "outputs": [],
   "source": [
    "# GRAPH FOR THE SCORES"
   ]
  },
  {
   "cell_type": "code",
   "execution_count": 31,
   "id": "2173466d",
   "metadata": {},
   "outputs": [
    {
     "data": {
      "image/png": "[encoded data removed]",
      "text/plain": [
       "<Figure size 720x360 with 1 Axes>"
      ]
     },
     "metadata": {
      "needs_background": "light"
     },
     "output_type": "display_data"
    },
    {
     "name": "stdout",
     "output_type": "stream",
     "text": [
      "Random Forest: Mean F1 = 0.7733, Std = 0.0165\n",
      "Decision Tree: Mean F1 = 0.7598, Std = 0.0187\n",
      "XGBoost: Mean F1 = 0.7857, Std = 0.0103\n",
      "\n",
      "Best Model: XGBoost\n",
      "Fitting 5 folds for each of 972 candidates, totalling 4860 fits\n"
     ]
    },
    {
     "data": {
      "image/png": "[encoded data removed]",
      "text/plain": [
       "<Figure size 720x432 with 1 Axes>"
      ]
     },
     "metadata": {
      "needs_background": "light"
     },
     "output_type": "display_data"
    }
   ],
   "source": [
    "# Store F1-scores from Nested CV\n",
    "cv_results = {\n",
    "    \"Random Forest\": rf_nested_scores,\n",
    "    \"Decision Tree\": dt_nested_scores,\n",
    "    \"XGBoost\": xgb_nested_scores\n",
    "}\n",
    "\n",
    "# Convert to DataFrame for visualization\n",
    "cv_df = pd.DataFrame(cv_results)\n",
    "\n",
    "# Plot Model Performance as a Boxplot\n",
    "plt.figure(figsize=(10, 5))\n",
    "sns.boxplot(data=cv_df)\n",
    "plt.title(\"Model Performance Across Outer Folds\")\n",
    "plt.ylabel(\"F1-Score\")\n",
    "plt.xlabel(\"Model\")\n",
    "plt.show()\n",
    "\n",
    "# Print Mean and Standard Deviation for each model\n",
    "for model_name, scores in cv_results.items():\n",
    "    print(f\"{model_name}: Mean F1 = {np.mean(scores):.4f}, Std = {np.std(scores):.4f}\")\n",
    "\n",
    "# Identify the Best Model\n",
    "best_model_name = max(cv_results, key=lambda k: np.mean(cv_results[k]))\n",
    "print(f\"\\nBest Model: {best_model_name}\")\n",
    "\n",
    "# Train Best Model on Full Training Data\n",
    "best_model = {\n",
    "    \"Random Forest\": grid_rf,\n",
    "    \"Decision Tree\": grid_dt,\n",
    "    \"XGBoost\": grid_xgb\n",
    "}[best_model_name]\n",
    "\n",
    "best_model.fit(X_train, y_train)\n",
    "\n",
    "# Extract Feature Importance\n",
    "if best_model_name == \"XGBoost\":\n",
    "    importances = best_model.best_estimator_.feature_importances_\n",
    "else:\n",
    "    importances = best_model.best_estimator_.feature_importances_\n",
    "\n",
    "# Sort importance values\n",
    "feature_names = X_train.columns\n",
    "sorted_idx = np.argsort(importances)[::-1]\n",
    "\n",
    "# Plot Feature Importance\n",
    "plt.figure(figsize=(10, 6))\n",
    "sns.barplot(x=importances[sorted_idx], y=feature_names[sorted_idx])\n",
    "plt.title(f\"Feature Importance - {best_model_name}\")\n",
    "plt.xlabel(\"Importance Score\")\n",
    "plt.ylabel(\"Feature\")\n",
    "plt.show()"
   ]
  },
  {
   "cell_type": "code",
   "execution_count": null,
   "id": "42d6438f",
   "metadata": {},
   "outputs": [],
   "source": []
  },
  {
   "cell_type": "code",
   "execution_count": null,
   "id": "bbac6712",
   "metadata": {},
   "outputs": [],
   "source": []
  },
  {
   "cell_type": "code",
   "execution_count": null,
   "id": "5a6bdedf",
   "metadata": {
    "scrolled": true
   },
   "outputs": [],
   "source": []
  },
  {
   "cell_type": "code",
   "execution_count": null,
   "id": "e95b3e45",
   "metadata": {},
   "outputs": [],
   "source": []
  },
  {
   "cell_type": "markdown",
   "id": "0f68f7cc",
   "metadata": {},
   "source": [
    "#### UNTUNED META CLASSIFIER WITH XGBOOST"
   ]
  },
  {
   "cell_type": "code",
   "execution_count": 25,
   "id": "d1b0ca5f",
   "metadata": {},
   "outputs": [
    {
     "name": "stdout",
     "output_type": "stream",
     "text": [
      "0.47303271441202477\n"
     ]
    }
   ],
   "source": []
  },
  {
   "cell_type": "code",
   "execution_count": 28,
   "id": "a3b7bdd5",
   "metadata": {},
   "outputs": [
    {
     "name": "stdout",
     "output_type": "stream",
     "text": [
      "Step 1: Defining cross-validation strategy...\n",
      "Step 2.1: Tuning Random Forest...\n",
      "Fitting 5 folds for each of 18 candidates, totalling 90 fits\n",
      "Best RF Params: {'criterion': 'gini', 'max_depth': 7, 'n_estimators': 100}\n",
      "Step 2.2: Tuning Decision Tree...\n",
      "Fitting 5 folds for each of 36 candidates, totalling 180 fits\n",
      "Best DT Params: {'max_depth': 5, 'min_samples_leaf': 5, 'min_samples_split': 2}\n",
      "Step 2.3: Tuning XGBoost...\n",
      "Fitting 5 folds for each of 81 candidates, totalling 405 fits\n",
      "Best XGBoost Params: {'learning_rate': 0.01, 'max_depth': 3, 'n_estimators': 200, 'scale_pos_weight': 0.9460654288240495}\n",
      "Step 3: Generating OOF predictions...\n",
      "OOF Predictions generated.\n",
      "Step 4: Training Meta-Model on stacked features... Shape: (1666, 3)\n",
      "Meta-Model trained.\n",
      "Step 5: Generating test set features...\n",
      "Test set features created. Shape: (357, 3)\n",
      "Step 6: Making final predictions using meta-model...\n",
      "Final Stacked Model F1-score: 0.7978\n"
     ]
    }
   ],
   "source": [
    "import numpy as np\n",
    "import pandas as pd\n",
    "from sklearn.model_selection import StratifiedKFold, cross_val_predict, GridSearchCV\n",
    "from sklearn.ensemble import RandomForestClassifier\n",
    "from sklearn.tree import DecisionTreeClassifier\n",
    "from sklearn.linear_model import LogisticRegression\n",
    "from xgboost import XGBClassifier\n",
    "from sklearn.metrics import f1_score\n",
    "\n",
    "# COMPUTING SCALE_POS_WEIGHT\n",
    "# Count the number of samples in each class\n",
    "neg, pos = np.bincount(y_train)  # y_train must be binary (0 & 1)\n",
    "\n",
    "# Compute scale_pos_weight\n",
    "scale_pos_weight = neg / pos\n",
    "print(scale_pos_weight)\n",
    "#------------------------------------------------------------------------\n",
    "\n",
    "print(\"Step 1: Defining cross-validation strategy...\")\n",
    "kf = StratifiedKFold(n_splits=5, shuffle=True, random_state=42)\n",
    "\n",
    "#  Step 2: Hyperparameter tuning for base models\n",
    "print(\"Step 2.1: Tuning Random Forest...\")\n",
    "rf_params = {\n",
    "    'n_estimators': [100, 200, 400],\n",
    "    'max_depth': [3, 5, 7],\n",
    "    'criterion': ['gini', 'entropy']\n",
    "}\n",
    "rf_grid = GridSearchCV(RandomForestClassifier(class_weight='balanced', random_state=42),\n",
    "                       rf_params, cv=kf, scoring='f1_weighted', n_jobs=-1, verbose=1)\n",
    "rf_grid.fit(X_train, y_train)\n",
    "best_rf = rf_grid.best_estimator_\n",
    "print(f\"Best RF Params: {rf_grid.best_params_}\")\n",
    "\n",
    "print(\"Step 2.2: Tuning Decision Tree...\")\n",
    "dt_params = {\n",
    "    'max_depth': [3, 5, 10, None],\n",
    "    'min_samples_split': [2, 5, 10],\n",
    "    'min_samples_leaf': [1, 2, 5]\n",
    "}\n",
    "dt_grid = GridSearchCV(DecisionTreeClassifier(class_weight='balanced', random_state=42),\n",
    "                       dt_params, cv=kf, scoring='f1_weighted', n_jobs=-1, verbose=1)\n",
    "dt_grid.fit(X_train, y_train)\n",
    "best_dt = dt_grid.best_estimator_\n",
    "print(f\"Best DT Params: {dt_grid.best_params_}\")\n",
    "\n",
    "print(\"Step 2.3: Tuning XGBoost...\")\n",
    "xgb_params = {\n",
    "    'n_estimators': [50, 100, 200],\n",
    "    'max_depth': [3, 5, 7],\n",
    "    'learning_rate': [0.01, 0.1, 0.2],\n",
    "    'scale_pos_weight': [1, scale_pos_weight, scale_pos_weight * 2]\n",
    "}\n",
    "xgb_grid = GridSearchCV(XGBClassifier(objective='binary:logistic', eval_metric='logloss', use_label_encoder=False),\n",
    "                        xgb_params, cv=kf, scoring='f1_weighted', n_jobs=-1, verbose=1)\n",
    "xgb_grid.fit(X_train, y_train)\n",
    "best_xgb = xgb_grid.best_estimator_\n",
    "print(f\"Best XGBoost Params: {xgb_grid.best_params_}\")\n",
    "\n",
    "# Step 3: Get out-of-fold (OOF) predictions\n",
    "print(\"Step 3: Generating OOF predictions...\")\n",
    "rf_oof = cross_val_predict(best_rf, X_train, y_train, cv=kf, method=\"predict_proba\")[:, 1]\n",
    "dt_oof = cross_val_predict(best_dt, X_train, y_train, cv=kf, method=\"predict_proba\")[:, 1]\n",
    "xgb_oof = cross_val_predict(best_xgb, X_train, y_train, cv=kf, method=\"predict_proba\")[:, 1]\n",
    "print(\"OOF Predictions generated.\")\n",
    "\n",
    "# Stack predictions as new features\n",
    "stacked_train = np.column_stack((rf_oof, dt_oof, xgb_oof))\n",
    "print(f\"Step 4: Training Meta-Model on stacked features... Shape: {stacked_train.shape}\")\n",
    "\n",
    "# Step 4: Train the meta-model (Logistic Regression)\n",
    "meta_model = XGBClassifier(random_state=42)\n",
    "meta_model.fit(stacked_train, y_train)\n",
    "print(\"Meta-Model trained.\")\n",
    "\n",
    "# Step 5: Generate test set features for the meta-model\n",
    "print(\"Step 5: Generating test set features...\")\n",
    "rf_test = best_rf.predict_proba(X_val)[:, 1]\n",
    "dt_test = best_dt.predict_proba(X_val)[:, 1]\n",
    "xgb_test = best_xgb.predict_proba(X_val)[:, 1]\n",
    "stacked_test = np.column_stack((rf_test, dt_test, xgb_test))\n",
    "print(f\"Test set features created. Shape: {stacked_test.shape}\")\n",
    "\n",
    "# Predict using the meta-model\n",
    "print(\"Step 6: Making final predictions using meta-model...\")\n",
    "y_pred_stacked = meta_model.predict(stacked_test)\n",
    "\n",
    "# Step 7: Evaluate performance\n",
    "stacked_f1 = f1_score(y_val, y_pred_stacked, average='weighted')\n",
    "print(f\"Final Stacked Model F1-score: {stacked_f1:.4f}\")\n"
   ]
  },
  {
   "cell_type": "code",
   "execution_count": null,
   "id": "cc88db42",
   "metadata": {},
   "outputs": [],
   "source": []
  },
  {
   "cell_type": "markdown",
   "id": "9c4610f5",
   "metadata": {},
   "source": [
    "#### TUNED META CLASSIFIER LOGISTIC REGRESSION\n",
    "- WORKS ONLY IF USED OHE IN 'CITY'"
   ]
  },
  {
   "cell_type": "code",
   "execution_count": 28,
   "id": "272f3e66",
   "metadata": {},
   "outputs": [
    {
     "name": "stdout",
     "output_type": "stream",
     "text": [
      "0.47303271441202477\n"
     ]
    }
   ],
   "source": [
    "# COMPUTING SCALE_POS_WEIGHT\n",
    "# Count the number of samples in each class\n",
    "neg, pos = np.bincount(y_train)  # y_train must be binary (0 & 1)\n",
    "\n",
    "# Compute scale_pos_weight\n",
    "scale_pos_weight = neg / pos\n",
    "print(scale_pos_weight)"
   ]
  },
  {
   "cell_type": "code",
   "execution_count": 27,
   "id": "da248735",
   "metadata": {},
   "outputs": [
    {
     "name": "stdout",
     "output_type": "stream",
     "text": [
      "Performing Nested Cross-Validation...\n",
      "Fitting 5 folds for each of 18 candidates, totalling 90 fits\n",
      "Fitting 5 folds for each of 36 candidates, totalling 180 fits\n",
      "Fitting 5 folds for each of 27 candidates, totalling 135 fits\n",
      "Fitting 5 folds for each of 18 candidates, totalling 90 fits\n",
      "Fitting 5 folds for each of 36 candidates, totalling 180 fits\n",
      "Fitting 5 folds for each of 27 candidates, totalling 135 fits\n",
      "Fitting 5 folds for each of 18 candidates, totalling 90 fits\n",
      "Fitting 5 folds for each of 36 candidates, totalling 180 fits\n",
      "Fitting 5 folds for each of 27 candidates, totalling 135 fits\n",
      "Fitting 5 folds for each of 18 candidates, totalling 90 fits\n",
      "Fitting 5 folds for each of 36 candidates, totalling 180 fits\n",
      "Fitting 5 folds for each of 27 candidates, totalling 135 fits\n",
      "Fitting 5 folds for each of 18 candidates, totalling 90 fits\n",
      "Fitting 5 folds for each of 36 candidates, totalling 180 fits\n",
      "Fitting 5 folds for each of 27 candidates, totalling 135 fits\n",
      " Stacked Features Ready.\n",
      "Final Stacked Model F1-score (Nested CV): 0.5489\n"
     ]
    }
   ],
   "source": [
    "from sklearn.model_selection import StratifiedKFold, GridSearchCV\n",
    "from sklearn.ensemble import RandomForestClassifier\n",
    "from sklearn.tree import DecisionTreeClassifier\n",
    "from sklearn.linear_model import LogisticRegression\n",
    "from sklearn.metrics import f1_score, make_scorer\n",
    "import xgboost as xgb\n",
    "import numpy as np\n",
    "\n",
    "# Define outer CV (for model evaluation)\n",
    "outer_kf = StratifiedKFold(n_splits=5, shuffle=True, random_state=42)\n",
    "\n",
    "# Define inner CV (for hyperparameter tuning)\n",
    "inner_kf = StratifiedKFold(n_splits=5, shuffle=True, random_state=42)\n",
    "\n",
    "# Define base models\n",
    "rf = RandomForestClassifier(class_weight='balanced', random_state=42)\n",
    "dt = DecisionTreeClassifier(class_weight='balanced', random_state=42)\n",
    "xgb_clf = xgb.XGBClassifier(objective='binary:logistic', eval_metric='logloss', use_label_encoder=False)\n",
    "\n",
    "# Define hyperparameters\n",
    "rf_params = {'n_estimators': [100, 200, 400], 'max_depth': [3, 5, 7], 'criterion': ['gini', 'entropy']}\n",
    "dt_params = {'max_depth': [3, 5, 10, None], 'min_samples_split': [2, 5, 10], 'min_samples_leaf': [1, 2, 5]}\n",
    "xgb_params = {'n_estimators': [50, 100, 200], 'max_depth': [3, 5, 7], 'learning_rate': [0.01, 0.1, 0.2]}\n",
    "\n",
    "# Placeholder for stacked features\n",
    "stacked_train = np.zeros((X.shape[0], 3))  # 3 base models\n",
    "stacked_test_folds = np.zeros((X_test.shape[0], 3, outer_kf.get_n_splits()))  # Store test predictions per fold\n",
    "\n",
    "print(\"Performing Nested Cross-Validation...\")\n",
    "\n",
    "for fold_idx, (train_idx, val_idx) in enumerate(outer_kf.split(X, y)):\n",
    "    X_train_fold, X_val_fold = X.iloc[train_idx], X.iloc[val_idx]\n",
    "    y_train_fold, y_val_fold = y.iloc[train_idx], y.iloc[val_idx]\n",
    "\n",
    "    # GridSearchCV for each base model using inner_kf\n",
    "    rf_grid = GridSearchCV(rf, rf_params, cv=inner_kf, scoring='f1_weighted', n_jobs=-1, verbose=1)\n",
    "    dt_grid = GridSearchCV(dt, dt_params, cv=inner_kf, scoring='f1_weighted', n_jobs=-1, verbose=1)\n",
    "    xgb_grid = GridSearchCV(xgb_clf, xgb_params, cv=inner_kf, scoring='f1_weighted', n_jobs=-1, verbose=1)\n",
    "\n",
    "    # Fit models\n",
    "    rf_grid.fit(X_train_fold, y_train_fold)\n",
    "    dt_grid.fit(X_train_fold, y_train_fold)\n",
    "    xgb_grid.fit(X_train_fold, y_train_fold)\n",
    "\n",
    "    # Best estimators\n",
    "    best_rf = rf_grid.best_estimator_\n",
    "    best_dt = dt_grid.best_estimator_\n",
    "    best_xgb = xgb_grid.best_estimator_\n",
    "\n",
    "    # Predict probabilities on validation fold (out-of-fold predictions)\n",
    "    stacked_train[val_idx, 0] = best_rf.predict_proba(X_val_fold)[:, 1]\n",
    "    stacked_train[val_idx, 1] = best_dt.predict_proba(X_val_fold)[:, 1]\n",
    "    stacked_train[val_idx, 2] = best_xgb.predict_proba(X_val_fold)[:, 1]\n",
    "\n",
    "    # Predict on test set\n",
    "    stacked_test_folds[:, 0, fold_idx] = best_rf.predict_proba(X_test)[:, 1]\n",
    "    stacked_test_folds[:, 1, fold_idx] = best_dt.predict_proba(X_test)[:, 1]\n",
    "    stacked_test_folds[:, 2, fold_idx] = best_xgb.predict_proba(X_test)[:, 1]\n",
    "\n",
    "print(\" Stacked Features Ready.\")\n",
    "\n",
    "# Average test set predictions over all outer folds\n",
    "stacked_test = stacked_test_folds.mean(axis=2)\n",
    "\n",
    "# Train the meta-model\n",
    "f1_weighted_scorer = make_scorer(f1_score, average='weighted')\n",
    "\n",
    "params = {\n",
    "    'C': [0.01, 0.1, 1, 10],\n",
    "    'solver': ['lbfgs', 'newton-cg', 'saga'],\n",
    "    'max_iter': [100, 200, 500]\n",
    "}\n",
    "\n",
    "grid_search_meta = GridSearchCV(\n",
    "    estimator=LogisticRegression(class_weight='balanced'),\n",
    "    param_grid=params,\n",
    "    scoring=f1_weighted_scorer,\n",
    "    cv=5,\n",
    "    n_jobs=-1\n",
    ")\n",
    "\n",
    "grid_search_meta.fit(stacked_train, y)\n",
    "best_model_meta = grid_search_meta.best_estimator_\n",
    "\n",
    "# Final predictions on test set\n",
    "y_pred_stacked = best_model_meta.predict(stacked_test)\n",
    "\n",
    "# Evaluate stacked model\n",
    "stacked_f1 = f1_score(y_test, y_pred_stacked, average='weighted')\n",
    "print(f\"Final Stacked Model F1-score (Nested CV): {stacked_f1:.4f}\")\n"
   ]
  },
  {
   "cell_type": "code",
   "execution_count": null,
   "id": "f111acee",
   "metadata": {},
   "outputs": [],
   "source": []
  },
  {
   "cell_type": "code",
   "execution_count": 32,
   "id": "e57f0001",
   "metadata": {},
   "outputs": [
    {
     "name": "stdout",
     "output_type": "stream",
     "text": [
      "Test Set Results:\n",
      "Stacked Model F1-score: 0.5489\n",
      "Stacked Model Accuracy: 0.6788\n",
      "Confusion Matrix:\n",
      "[[  0 115]\n",
      " [  0 243]]\n"
     ]
    }
   ],
   "source": [
    "# Step 1: Generate Predictions from Base Models on Test Set\n",
    "# (Already computed as `stacked_test` in previous step)\n",
    "\n",
    "# Step 2: Make Final Predictions with Meta-Model\n",
    "y_pred_test_stacked = best_model_meta.predict(stacked_test)\n",
    "\n",
    "# Step 3: Evaluate Model Performance\n",
    "from sklearn.metrics import accuracy_score, f1_score, confusion_matrix\n",
    "\n",
    "# Compute Metrics\n",
    "test_f1 = f1_score(y_test, y_pred_test_stacked, average='weighted')\n",
    "test_accuracy = accuracy_score(y_test, y_pred_test_stacked)\n",
    "test_conf_matrix = confusion_matrix(y_test, y_pred_test_stacked)\n",
    "\n",
    "# Print Results\n",
    "print(f\"Test Set Results:\")\n",
    "print(f\"Stacked Model F1-score: {test_f1:.4f}\")\n",
    "print(f\"Stacked Model Accuracy: {test_accuracy:.4f}\")\n",
    "print(\"Confusion Matrix:\")\n",
    "print(test_conf_matrix)\n"
   ]
  },
  {
   "cell_type": "code",
   "execution_count": null,
   "id": "b8c9baa9",
   "metadata": {},
   "outputs": [],
   "source": []
  },
  {
   "cell_type": "code",
   "execution_count": null,
   "id": "dfdcfe96",
   "metadata": {},
   "outputs": [],
   "source": []
  },
  {
   "cell_type": "markdown",
   "id": "b14814c8",
   "metadata": {},
   "source": [
    "#### TUNED META CLASSIFIER XGBOOST"
   ]
  },
  {
   "cell_type": "code",
   "execution_count": 26,
   "id": "21aff17c",
   "metadata": {},
   "outputs": [
    {
     "name": "stdout",
     "output_type": "stream",
     "text": [
      "0.47303271441202477\n",
      "Performing Nested Cross-Validation...\n",
      "Fitting 5 folds for each of 18 candidates, totalling 90 fits\n",
      "Fitting 5 folds for each of 36 candidates, totalling 180 fits\n",
      "Fitting 5 folds for each of 27 candidates, totalling 135 fits\n",
      "Fitting 5 folds for each of 18 candidates, totalling 90 fits\n",
      "Fitting 5 folds for each of 36 candidates, totalling 180 fits\n",
      "Fitting 5 folds for each of 27 candidates, totalling 135 fits\n",
      "Fitting 5 folds for each of 18 candidates, totalling 90 fits\n",
      "Fitting 5 folds for each of 36 candidates, totalling 180 fits\n",
      "Fitting 5 folds for each of 27 candidates, totalling 135 fits\n",
      "Fitting 5 folds for each of 18 candidates, totalling 90 fits\n",
      "Fitting 5 folds for each of 36 candidates, totalling 180 fits\n",
      "Fitting 5 folds for each of 27 candidates, totalling 135 fits\n",
      "Fitting 5 folds for each of 18 candidates, totalling 90 fits\n",
      "Fitting 5 folds for each of 36 candidates, totalling 180 fits\n",
      "Fitting 5 folds for each of 27 candidates, totalling 135 fits\n",
      " Stacked Features Ready.\n",
      "Fitting 5 folds for each of 972 candidates, totalling 4860 fits\n",
      "Final Stacked Model F1-score (Nested CV): 0.5489\n"
     ]
    }
   ],
   "source": [
    "from sklearn.model_selection import StratifiedKFold, GridSearchCV\n",
    "from sklearn.ensemble import RandomForestClassifier\n",
    "from sklearn.tree import DecisionTreeClassifier\n",
    "from sklearn.linear_model import LogisticRegression\n",
    "from sklearn.metrics import f1_score, make_scorer\n",
    "import xgboost as xgb\n",
    "from xgboost import XGBClassifier\n",
    "import numpy as np\n",
    "\n",
    "# ------------------------------------------------------------------------\n",
    "# COMPUTING SCALE_POS_WEIGHT\n",
    "# Count the number of samples in each class\n",
    "#neg, pos = np.bincount(y_train)  # y_train must be binary (0 & 1)\n",
    "\n",
    "# Compute scale_pos_weight\n",
    "#scale_pos_weight = neg / pos\n",
    "#print(f'scale_pos_weight is {scale_pos_weight}.)\n",
    "\n",
    "# ------------------------------------------------------------------------\n",
    "\n",
    "# Define outer CV (for model evaluation)\n",
    "outer_kf = StratifiedKFold(n_splits=5, shuffle=True, random_state=42)\n",
    "\n",
    "# Define inner CV (for hyperparameter tuning)\n",
    "inner_kf = StratifiedKFold(n_splits=5, shuffle=True, random_state=42)\n",
    "\n",
    "# ------------------------------------------------------------------------\n",
    "\n",
    "# Define base models\n",
    "rf = RandomForestClassifier(class_weight='balanced', random_state=42)\n",
    "dt = DecisionTreeClassifier(class_weight='balanced', random_state=42)\n",
    "xgb_clf = xgb.XGBClassifier(objective='binary:logistic', eval_metric='logloss', use_label_encoder=False)\n",
    "\n",
    "# ------------------------------------------------------------------------\n",
    "\n",
    "# Define hyperparameters\n",
    "rf_params = {'n_estimators': [100, 200, 400], 'max_depth': [3, 5, 7], 'criterion': ['gini', 'entropy']}\n",
    "dt_params = {'max_depth': [3, 5, 10, None], 'min_samples_split': [2, 5, 10], 'min_samples_leaf': [1, 2, 5]}\n",
    "xgb_params = {'n_estimators': [50, 100, 200], 'max_depth': [3, 5, 7], 'learning_rate': [0.01, 0.1, 0.2]}\n",
    "\n",
    "# ------------------------------------------------------------------------\n",
    "\n",
    "# Placeholder for stacked features\n",
    "stacked_train = np.zeros((X.shape[0], 3))  # 3 base models\n",
    "stacked_test_folds = np.zeros((X_test.shape[0], 3, outer_kf.get_n_splits()))  # Store test predictions per fold\n",
    "\n",
    "# ------------------------------------------------------------------------\n",
    "\n",
    "print(\"Performing Nested Cross-Validation...\")\n",
    "\n",
    "for fold_idx, (train_idx, val_idx) in enumerate(outer_kf.split(X, y)):\n",
    "    X_train_fold, X_val_fold = X.iloc[train_idx], X.iloc[val_idx]\n",
    "    y_train_fold, y_val_fold = y.iloc[train_idx], y.iloc[val_idx]\n",
    "      \n",
    "    # Compute scale_pos_weight for this fold\n",
    "    neg, pos = np.bincount(y_train_fold)  # Count class instances in training data\n",
    "    scale_pos_weight = neg / pos  # Compute weight for XGBoost  \n",
    "\n",
    "    # GridSearchCV for each base model using inner_kf\n",
    "    rf_grid = GridSearchCV(rf, rf_params, cv=inner_kf, scoring='f1_weighted', n_jobs=-1, verbose=1)\n",
    "    dt_grid = GridSearchCV(dt, dt_params, cv=inner_kf, scoring='f1_weighted', n_jobs=-1, verbose=1)\n",
    "    xgb_grid = GridSearchCV(xgb_clf, xgb_params, cv=inner_kf, scoring='f1_weighted', n_jobs=-1, verbose=1)\n",
    "\n",
    "    # Fit models\n",
    "    rf_grid.fit(X_train_fold, y_train_fold)\n",
    "    dt_grid.fit(X_train_fold, y_train_fold)\n",
    "    xgb_grid.fit(X_train_fold, y_train_fold)\n",
    "\n",
    "    # Best estimators\n",
    "    best_rf = rf_grid.best_estimator_\n",
    "    best_dt = dt_grid.best_estimator_\n",
    "    best_xgb = xgb_grid.best_estimator_\n",
    "\n",
    "    # Predict probabilities on validation fold (out-of-fold predictions)\n",
    "    stacked_train[val_idx, 0] = best_rf.predict_proba(X_val_fold)[:, 1]\n",
    "    stacked_train[val_idx, 1] = best_dt.predict_proba(X_val_fold)[:, 1]\n",
    "    stacked_train[val_idx, 2] = best_xgb.predict_proba(X_val_fold)[:, 1]\n",
    "\n",
    "    # Predict on test set\n",
    "    stacked_test_folds[:, 0, fold_idx] = best_rf.predict_proba(X_test)[:, 1]\n",
    "    stacked_test_folds[:, 1, fold_idx] = best_dt.predict_proba(X_test)[:, 1]\n",
    "    stacked_test_folds[:, 2, fold_idx] = best_xgb.predict_proba(X_test)[:, 1]\n",
    "    \n",
    "# ------------------------------------------------------------------------    \n",
    "\n",
    "print(\" Stacked Features Ready.\")\n",
    "\n",
    "# Average test set predictions over all outer folds\n",
    "stacked_test = stacked_test_folds.mean(axis=2)\n",
    "\n",
    "# Train the meta-model\n",
    "f1_weighted_scorer = make_scorer(f1_score, average='weighted')\n",
    "\n",
    "# USING HYPERTUNED XGBOOST \n",
    "\n",
    "xgb_param_grid_meta = {\n",
    "    'n_estimators': [50, 100, 200],\n",
    "    'max_depth': [3, 5, 7],\n",
    "    'learning_rate': [0.01, 0.1, 0.2],\n",
    "    'subsample': [0.7, 0.8, 1.0],\n",
    "    'colsample_bytree': [0.7, 0.8, 1.0],\n",
    "    'scale_pos_weight': [1, scale_pos_weight, scale_pos_weight * 1.5, scale_pos_weight * 2]}\n",
    "\n",
    "\n",
    "grid_search_meta = GridSearchCV(\n",
    "    estimator=XGBClassifier(class_weight='balanced'),\n",
    "    param_grid=xgb_param_grid_meta,\n",
    "    scoring=f1_weighted_scorer,\n",
    "    cv=5,\n",
    "    n_jobs=-1)\n",
    "\n",
    "kf = StratifiedKFold(n_splits=5, shuffle=True, random_state=42) \n",
    "\n",
    "xgb_clf_meta = XGBClassifier(\n",
    "    objective='binary:logistic', \n",
    "    eval_metric='logloss', \n",
    "    use_label_encoder=False)\n",
    "\n",
    "grid_search_meta = GridSearchCV(\n",
    "    xgb_clf_meta, xgb_param_grid_meta, cv=kf, scoring='f1', n_jobs=-1, verbose=1)\n",
    "    \n",
    "\n",
    "grid_search_meta.fit(stacked_train, y)\n",
    "best_model_meta = grid_search_meta.best_estimator_\n",
    "\n",
    "\n",
    "\n",
    "# Final predictions on test set\n",
    "y_pred_stacked = best_model_meta.predict(stacked_test)\n",
    "\n",
    "# Evaluate stacked model\n",
    "stacked_f1 = f1_score(y_test, y_pred_stacked, average='weighted')\n",
    "print(f\"Final Stacked Model F1-score (Nested CV): {stacked_f1:.4f}\")\n"
   ]
  },
  {
   "cell_type": "code",
   "execution_count": null,
   "id": "bef5c6e4-bc93-4b59-8f71-8d11fe456c04",
   "metadata": {},
   "outputs": [],
   "source": []
  },
  {
   "cell_type": "code",
   "execution_count": null,
   "id": "492656b6",
   "metadata": {},
   "outputs": [],
   "source": []
  },
  {
   "cell_type": "markdown",
   "id": "20b40a3a",
   "metadata": {},
   "source": [
    "#### SELECTING FEATURES FOR FINAL MODEL"
   ]
  },
  {
   "cell_type": "code",
   "execution_count": 13,
   "id": "4c969aaf",
   "metadata": {},
   "outputs": [],
   "source": [
    "# CHECKING THE SCORES WITH SELECTED FEATURES FROM FEATURE IMPORTANCE\n",
    "X = new_df[['is_rating_increased','Joining_Designation','Total_Business_Value']]\n",
    "y = new_df['Target']\n",
    "\n",
    "from sklearn.model_selection import train_test_split\n",
    "\n",
    "# Split data into train, validation, and test sets\n",
    "X_train, X_temp, y_train, y_temp = train_test_split(\n",
    "    X, y, test_size=0.3, stratify=y, random_state=42)\n",
    "\n",
    "# Split the remaining 30% into validation and test sets (50-50 split)\n",
    "X_val, X_test, y_val, y_test = train_test_split(\n",
    "    X_temp, y_temp, test_size=0.5, stratify=y_temp, random_state=42)\n",
    "\n",
    "# SAVING THE COLUMN NAME\n",
    "train_col = X_train.columns\n",
    "val_col = X_val.columns\n",
    "test_col = X_test.columns\n",
    "\n",
    "from sklearn.preprocessing import StandardScaler\n",
    "\n",
    "scaler = StandardScaler()\n",
    "X_train = scaler.fit_transform(X_train)\n",
    "X_val = scaler.transform(X_val)\n",
    "X_test = scaler.transform(X_test)\n",
    "\n",
    "# RETREVING BACK THE COLUMNS\n",
    "\n",
    "X_train = pd.DataFrame(X_train)\n",
    "X_train.columns = train_col\n",
    "\n",
    "X_val = pd.DataFrame(X_val)\n",
    "X_val.columns = val_col\n",
    "\n",
    "X_test = pd.DataFrame(X_test)\n",
    "X_test.columns = test_col"
   ]
  },
  {
   "cell_type": "code",
   "execution_count": 21,
   "id": "e20ad163",
   "metadata": {},
   "outputs": [],
   "source": [
    "import time\n",
    "from sklearn.ensemble import RandomForestClassifier\n",
    "from sklearn.metrics import accuracy_score, classification_report, confusion_matrix"
   ]
  },
  {
   "cell_type": "code",
   "execution_count": 22,
   "id": "45f6b075",
   "metadata": {},
   "outputs": [
    {
     "data": {
      "text/html": [
       "<div>\n",
       "<style scoped>\n",
       "    .dataframe tbody tr th:only-of-type {\n",
       "        vertical-align: middle;\n",
       "    }\n",
       "\n",
       "    .dataframe tbody tr th {\n",
       "        vertical-align: top;\n",
       "    }\n",
       "\n",
       "    .dataframe thead th {\n",
       "        text-align: right;\n",
       "    }\n",
       "</style>\n",
       "<table border=\"1\" class=\"dataframe\">\n",
       "  <thead>\n",
       "    <tr style=\"text-align: right;\">\n",
       "      <th></th>\n",
       "      <th>is_rating_increased</th>\n",
       "      <th>Joining_Designation</th>\n",
       "      <th>Total_Business_Value</th>\n",
       "    </tr>\n",
       "  </thead>\n",
       "  <tbody>\n",
       "    <tr>\n",
       "      <th>0</th>\n",
       "      <td>2.379916</td>\n",
       "      <td>-0.994481</td>\n",
       "      <td>-0.454811</td>\n",
       "    </tr>\n",
       "    <tr>\n",
       "      <th>1</th>\n",
       "      <td>-0.420183</td>\n",
       "      <td>-0.994481</td>\n",
       "      <td>-0.473212</td>\n",
       "    </tr>\n",
       "    <tr>\n",
       "      <th>2</th>\n",
       "      <td>2.379916</td>\n",
       "      <td>0.198323</td>\n",
       "      <td>-0.009224</td>\n",
       "    </tr>\n",
       "    <tr>\n",
       "      <th>3</th>\n",
       "      <td>-0.420183</td>\n",
       "      <td>1.391128</td>\n",
       "      <td>-0.485940</td>\n",
       "    </tr>\n",
       "    <tr>\n",
       "      <th>4</th>\n",
       "      <td>-0.420183</td>\n",
       "      <td>-0.994481</td>\n",
       "      <td>1.456876</td>\n",
       "    </tr>\n",
       "    <tr>\n",
       "      <th>...</th>\n",
       "      <td>...</td>\n",
       "      <td>...</td>\n",
       "      <td>...</td>\n",
       "    </tr>\n",
       "    <tr>\n",
       "      <th>1661</th>\n",
       "      <td>2.379916</td>\n",
       "      <td>-0.994481</td>\n",
       "      <td>7.087977</td>\n",
       "    </tr>\n",
       "    <tr>\n",
       "      <th>1662</th>\n",
       "      <td>-0.420183</td>\n",
       "      <td>-0.994481</td>\n",
       "      <td>1.510414</td>\n",
       "    </tr>\n",
       "    <tr>\n",
       "      <th>1663</th>\n",
       "      <td>-0.420183</td>\n",
       "      <td>-0.994481</td>\n",
       "      <td>-0.204968</td>\n",
       "    </tr>\n",
       "    <tr>\n",
       "      <th>1664</th>\n",
       "      <td>-0.420183</td>\n",
       "      <td>0.198323</td>\n",
       "      <td>-0.503233</td>\n",
       "    </tr>\n",
       "    <tr>\n",
       "      <th>1665</th>\n",
       "      <td>-0.420183</td>\n",
       "      <td>-0.994481</td>\n",
       "      <td>-0.458156</td>\n",
       "    </tr>\n",
       "  </tbody>\n",
       "</table>\n",
       "<p>1666 rows × 3 columns</p>\n",
       "</div>"
      ],
      "text/plain": [
       "      is_rating_increased  Joining_Designation  Total_Business_Value\n",
       "0                2.379916            -0.994481             -0.454811\n",
       "1               -0.420183            -0.994481             -0.473212\n",
       "2                2.379916             0.198323             -0.009224\n",
       "3               -0.420183             1.391128             -0.485940\n",
       "4               -0.420183            -0.994481              1.456876\n",
       "...                   ...                  ...                   ...\n",
       "1661             2.379916            -0.994481              7.087977\n",
       "1662            -0.420183            -0.994481              1.510414\n",
       "1663            -0.420183            -0.994481             -0.204968\n",
       "1664            -0.420183             0.198323             -0.503233\n",
       "1665            -0.420183            -0.994481             -0.458156\n",
       "\n",
       "[1666 rows x 3 columns]"
      ]
     },
     "execution_count": 22,
     "metadata": {},
     "output_type": "execute_result"
    }
   ],
   "source": [
    "X_train"
   ]
  },
  {
   "cell_type": "markdown",
   "id": "b6707285",
   "metadata": {},
   "source": [
    "#### stacked model - tuned meta (selected features)"
   ]
  },
  {
   "cell_type": "code",
   "execution_count": 21,
   "id": "6c6c5524",
   "metadata": {},
   "outputs": [
    {
     "name": "stdout",
     "output_type": "stream",
     "text": [
      "Performing Nested Cross-Validation...\n",
      "Fitting 5 folds for each of 18 candidates, totalling 90 fits\n",
      "Fitting 5 folds for each of 36 candidates, totalling 180 fits\n",
      "Fitting 5 folds for each of 27 candidates, totalling 135 fits\n",
      "Fitting 5 folds for each of 18 candidates, totalling 90 fits\n",
      "Fitting 5 folds for each of 36 candidates, totalling 180 fits\n",
      "Fitting 5 folds for each of 27 candidates, totalling 135 fits\n",
      "Fitting 5 folds for each of 18 candidates, totalling 90 fits\n",
      "Fitting 5 folds for each of 36 candidates, totalling 180 fits\n",
      "Fitting 5 folds for each of 27 candidates, totalling 135 fits\n",
      "Fitting 5 folds for each of 18 candidates, totalling 90 fits\n",
      "Fitting 5 folds for each of 36 candidates, totalling 180 fits\n",
      "Fitting 5 folds for each of 27 candidates, totalling 135 fits\n",
      "Fitting 5 folds for each of 18 candidates, totalling 90 fits\n",
      "Fitting 5 folds for each of 36 candidates, totalling 180 fits\n",
      "Fitting 5 folds for each of 27 candidates, totalling 135 fits\n",
      " Stacked Features Ready.\n",
      "Fitting 5 folds for each of 972 candidates, totalling 4860 fits\n",
      "Final Stacked Model F1-score (Nested CV): 0.5489\n"
     ]
    }
   ],
   "source": [
    "from sklearn.model_selection import StratifiedKFold, GridSearchCV\n",
    "from sklearn.ensemble import RandomForestClassifier\n",
    "from sklearn.tree import DecisionTreeClassifier\n",
    "from sklearn.linear_model import LogisticRegression\n",
    "from sklearn.metrics import f1_score, make_scorer\n",
    "import xgboost as xgb\n",
    "from xgboost import XGBClassifier\n",
    "import numpy as np\n",
    "\n",
    "# ------------------------------------------------------------------------\n",
    "# COMPUTING SCALE_POS_WEIGHT\n",
    "# Count the number of samples in each class\n",
    "#neg, pos = np.bincount(y_train)  # y_train must be binary (0 & 1)\n",
    "\n",
    "# Compute scale_pos_weight\n",
    "#scale_pos_weight = neg / pos\n",
    "#print(f'scale_pos_weight is {scale_pos_weight}.)\n",
    "\n",
    "# ------------------------------------------------------------------------\n",
    "\n",
    "# Define outer CV (for model evaluation)\n",
    "outer_kf = StratifiedKFold(n_splits=5, shuffle=True, random_state=42)\n",
    "\n",
    "# Define inner CV (for hyperparameter tuning)\n",
    "inner_kf = StratifiedKFold(n_splits=5, shuffle=True, random_state=42)\n",
    "\n",
    "# ------------------------------------------------------------------------\n",
    "\n",
    "# Define base models\n",
    "rf = RandomForestClassifier(class_weight='balanced', random_state=42)\n",
    "dt = DecisionTreeClassifier(class_weight='balanced', random_state=42)\n",
    "xgb_clf = xgb.XGBClassifier(objective='binary:logistic', eval_metric='logloss', use_label_encoder=False)\n",
    "\n",
    "# ------------------------------------------------------------------------\n",
    "\n",
    "# Define hyperparameters\n",
    "rf_params = {'n_estimators': [100, 200, 400], 'max_depth': [3, 5, 7], 'criterion': ['gini', 'entropy']}\n",
    "dt_params = {'max_depth': [3, 5, 10, None], 'min_samples_split': [2, 5, 10], 'min_samples_leaf': [1, 2, 5]}\n",
    "xgb_params = {'n_estimators': [50, 100, 200], 'max_depth': [3, 5, 7], 'learning_rate': [0.01, 0.1, 0.2]}\n",
    "\n",
    "# ------------------------------------------------------------------------\n",
    "\n",
    "# Placeholder for stacked features\n",
    "stacked_train = np.zeros((X.shape[0], 3))  # 3 base models\n",
    "stacked_test_folds = np.zeros((X_test.shape[0], 3, outer_kf.get_n_splits()))  # Store test predictions per fold\n",
    "\n",
    "# ------------------------------------------------------------------------\n",
    "\n",
    "print(\"Performing Nested Cross-Validation...\")\n",
    "\n",
    "for fold_idx, (train_idx, val_idx) in enumerate(outer_kf.split(X, y)):\n",
    "    X_train_fold, X_val_fold = X.iloc[train_idx], X.iloc[val_idx]\n",
    "    y_train_fold, y_val_fold = y.iloc[train_idx], y.iloc[val_idx]\n",
    "      \n",
    "    # Compute scale_pos_weight for this fold\n",
    "    neg, pos = np.bincount(y_train_fold)  # Count class instances in training data\n",
    "    scale_pos_weight = neg / pos  # Compute weight for XGBoost  \n",
    "\n",
    "    # GridSearchCV for each base model using inner_kf\n",
    "    rf_grid = GridSearchCV(rf, rf_params, cv=inner_kf, scoring='f1_weighted', n_jobs=-1, verbose=1)\n",
    "    dt_grid = GridSearchCV(dt, dt_params, cv=inner_kf, scoring='f1_weighted', n_jobs=-1, verbose=1)\n",
    "    xgb_grid = GridSearchCV(xgb_clf, xgb_params, cv=inner_kf, scoring='f1_weighted', n_jobs=-1, verbose=1)\n",
    "\n",
    "    # Fit models\n",
    "    rf_grid.fit(X_train_fold, y_train_fold)\n",
    "    dt_grid.fit(X_train_fold, y_train_fold)\n",
    "    xgb_grid.fit(X_train_fold, y_train_fold)\n",
    "\n",
    "    # Best estimators\n",
    "    best_rf = rf_grid.best_estimator_\n",
    "    best_dt = dt_grid.best_estimator_\n",
    "    best_xgb = xgb_grid.best_estimator_\n",
    "\n",
    "    # Predict probabilities on validation fold (out-of-fold predictions)\n",
    "    stacked_train[val_idx, 0] = best_rf.predict_proba(X_val_fold)[:, 1]\n",
    "    stacked_train[val_idx, 1] = best_dt.predict_proba(X_val_fold)[:, 1]\n",
    "    stacked_train[val_idx, 2] = best_xgb.predict_proba(X_val_fold)[:, 1]\n",
    "\n",
    "    # Predict on test set\n",
    "    stacked_test_folds[:, 0, fold_idx] = best_rf.predict_proba(X_test)[:, 1]\n",
    "    stacked_test_folds[:, 1, fold_idx] = best_dt.predict_proba(X_test)[:, 1]\n",
    "    stacked_test_folds[:, 2, fold_idx] = best_xgb.predict_proba(X_test)[:, 1]\n",
    "    \n",
    "# ------------------------------------------------------------------------    \n",
    "\n",
    "print(\" Stacked Features Ready.\")\n",
    "\n",
    "# Average test set predictions over all outer folds\n",
    "stacked_test = stacked_test_folds.mean(axis=2)\n",
    "\n",
    "# Train the meta-model\n",
    "f1_weighted_scorer = make_scorer(f1_score, average='weighted')\n",
    "\n",
    "# USING HYPERTUNED XGBOOST \n",
    "\n",
    "xgb_param_grid_meta = {\n",
    "    'n_estimators': [50, 100, 200],\n",
    "    'max_depth': [3, 5, 7],\n",
    "    'learning_rate': [0.01, 0.1, 0.2],\n",
    "    'subsample': [0.7, 0.8, 1.0],\n",
    "    'colsample_bytree': [0.7, 0.8, 1.0],\n",
    "    'scale_pos_weight': [1, scale_pos_weight, scale_pos_weight * 1.5, scale_pos_weight * 2]}\n",
    "\n",
    "\n",
    "grid_search_meta = GridSearchCV(\n",
    "    estimator=XGBClassifier(class_weight='balanced'),\n",
    "    param_grid=xgb_param_grid_meta,\n",
    "    scoring=f1_weighted_scorer,\n",
    "    cv=5,\n",
    "    n_jobs=-1)\n",
    "\n",
    "kf = StratifiedKFold(n_splits=5, shuffle=True, random_state=42) \n",
    "\n",
    "xgb_clf_meta = XGBClassifier(\n",
    "    objective='binary:logistic', \n",
    "    eval_metric='logloss', \n",
    "    use_label_encoder=False)\n",
    "\n",
    "grid_search_meta = GridSearchCV(\n",
    "    xgb_clf_meta, xgb_param_grid_meta, cv=kf, scoring='f1', n_jobs=-1, verbose=1)\n",
    "    \n",
    "\n",
    "grid_search_meta.fit(stacked_train, y)\n",
    "best_model_meta = grid_search_meta.best_estimator_\n",
    "\n",
    "\n",
    "\n",
    "# Final predictions on test set\n",
    "y_pred_stacked = best_model_meta.predict(stacked_test)\n",
    "\n",
    "# Evaluate stacked model\n",
    "stacked_f1 = f1_score(y_test, y_pred_stacked, average='weighted')\n",
    "print(f\"Final Stacked Model F1-score (Nested CV): {stacked_f1:.4f}\")\n"
   ]
  },
  {
   "cell_type": "markdown",
   "id": "ba8d2826",
   "metadata": {},
   "source": [
    "#### stacked model - untuned meta (selected features)"
   ]
  },
  {
   "cell_type": "code",
   "execution_count": 22,
   "id": "c44ea4a9",
   "metadata": {},
   "outputs": [
    {
     "name": "stdout",
     "output_type": "stream",
     "text": [
      "0.47303271441202477\n",
      "Step 1: Defining cross-validation strategy...\n",
      "Step 2.1: Tuning Random Forest...\n",
      "Fitting 5 folds for each of 18 candidates, totalling 90 fits\n",
      "Best RF Params: {'criterion': 'gini', 'max_depth': 3, 'n_estimators': 200}\n",
      "Step 2.2: Tuning Decision Tree...\n",
      "Fitting 5 folds for each of 36 candidates, totalling 180 fits\n",
      "Best DT Params: {'max_depth': 5, 'min_samples_leaf': 2, 'min_samples_split': 2}\n",
      "Step 2.3: Tuning XGBoost...\n",
      "Fitting 5 folds for each of 81 candidates, totalling 405 fits\n",
      "Best XGBoost Params: {'learning_rate': 0.01, 'max_depth': 3, 'n_estimators': 200, 'scale_pos_weight': 0.9460654288240495}\n",
      "Step 3: Generating OOF predictions...\n",
      "OOF Predictions generated.\n",
      "Step 4: Training Meta-Model on stacked features... Shape: (1666, 3)\n",
      "Meta-Model trained.\n",
      "Step 5: Generating test set features...\n",
      "Test set features created. Shape: (357, 3)\n",
      "Step 6: Making final predictions using meta-model...\n",
      "Final Stacked Model F1-score: 0.7626\n"
     ]
    }
   ],
   "source": [
    "import numpy as np\n",
    "import pandas as pd\n",
    "from sklearn.model_selection import StratifiedKFold, cross_val_predict, GridSearchCV\n",
    "from sklearn.ensemble import RandomForestClassifier\n",
    "from sklearn.tree import DecisionTreeClassifier\n",
    "from sklearn.linear_model import LogisticRegression\n",
    "from xgboost import XGBClassifier\n",
    "from sklearn.metrics import f1_score\n",
    "\n",
    "# COMPUTING SCALE_POS_WEIGHT\n",
    "# Count the number of samples in each class\n",
    "neg, pos = np.bincount(y_train)  # y_train must be binary (0 & 1)\n",
    "\n",
    "# Compute scale_pos_weight\n",
    "scale_pos_weight = neg / pos\n",
    "print(scale_pos_weight)\n",
    "#------------------------------------------------------------------------\n",
    "\n",
    "print(\"Step 1: Defining cross-validation strategy...\")\n",
    "kf = StratifiedKFold(n_splits=5, shuffle=True, random_state=42)\n",
    "\n",
    "#  Step 2: Hyperparameter tuning for base models\n",
    "print(\"Step 2.1: Tuning Random Forest...\")\n",
    "rf_params = {\n",
    "    'n_estimators': [100, 200, 400],\n",
    "    'max_depth': [3, 5, 7],\n",
    "    'criterion': ['gini', 'entropy']\n",
    "}\n",
    "rf_grid = GridSearchCV(RandomForestClassifier(class_weight='balanced', random_state=42),\n",
    "                       rf_params, cv=kf, scoring='f1_weighted', n_jobs=-1, verbose=1)\n",
    "rf_grid.fit(X_train, y_train)\n",
    "best_rf = rf_grid.best_estimator_\n",
    "print(f\"Best RF Params: {rf_grid.best_params_}\")\n",
    "\n",
    "print(\"Step 2.2: Tuning Decision Tree...\")\n",
    "dt_params = {\n",
    "    'max_depth': [3, 5, 10, None],\n",
    "    'min_samples_split': [2, 5, 10],\n",
    "    'min_samples_leaf': [1, 2, 5]\n",
    "}\n",
    "dt_grid = GridSearchCV(DecisionTreeClassifier(class_weight='balanced', random_state=42),\n",
    "                       dt_params, cv=kf, scoring='f1_weighted', n_jobs=-1, verbose=1)\n",
    "dt_grid.fit(X_train, y_train)\n",
    "best_dt = dt_grid.best_estimator_\n",
    "print(f\"Best DT Params: {dt_grid.best_params_}\")\n",
    "\n",
    "print(\"Step 2.3: Tuning XGBoost...\")\n",
    "xgb_params = {\n",
    "    'n_estimators': [50, 100, 200],\n",
    "    'max_depth': [3, 5, 7],\n",
    "    'learning_rate': [0.01, 0.1, 0.2],\n",
    "    'scale_pos_weight': [1, scale_pos_weight, scale_pos_weight * 2]\n",
    "}\n",
    "xgb_grid = GridSearchCV(XGBClassifier(objective='binary:logistic', eval_metric='logloss', use_label_encoder=False),\n",
    "                        xgb_params, cv=kf, scoring='f1_weighted', n_jobs=-1, verbose=1)\n",
    "xgb_grid.fit(X_train, y_train)\n",
    "best_xgb = xgb_grid.best_estimator_\n",
    "print(f\"Best XGBoost Params: {xgb_grid.best_params_}\")\n",
    "\n",
    "# Step 3: Get out-of-fold (OOF) predictions\n",
    "print(\"Step 3: Generating OOF predictions...\")\n",
    "rf_oof = cross_val_predict(best_rf, X_train, y_train, cv=kf, method=\"predict_proba\")[:, 1]\n",
    "dt_oof = cross_val_predict(best_dt, X_train, y_train, cv=kf, method=\"predict_proba\")[:, 1]\n",
    "xgb_oof = cross_val_predict(best_xgb, X_train, y_train, cv=kf, method=\"predict_proba\")[:, 1]\n",
    "print(\"OOF Predictions generated.\")\n",
    "\n",
    "# Stack predictions as new features\n",
    "stacked_train = np.column_stack((rf_oof, dt_oof, xgb_oof))\n",
    "print(f\"Step 4: Training Meta-Model on stacked features... Shape: {stacked_train.shape}\")\n",
    "\n",
    "# Step 4: Train the meta-model (Logistic Regression)\n",
    "meta_model = XGBClassifier(random_state=42)\n",
    "meta_model.fit(stacked_train, y_train)\n",
    "print(\"Meta-Model trained.\")\n",
    "\n",
    "# Step 5: Generate test set features for the meta-model\n",
    "print(\"Step 5: Generating test set features...\")\n",
    "rf_test = best_rf.predict_proba(X_val)[:, 1]\n",
    "dt_test = best_dt.predict_proba(X_val)[:, 1]\n",
    "xgb_test = best_xgb.predict_proba(X_val)[:, 1]\n",
    "stacked_test = np.column_stack((rf_test, dt_test, xgb_test))\n",
    "print(f\"Test set features created. Shape: {stacked_test.shape}\")\n",
    "\n",
    "# Predict using the meta-model\n",
    "print(\"Step 6: Making final predictions using meta-model...\")\n",
    "y_pred_stacked = meta_model.predict(stacked_test)\n",
    "\n",
    "# Step 7: Evaluate performance\n",
    "stacked_f1 = f1_score(y_val, y_pred_stacked, average='weighted')\n",
    "print(f\"Final Stacked Model F1-score: {stacked_f1:.4f}\")\n"
   ]
  },
  {
   "cell_type": "code",
   "execution_count": null,
   "id": "3752232b",
   "metadata": {},
   "outputs": [],
   "source": []
  },
  {
   "cell_type": "markdown",
   "id": "54655f1c",
   "metadata": {},
   "source": [
    "#### SEPARATE MODELS USING STRATIFIED KFOLD (selected features)"
   ]
  },
  {
   "cell_type": "code",
   "execution_count": 23,
   "id": "5e0bb22b",
   "metadata": {},
   "outputs": [
    {
     "name": "stdout",
     "output_type": "stream",
     "text": [
      "Random Forest Nested CV F1-score: nan\n",
      "Decision Tree Nested CV F1-score: 0.7676195430594751\n",
      "XGBoost Nested CV F1-score: 0.7894795878447978\n"
     ]
    }
   ],
   "source": [
    "from sklearn.model_selection import StratifiedKFold, GridSearchCV, cross_val_score\n",
    "from sklearn.ensemble import RandomForestClassifier\n",
    "from sklearn.tree import DecisionTreeClassifier\n",
    "from sklearn.metrics import make_scorer, f1_score\n",
    "import xgboost as xgb\n",
    "import numpy as np\n",
    "\n",
    "# Define outer CV (for model evaluation)\n",
    "outer_kf = StratifiedKFold(n_splits=5, shuffle=True, random_state=42)\n",
    "\n",
    "# Define inner CV (for hyperparameter tuning)\n",
    "inner_kf = StratifiedKFold(n_splits=5, shuffle=True, random_state=42)\n",
    "\n",
    "# Scoring metric\n",
    "scoring = make_scorer(f1_score, average='weighted')\n",
    "\n",
    "#---------------------------------------------------------------------------------\n",
    "\n",
    "### Random Forest Model ###\n",
    "rf_params = {\n",
    "    'n_estimators': [100, 200, 400],\n",
    "    'max_depth': [3, 5, 7],\n",
    "    'criterion': ['gini', 'entropy'],\n",
    "    'bootstrap': [True, False],\n",
    "    'max_features': [8, 9, 10]\n",
    "}\n",
    "\n",
    "rf = RandomForestClassifier(class_weight='balanced', random_state=42)\n",
    "grid_rf = GridSearchCV(rf, param_grid=rf_params, scoring=scoring, cv=inner_kf, n_jobs=-1, verbose=1)\n",
    "rf_nested_scores = cross_val_score(grid_rf, X, y, cv=outer_kf, scoring='f1_weighted', n_jobs=-1)\n",
    "print(\"Random Forest Nested CV F1-score:\", np.mean(rf_nested_scores))\n",
    "\n",
    "#---------------------------------------------------------------------------------\n",
    "\n",
    "### Decision Tree Model ###\n",
    "dt_params = {\n",
    "    'max_depth': [3, 5, 10, None],\n",
    "    'min_samples_split': [2, 5, 10],\n",
    "    'min_samples_leaf': [1, 2, 5],\n",
    "    'criterion': ['gini', 'entropy']\n",
    "}\n",
    "\n",
    "dt = DecisionTreeClassifier(class_weight='balanced', random_state=42)\n",
    "grid_dt = GridSearchCV(dt, param_grid=dt_params, scoring=scoring, cv=inner_kf, n_jobs=-1, verbose=1)\n",
    "dt_nested_scores = cross_val_score(grid_dt, X, y, cv=outer_kf, scoring='f1_weighted', n_jobs=-1)\n",
    "print(\"Decision Tree Nested CV F1-score:\", np.mean(dt_nested_scores))\n",
    "\n",
    "#---------------------------------------------------------------------------------\n",
    "\n",
    "### XGBoost Model ###\n",
    "neg, pos = np.bincount(y)  # y must be binary (0 & 1)\n",
    "scale_pos_weight = neg / pos\n",
    "\n",
    "xgb_params = {\n",
    "    'n_estimators': [50, 100, 200],\n",
    "    'max_depth': [3, 5, 7],\n",
    "    'learning_rate': [0.01, 0.1, 0.2],\n",
    "    'subsample': [0.7, 0.8, 1.0],\n",
    "    'colsample_bytree': [0.7, 0.8, 1.0],\n",
    "    'scale_pos_weight': [1, scale_pos_weight, scale_pos_weight * 1.5, scale_pos_weight * 2]\n",
    "}\n",
    "\n",
    "xgb_clf = xgb.XGBClassifier(objective='binary:logistic', eval_metric='logloss', use_label_encoder=False)\n",
    "grid_xgb = GridSearchCV(xgb_clf, param_grid=xgb_params, scoring=scoring, cv=inner_kf, n_jobs=-1, verbose=1)\n",
    "xgb_nested_scores = cross_val_score(grid_xgb, X, y, cv=outer_kf, scoring='f1_weighted', n_jobs=-1)\n",
    "print(\"XGBoost Nested CV F1-score:\", np.mean(xgb_nested_scores))\n"
   ]
  },
  {
   "cell_type": "code",
   "execution_count": null,
   "id": "a85e0d2e",
   "metadata": {},
   "outputs": [],
   "source": []
  },
  {
   "cell_type": "markdown",
   "id": "9b34ae2f",
   "metadata": {},
   "source": [
    "#### Decision Tree (selected features)"
   ]
  },
  {
   "cell_type": "code",
   "execution_count": 14,
   "id": "391a38f6",
   "metadata": {},
   "outputs": [
    {
     "name": "stdout",
     "output_type": "stream",
     "text": [
      "2.1.4\n"
     ]
    }
   ],
   "source": [
    "import xgboost\n",
    "print(xgboost.__version__)"
   ]
  },
  {
   "cell_type": "code",
   "execution_count": null,
   "id": "3fb38a3c-68ce-4363-9390-9ff971050ba1",
   "metadata": {},
   "outputs": [],
   "source": []
  },
  {
   "cell_type": "markdown",
   "id": "ef9944e5",
   "metadata": {},
   "source": [
    "#### XGBoost (selected features)"
   ]
  },
  {
   "cell_type": "code",
   "execution_count": null,
   "id": "f537775c",
   "metadata": {},
   "outputs": [],
   "source": []
  },
  {
   "cell_type": "markdown",
   "id": "e8a690c3",
   "metadata": {},
   "source": [
    "#### SELECTED FEATURES FOR FINAL MODEL"
   ]
  },
  {
   "cell_type": "code",
   "execution_count": 14,
   "id": "5dad140f",
   "metadata": {},
   "outputs": [],
   "source": [
    "# CHECKING THE SCORES WITH SELECTED FEATURES FROM FEATURE IMPORTANCE\n",
    "X = new_df[['is_rating_increased','Joining_Designation','Total_Business_Value']]\n",
    "y = new_df['Target']\n",
    "\n",
    "from sklearn.model_selection import train_test_split\n",
    "\n",
    "# Split data into train, validation, and test sets\n",
    "X_train, X_temp, y_train, y_temp = train_test_split(\n",
    "    X, y, test_size=0.3, stratify=y, random_state=42)\n",
    "\n",
    "# Split the remaining 30% into validation and test sets (50-50 split)\n",
    "X_val, X_test, y_val, y_test = train_test_split(\n",
    "    X_temp, y_temp, test_size=0.5, stratify=y_temp, random_state=42)\n",
    "\n",
    "# SAVING THE COLUMN NAME\n",
    "train_col = X_train.columns\n",
    "val_col = X_val.columns\n",
    "test_col = X_test.columns\n",
    "\n",
    "from sklearn.preprocessing import StandardScaler\n",
    "\n",
    "scaler = StandardScaler()\n",
    "X_train = scaler.fit_transform(X_train)\n",
    "X_val = scaler.transform(X_val)\n",
    "X_test = scaler.transform(X_test)\n",
    "\n",
    "# RETREVING BACK THE COLUMNS\n",
    "\n",
    "X_train = pd.DataFrame(X_train)\n",
    "X_train.columns = train_col\n",
    "\n",
    "X_val = pd.DataFrame(X_val)\n",
    "X_val.columns = val_col\n",
    "\n",
    "X_test = pd.DataFrame(X_test)\n",
    "X_test.columns = test_col"
   ]
  },
  {
   "cell_type": "markdown",
   "id": "c7231e48",
   "metadata": {},
   "source": [
    "#### Separate Models USING STRATIFIED KFOLD (selected features)"
   ]
  },
  {
   "cell_type": "code",
   "execution_count": 13,
   "id": "16c3971b",
   "metadata": {},
   "outputs": [
    {
     "name": "stdout",
     "output_type": "stream",
     "text": [
      "Random Forest Nested CV F1-score: nan\n",
      "Decision Tree Nested CV F1-score: 0.7676195430594751\n",
      "XGBoost Nested CV F1-score: 0.7897057831381484\n"
     ]
    }
   ],
   "source": [
    "from sklearn.model_selection import StratifiedKFold, GridSearchCV, cross_val_score\n",
    "from sklearn.ensemble import RandomForestClassifier\n",
    "from sklearn.tree import DecisionTreeClassifier\n",
    "from sklearn.metrics import make_scorer, f1_score\n",
    "import xgboost as xgb\n",
    "import numpy as np\n",
    "\n",
    "# Define outer CV (for model evaluation)\n",
    "outer_kf = StratifiedKFold(n_splits=5, shuffle=True, random_state=42)\n",
    "\n",
    "# Define inner CV (for hyperparameter tuning)\n",
    "inner_kf = StratifiedKFold(n_splits=5, shuffle=True, random_state=42)\n",
    "\n",
    "# Scoring metric\n",
    "scoring = make_scorer(f1_score, average='weighted')\n",
    "\n",
    "#---------------------------------------------------------------------------------\n",
    "\n",
    "### Random Forest Model ###\n",
    "rf_params = {\n",
    "    'n_estimators': [100, 200, 400],\n",
    "    'max_depth': [3, 5, 7],\n",
    "    'criterion': ['gini', 'entropy'],\n",
    "    'bootstrap': [True, False],\n",
    "    'max_features': [8, 9, 10]\n",
    "}\n",
    "\n",
    "rf = RandomForestClassifier(class_weight='balanced', random_state=42)\n",
    "grid_rf = GridSearchCV(rf, param_grid=rf_params, scoring=scoring, cv=inner_kf, n_jobs=-1, verbose=1)\n",
    "rf_nested_scores = cross_val_score(grid_rf, X, y, cv=outer_kf, scoring='f1_weighted', n_jobs=-1)\n",
    "print(\"Random Forest Nested CV F1-score:\", np.mean(rf_nested_scores))\n",
    "\n",
    "#---------------------------------------------------------------------------------\n",
    "\n",
    "### Decision Tree Model ###\n",
    "dt_params = {\n",
    "    'max_depth': [3, 5, 10, None],\n",
    "    'min_samples_split': [2, 5, 10],\n",
    "    'min_samples_leaf': [1, 2, 5],\n",
    "    'criterion': ['gini', 'entropy']\n",
    "}\n",
    "\n",
    "dt = DecisionTreeClassifier(class_weight='balanced', random_state=42)\n",
    "grid_dt = GridSearchCV(dt, param_grid=dt_params, scoring=scoring, cv=inner_kf, n_jobs=-1, verbose=1)\n",
    "dt_nested_scores = cross_val_score(grid_dt, X, y, cv=outer_kf, scoring='f1_weighted', n_jobs=-1)\n",
    "print(\"Decision Tree Nested CV F1-score:\", np.mean(dt_nested_scores))\n",
    "\n",
    "#---------------------------------------------------------------------------------\n",
    "\n",
    "### XGBoost Model ###\n",
    "neg, pos = np.bincount(y)  # y must be binary (0 & 1)\n",
    "scale_pos_weight = neg / pos\n",
    "\n",
    "xgb_params = {\n",
    "    'n_estimators': [50, 100, 200],\n",
    "    'max_depth': [3, 5, 7],\n",
    "    'learning_rate': [0.01, 0.1, 0.2],\n",
    "    'subsample': [0.7, 0.8, 1.0],\n",
    "    'colsample_bytree': [0.7, 0.8, 1.0],\n",
    "    'scale_pos_weight': [1, scale_pos_weight, scale_pos_weight * 1.5, scale_pos_weight * 2]\n",
    "}\n",
    "\n",
    "xgb_clf = xgb.XGBClassifier(objective='binary:logistic', eval_metric='logloss', use_label_encoder=False)\n",
    "grid_xgb = GridSearchCV(xgb_clf, param_grid=xgb_params, scoring=scoring, cv=inner_kf, n_jobs=-1, verbose=1)\n",
    "xgb_nested_scores = cross_val_score(grid_xgb, X, y, cv=outer_kf, scoring='f1_weighted', n_jobs=-1)\n",
    "print(\"XGBoost Nested CV F1-score:\", np.mean(xgb_nested_scores))\n"
   ]
  },
  {
   "cell_type": "markdown",
   "id": "fb92b13c",
   "metadata": {},
   "source": [
    "#### tuned xgboost"
   ]
  },
  {
   "cell_type": "code",
   "execution_count": 15,
   "id": "22bd5397",
   "metadata": {},
   "outputs": [
    {
     "name": "stdout",
     "output_type": "stream",
     "text": [
      "Fitting 5 folds for each of 972 candidates, totalling 4860 fits\n",
      "Best Parameters: {'colsample_bytree': 0.7, 'learning_rate': 0.01, 'max_depth': 5, 'n_estimators': 200, 'scale_pos_weight': 1, 'subsample': 1.0}\n",
      "              precision    recall  f1-score   support\n",
      "\n",
      "           0       0.84      0.58      0.69       115\n",
      "           1       0.83      0.95      0.88       242\n",
      "\n",
      "    accuracy                           0.83       357\n",
      "   macro avg       0.83      0.76      0.78       357\n",
      "weighted avg       0.83      0.83      0.82       357\n",
      "\n",
      "F1-Score for validation is : 0.8825\n"
     ]
    }
   ],
   "source": [
    "from sklearn.metrics import f1_score\n",
    "import xgboost as xgb\n",
    "from sklearn.metrics import accuracy_score, classification_report, confusion_matrix\n",
    "from sklearn.model_selection import StratifiedKFold, GridSearchCV, cross_val_score\n",
    "\n",
    "\n",
    "# USING HYPERTUNED XGBOOST \n",
    "\n",
    "### XGBoost Model ###\n",
    "neg, pos = np.bincount(y_train)  # y must be binary (0 & 1)\n",
    "scale_pos_weight = neg / pos\n",
    "\n",
    "xgb_param_grid = {\n",
    "    'n_estimators': [50, 100, 200],\n",
    "    'max_depth': [3, 5, 7],\n",
    "    'learning_rate': [0.01, 0.1, 0.2],\n",
    "    'subsample': [0.7, 0.8, 1.0],\n",
    "    'colsample_bytree': [0.7, 0.8, 1.0],\n",
    "    'scale_pos_weight': [1, scale_pos_weight, scale_pos_weight * 1.5, scale_pos_weight * 2]}\n",
    "\n",
    "kf = StratifiedKFold(n_splits=5, shuffle=True, random_state=42)  # 5 folds\n",
    "\n",
    "# Initialize XGBoost Classifier\n",
    "\n",
    "xgb_clf = xgb.XGBClassifier(objective='binary:logistic', eval_metric='logloss')\n",
    "\n",
    "# Perform Grid Search with Stratified K-Fold for cross-validation\n",
    "grid_search_xgb = GridSearchCV(xgb_clf, xgb_param_grid, cv=kf, scoring='f1', n_jobs=-1, verbose=1)\n",
    "\n",
    "# Fit on training data\n",
    "grid_search_xgb.fit(X_train, y_train)\n",
    "\n",
    "best_params = grid_search_xgb.best_params_\n",
    "best_xgb_model = grid_search_xgb.best_estimator_\n",
    "\n",
    "print(\"Best Parameters:\", best_params)\n",
    "\n",
    "y_pred_tuned_xgb_val = best_xgb_model.predict(X_val)\n",
    "\n",
    "print(classification_report(y_val, y_pred_tuned_xgb_val))\n",
    "\n",
    "xgb_val_f1 = f1_score(y_val, y_pred_tuned_xgb_val)\n",
    "print(f\"F1-Score for validation is : {xgb_val_f1:.4f}\")"
   ]
  },
  {
   "cell_type": "code",
   "execution_count": null,
   "id": "49b8b1f7-852c-4369-92be-19f60197c838",
   "metadata": {},
   "outputs": [],
   "source": []
  },
  {
   "cell_type": "markdown",
   "id": "6a3350b0",
   "metadata": {},
   "source": [
    "#### tuned Random Forrest"
   ]
  },
  {
   "cell_type": "code",
   "execution_count": 17,
   "id": "f49e16d2",
   "metadata": {},
   "outputs": [
    {
     "name": "stderr",
     "output_type": "stream",
     "text": [
      "[Parallel(n_jobs=1)]: Done  49 tasks      | elapsed:    0.0s\n",
      "[Parallel(n_jobs=1)]: Done 199 tasks      | elapsed:    0.2s\n"
     ]
    },
    {
     "name": "stdout",
     "output_type": "stream",
     "text": [
      "Classification Report:\n",
      "               precision    recall  f1-score   support\n",
      "\n",
      "           0       0.76      0.64      0.70       115\n",
      "           1       0.84      0.90      0.87       242\n",
      "\n",
      "    accuracy                           0.82       357\n",
      "   macro avg       0.80      0.77      0.79       357\n",
      "weighted avg       0.82      0.82      0.82       357\n",
      "\n",
      "Classification Report:\n",
      "               precision    recall  f1-score   support\n",
      "\n",
      "           0       0.72      0.57      0.63       115\n",
      "           1       0.81      0.90      0.85       243\n",
      "\n",
      "    accuracy                           0.79       358\n",
      "   macro avg       0.77      0.73      0.74       358\n",
      "weighted avg       0.78      0.79      0.78       358\n",
      "\n"
     ]
    },
    {
     "name": "stderr",
     "output_type": "stream",
     "text": [
      "[Parallel(n_jobs=1)]: Done  49 tasks      | elapsed:    0.0s\n",
      "[Parallel(n_jobs=1)]: Done 199 tasks      | elapsed:    0.0s\n",
      "[Parallel(n_jobs=1)]: Done  49 tasks      | elapsed:    0.0s\n",
      "[Parallel(n_jobs=1)]: Done 199 tasks      | elapsed:    0.0s\n"
     ]
    }
   ],
   "source": [
    "# Defining parameters -\n",
    "from sklearn.model_selection import StratifiedKFold, GridSearchCV, cross_val_score\n",
    "from sklearn.ensemble import RandomForestClassifier\n",
    "\n",
    "\n",
    "params = {\n",
    "          'n_estimators' : [100,150,200,400],\n",
    "          'max_depth' : [3,4,5,6,7],\n",
    "          'criterion' : ['gini', 'entropy'],\n",
    "          'bootstrap' : [True, False],\n",
    "          'max_features' : [1,2,3]}\n",
    "\n",
    "# Define Stratified K-Fold for cross-validation\n",
    "\n",
    "kf = StratifiedKFold(n_splits=5, shuffle=True, random_state=42)  # 5 folds\n",
    "\n",
    "# FITTING INTO GRIDSEARCH FOR FINDING BEST PARAMETER\n",
    "grid_search = GridSearchCV(estimator = RandomForestClassifier(class_weight='balanced',verbose=1),\n",
    "                    param_grid = params, scoring = 'f1_weighted', cv = kf, n_jobs=-1)\n",
    "\n",
    "grid_search.fit(X_train, y_train)\n",
    "best_model_rf = grid_search.best_estimator_\n",
    "y_pred_best_rf_val = best_model_rf.predict(X_val)\n",
    "print(\"Classification Report:\\n\", classification_report(y_val, y_pred_best_rf_val))\n",
    "\n",
    "y_pred_best_rf_test = best_model_rf.predict(X_test)\n",
    "print(\"Classification Report:\\n\", classification_report(y_test, y_pred_best_rf_test))"
   ]
  },
  {
   "cell_type": "code",
   "execution_count": 37,
   "id": "7ad573c3",
   "metadata": {},
   "outputs": [
    {
     "data": {
      "text/html": [
       "<div>\n",
       "<style scoped>\n",
       "    .dataframe tbody tr th:only-of-type {\n",
       "        vertical-align: middle;\n",
       "    }\n",
       "\n",
       "    .dataframe tbody tr th {\n",
       "        vertical-align: top;\n",
       "    }\n",
       "\n",
       "    .dataframe thead th {\n",
       "        text-align: right;\n",
       "    }\n",
       "</style>\n",
       "<table border=\"1\" class=\"dataframe\">\n",
       "  <thead>\n",
       "    <tr style=\"text-align: right;\">\n",
       "      <th></th>\n",
       "      <th>is_rating_increased</th>\n",
       "      <th>Joining_Designation</th>\n",
       "      <th>Total_Business_Value</th>\n",
       "    </tr>\n",
       "  </thead>\n",
       "  <tbody>\n",
       "    <tr>\n",
       "      <th>0</th>\n",
       "      <td>2.379916</td>\n",
       "      <td>-0.994481</td>\n",
       "      <td>-0.454811</td>\n",
       "    </tr>\n",
       "    <tr>\n",
       "      <th>1</th>\n",
       "      <td>-0.420183</td>\n",
       "      <td>-0.994481</td>\n",
       "      <td>-0.473212</td>\n",
       "    </tr>\n",
       "    <tr>\n",
       "      <th>2</th>\n",
       "      <td>2.379916</td>\n",
       "      <td>0.198323</td>\n",
       "      <td>-0.009224</td>\n",
       "    </tr>\n",
       "    <tr>\n",
       "      <th>3</th>\n",
       "      <td>-0.420183</td>\n",
       "      <td>1.391128</td>\n",
       "      <td>-0.485940</td>\n",
       "    </tr>\n",
       "    <tr>\n",
       "      <th>4</th>\n",
       "      <td>-0.420183</td>\n",
       "      <td>-0.994481</td>\n",
       "      <td>1.456876</td>\n",
       "    </tr>\n",
       "    <tr>\n",
       "      <th>...</th>\n",
       "      <td>...</td>\n",
       "      <td>...</td>\n",
       "      <td>...</td>\n",
       "    </tr>\n",
       "    <tr>\n",
       "      <th>1661</th>\n",
       "      <td>2.379916</td>\n",
       "      <td>-0.994481</td>\n",
       "      <td>7.087977</td>\n",
       "    </tr>\n",
       "    <tr>\n",
       "      <th>1662</th>\n",
       "      <td>-0.420183</td>\n",
       "      <td>-0.994481</td>\n",
       "      <td>1.510414</td>\n",
       "    </tr>\n",
       "    <tr>\n",
       "      <th>1663</th>\n",
       "      <td>-0.420183</td>\n",
       "      <td>-0.994481</td>\n",
       "      <td>-0.204968</td>\n",
       "    </tr>\n",
       "    <tr>\n",
       "      <th>1664</th>\n",
       "      <td>-0.420183</td>\n",
       "      <td>0.198323</td>\n",
       "      <td>-0.503233</td>\n",
       "    </tr>\n",
       "    <tr>\n",
       "      <th>1665</th>\n",
       "      <td>-0.420183</td>\n",
       "      <td>-0.994481</td>\n",
       "      <td>-0.458156</td>\n",
       "    </tr>\n",
       "  </tbody>\n",
       "</table>\n",
       "<p>1666 rows × 3 columns</p>\n",
       "</div>"
      ],
      "text/plain": [
       "      is_rating_increased  Joining_Designation  Total_Business_Value\n",
       "0                2.379916            -0.994481             -0.454811\n",
       "1               -0.420183            -0.994481             -0.473212\n",
       "2                2.379916             0.198323             -0.009224\n",
       "3               -0.420183             1.391128             -0.485940\n",
       "4               -0.420183            -0.994481              1.456876\n",
       "...                   ...                  ...                   ...\n",
       "1661             2.379916            -0.994481              7.087977\n",
       "1662            -0.420183            -0.994481              1.510414\n",
       "1663            -0.420183            -0.994481             -0.204968\n",
       "1664            -0.420183             0.198323             -0.503233\n",
       "1665            -0.420183            -0.994481             -0.458156\n",
       "\n",
       "[1666 rows x 3 columns]"
      ]
     },
     "execution_count": 37,
     "metadata": {},
     "output_type": "execute_result"
    }
   ],
   "source": [
    "X_train"
   ]
  },
  {
   "cell_type": "markdown",
   "id": "67100214",
   "metadata": {},
   "source": [
    "#### SAVING A MODEL"
   ]
  },
  {
   "cell_type": "code",
   "execution_count": 19,
   "id": "7db4e82e",
   "metadata": {},
   "outputs": [
    {
     "data": {
      "text/html": [
       "<div>\n",
       "<style scoped>\n",
       "    .dataframe tbody tr th:only-of-type {\n",
       "        vertical-align: middle;\n",
       "    }\n",
       "\n",
       "    .dataframe tbody tr th {\n",
       "        vertical-align: top;\n",
       "    }\n",
       "\n",
       "    .dataframe thead th {\n",
       "        text-align: right;\n",
       "    }\n",
       "</style>\n",
       "<table border=\"1\" class=\"dataframe\">\n",
       "  <thead>\n",
       "    <tr style=\"text-align: right;\">\n",
       "      <th></th>\n",
       "      <th>is_rating_increased</th>\n",
       "      <th>Joining_Designation</th>\n",
       "      <th>Total_Business_Value</th>\n",
       "    </tr>\n",
       "  </thead>\n",
       "  <tbody>\n",
       "    <tr>\n",
       "      <th>0</th>\n",
       "      <td>0</td>\n",
       "      <td>1</td>\n",
       "      <td>1715580</td>\n",
       "    </tr>\n",
       "    <tr>\n",
       "      <th>1</th>\n",
       "      <td>0</td>\n",
       "      <td>2</td>\n",
       "      <td>0</td>\n",
       "    </tr>\n",
       "    <tr>\n",
       "      <th>2</th>\n",
       "      <td>0</td>\n",
       "      <td>2</td>\n",
       "      <td>350000</td>\n",
       "    </tr>\n",
       "    <tr>\n",
       "      <th>3</th>\n",
       "      <td>0</td>\n",
       "      <td>1</td>\n",
       "      <td>120360</td>\n",
       "    </tr>\n",
       "    <tr>\n",
       "      <th>4</th>\n",
       "      <td>1</td>\n",
       "      <td>3</td>\n",
       "      <td>1265000</td>\n",
       "    </tr>\n",
       "    <tr>\n",
       "      <th>...</th>\n",
       "      <td>...</td>\n",
       "      <td>...</td>\n",
       "      <td>...</td>\n",
       "    </tr>\n",
       "    <tr>\n",
       "      <th>2376</th>\n",
       "      <td>1</td>\n",
       "      <td>2</td>\n",
       "      <td>21748820</td>\n",
       "    </tr>\n",
       "    <tr>\n",
       "      <th>2377</th>\n",
       "      <td>0</td>\n",
       "      <td>1</td>\n",
       "      <td>0</td>\n",
       "    </tr>\n",
       "    <tr>\n",
       "      <th>2378</th>\n",
       "      <td>0</td>\n",
       "      <td>2</td>\n",
       "      <td>2815090</td>\n",
       "    </tr>\n",
       "    <tr>\n",
       "      <th>2379</th>\n",
       "      <td>0</td>\n",
       "      <td>1</td>\n",
       "      <td>977830</td>\n",
       "    </tr>\n",
       "    <tr>\n",
       "      <th>2380</th>\n",
       "      <td>1</td>\n",
       "      <td>2</td>\n",
       "      <td>2298240</td>\n",
       "    </tr>\n",
       "  </tbody>\n",
       "</table>\n",
       "<p>2381 rows × 3 columns</p>\n",
       "</div>"
      ],
      "text/plain": [
       "      is_rating_increased  Joining_Designation  Total_Business_Value\n",
       "0                       0                    1               1715580\n",
       "1                       0                    2                     0\n",
       "2                       0                    2                350000\n",
       "3                       0                    1                120360\n",
       "4                       1                    3               1265000\n",
       "...                   ...                  ...                   ...\n",
       "2376                    1                    2              21748820\n",
       "2377                    0                    1                     0\n",
       "2378                    0                    2               2815090\n",
       "2379                    0                    1                977830\n",
       "2380                    1                    2               2298240\n",
       "\n",
       "[2381 rows x 3 columns]"
      ]
     },
     "execution_count": 19,
     "metadata": {},
     "output_type": "execute_result"
    }
   ],
   "source": [
    "X"
   ]
  },
  {
   "cell_type": "code",
   "execution_count": 18,
   "id": "02e68b15",
   "metadata": {},
   "outputs": [],
   "source": [
    "# SAVING A FULL DATAFRAME OF WINE DATASET.\n",
    "X.to_csv('churn.csv')"
   ]
  },
  {
   "cell_type": "code",
   "execution_count": 48,
   "id": "9857882b",
   "metadata": {},
   "outputs": [
    {
     "data": {
      "text/html": [
       "<div>\n",
       "<style scoped>\n",
       "    .dataframe tbody tr th:only-of-type {\n",
       "        vertical-align: middle;\n",
       "    }\n",
       "\n",
       "    .dataframe tbody tr th {\n",
       "        vertical-align: top;\n",
       "    }\n",
       "\n",
       "    .dataframe thead th {\n",
       "        text-align: right;\n",
       "    }\n",
       "</style>\n",
       "<table border=\"1\" class=\"dataframe\">\n",
       "  <thead>\n",
       "    <tr style=\"text-align: right;\">\n",
       "      <th></th>\n",
       "      <th>is_rating_increased</th>\n",
       "      <th>Joining_Designation</th>\n",
       "      <th>Total_Business_Value</th>\n",
       "    </tr>\n",
       "  </thead>\n",
       "  <tbody>\n",
       "    <tr>\n",
       "      <th>0</th>\n",
       "      <td>2.379916</td>\n",
       "      <td>-0.994481</td>\n",
       "      <td>-0.454811</td>\n",
       "    </tr>\n",
       "    <tr>\n",
       "      <th>1</th>\n",
       "      <td>-0.420183</td>\n",
       "      <td>-0.994481</td>\n",
       "      <td>-0.473212</td>\n",
       "    </tr>\n",
       "    <tr>\n",
       "      <th>2</th>\n",
       "      <td>2.379916</td>\n",
       "      <td>0.198323</td>\n",
       "      <td>-0.009224</td>\n",
       "    </tr>\n",
       "    <tr>\n",
       "      <th>3</th>\n",
       "      <td>-0.420183</td>\n",
       "      <td>1.391128</td>\n",
       "      <td>-0.485940</td>\n",
       "    </tr>\n",
       "    <tr>\n",
       "      <th>4</th>\n",
       "      <td>-0.420183</td>\n",
       "      <td>-0.994481</td>\n",
       "      <td>1.456876</td>\n",
       "    </tr>\n",
       "    <tr>\n",
       "      <th>...</th>\n",
       "      <td>...</td>\n",
       "      <td>...</td>\n",
       "      <td>...</td>\n",
       "    </tr>\n",
       "    <tr>\n",
       "      <th>1661</th>\n",
       "      <td>2.379916</td>\n",
       "      <td>-0.994481</td>\n",
       "      <td>7.087977</td>\n",
       "    </tr>\n",
       "    <tr>\n",
       "      <th>1662</th>\n",
       "      <td>-0.420183</td>\n",
       "      <td>-0.994481</td>\n",
       "      <td>1.510414</td>\n",
       "    </tr>\n",
       "    <tr>\n",
       "      <th>1663</th>\n",
       "      <td>-0.420183</td>\n",
       "      <td>-0.994481</td>\n",
       "      <td>-0.204968</td>\n",
       "    </tr>\n",
       "    <tr>\n",
       "      <th>1664</th>\n",
       "      <td>-0.420183</td>\n",
       "      <td>0.198323</td>\n",
       "      <td>-0.503233</td>\n",
       "    </tr>\n",
       "    <tr>\n",
       "      <th>1665</th>\n",
       "      <td>-0.420183</td>\n",
       "      <td>-0.994481</td>\n",
       "      <td>-0.458156</td>\n",
       "    </tr>\n",
       "  </tbody>\n",
       "</table>\n",
       "<p>1666 rows × 3 columns</p>\n",
       "</div>"
      ],
      "text/plain": [
       "      is_rating_increased  Joining_Designation  Total_Business_Value\n",
       "0                2.379916            -0.994481             -0.454811\n",
       "1               -0.420183            -0.994481             -0.473212\n",
       "2                2.379916             0.198323             -0.009224\n",
       "3               -0.420183             1.391128             -0.485940\n",
       "4               -0.420183            -0.994481              1.456876\n",
       "...                   ...                  ...                   ...\n",
       "1661             2.379916            -0.994481              7.087977\n",
       "1662            -0.420183            -0.994481              1.510414\n",
       "1663            -0.420183            -0.994481             -0.204968\n",
       "1664            -0.420183             0.198323             -0.503233\n",
       "1665            -0.420183            -0.994481             -0.458156\n",
       "\n",
       "[1666 rows x 3 columns]"
      ]
     },
     "execution_count": 48,
     "metadata": {},
     "output_type": "execute_result"
    }
   ],
   "source": [
    "X_train"
   ]
  },
  {
   "cell_type": "code",
   "execution_count": 19,
   "id": "5474562e",
   "metadata": {},
   "outputs": [
    {
     "name": "stdout",
     "output_type": "stream",
     "text": [
      "1.6.1\n"
     ]
    }
   ],
   "source": [
    "import sklearn\n",
    "print(sklearn.__version__)"
   ]
  },
  {
   "cell_type": "code",
   "execution_count": 20,
   "id": "e31a2a44",
   "metadata": {},
   "outputs": [
    {
     "name": "stdout",
     "output_type": "stream",
     "text": [
      "Model saved as best_xgb_model\n"
     ]
    }
   ],
   "source": [
    "# saving the xgb model as a pickle file\n",
    "import pickle\n",
    "\n",
    "\n",
    "# Save the trained model\n",
    "with open('best_xgb_model.pkl', 'wb') as file:\n",
    "    pickle.dump(best_xgb_model, file)\n",
    "\n",
    "# -----------------------------------------------------\n",
    "print(f\"Model saved as best_xgb_model\")"
   ]
  },
  {
   "cell_type": "code",
   "execution_count": 21,
   "id": "38001ac9",
   "metadata": {},
   "outputs": [
    {
     "name": "stdout",
     "output_type": "stream",
     "text": [
      "Model saved as best_model_rf\n"
     ]
    }
   ],
   "source": [
    "# saving the RF model as a pickle file\n",
    "import pickle\n",
    "\n",
    "\n",
    "# Save the trained model\n",
    "with open('best_model_rf.pkl', 'wb') as file:\n",
    "    pickle.dump(best_model_rf, file)\n",
    "\n",
    "# -----------------------------------------------------\n",
    "print(\"Model saved as best_model_rf\")"
   ]
  },
  {
   "cell_type": "code",
   "execution_count": 23,
   "id": "c172f265",
   "metadata": {},
   "outputs": [
    {
     "data": {
      "text/plain": [
       "['best_model_rf_joblib.pkl']"
      ]
     },
     "execution_count": 23,
     "metadata": {},
     "output_type": "execute_result"
    }
   ],
   "source": [
    "import joblib\n",
    "# Save the model properly\n",
    "joblib.dump(best_xgb_model, \"best_xgb_model_joblib.pkl\")\n",
    "joblib.dump(best_model_rf, \"best_model_rf_joblib.pkl\")\n",
    "\n",
    "# Load it again\n",
    "#rf_model = joblib.load(\"best_model_rf.pkl\")"
   ]
  },
  {
   "cell_type": "code",
   "execution_count": null,
   "id": "acbc4b4f",
   "metadata": {},
   "outputs": [],
   "source": []
  },
  {
   "cell_type": "code",
   "execution_count": 30,
   "id": "c1e8da5b",
   "metadata": {},
   "outputs": [
    {
     "name": "stdout",
     "output_type": "stream",
     "text": [
      "<class 'sklearn.ensemble._forest.RandomForestClassifier'>\n"
     ]
    }
   ],
   "source": [
    "with open(\"best_model_rf.pkl\", \"rb\") as file:\n",
    "    model = pickle.load(file)\n",
    "    print(type(model))"
   ]
  },
  {
   "cell_type": "code",
   "execution_count": 31,
   "id": "61c6213c",
   "metadata": {},
   "outputs": [
    {
     "name": "stdout",
     "output_type": "stream",
     "text": [
      "<class 'xgboost.sklearn.XGBClassifier'>\n"
     ]
    }
   ],
   "source": [
    "with open(\"best_xgb_model.pkl\", \"rb\") as file:\n",
    "    model = pickle.load(file)\n",
    "    print(type(model))"
   ]
  },
  {
   "cell_type": "code",
   "execution_count": null,
   "id": "2b01f541",
   "metadata": {},
   "outputs": [],
   "source": []
  },
  {
   "cell_type": "code",
   "execution_count": null,
   "id": "21e7b185",
   "metadata": {},
   "outputs": [],
   "source": []
  },
  {
   "cell_type": "code",
   "execution_count": 24,
   "id": "14976f8f",
   "metadata": {},
   "outputs": [],
   "source": [
    "selected_features = ['is_rating_increased','Joining_Designation','Total_Business_Value']\n",
    "\n",
    "# Save the selected features for consistency during inference\n",
    "with open('selected_features.pkl', 'wb') as f:\n",
    "    pickle.dump(selected_features, f)"
   ]
  },
  {
   "cell_type": "code",
   "execution_count": 25,
   "id": "79eeceef",
   "metadata": {},
   "outputs": [
    {
     "name": "stdout",
     "output_type": "stream",
     "text": [
      "['is_rating_increased', 'Joining_Designation', 'Total_Business_Value']\n"
     ]
    }
   ],
   "source": [
    "with open(\"selected_features.pkl\", \"rb\") as file:\n",
    "    selected_features = pickle.load(file)\n",
    "\n",
    "print(selected_features)"
   ]
  },
  {
   "cell_type": "code",
   "execution_count": null,
   "id": "8b6f12bf",
   "metadata": {},
   "outputs": [],
   "source": []
  },
  {
   "cell_type": "code",
   "execution_count": 26,
   "id": "cf3cda31",
   "metadata": {},
   "outputs": [],
   "source": [
    "# Saving standard scaler\n",
    "from sklearn.preprocessing import StandardScaler\n",
    "\n",
    "scaled_features = StandardScaler()\n",
    "X_train_selected = X[selected_features]  # Only selected features\n",
    "scaled_features.fit(X_train_selected)\n",
    "\n",
    "# Save the scaler\n",
    "with open('scaled_features.pkl', 'wb') as f:\n",
    "    pickle.dump(scaled_features, f)"
   ]
  },
  {
   "cell_type": "code",
   "execution_count": 52,
   "id": "d9819184",
   "metadata": {},
   "outputs": [
    {
     "data": {
      "text/html": [
       "<div>\n",
       "<style scoped>\n",
       "    .dataframe tbody tr th:only-of-type {\n",
       "        vertical-align: middle;\n",
       "    }\n",
       "\n",
       "    .dataframe tbody tr th {\n",
       "        vertical-align: top;\n",
       "    }\n",
       "\n",
       "    .dataframe thead th {\n",
       "        text-align: right;\n",
       "    }\n",
       "</style>\n",
       "<table border=\"1\" class=\"dataframe\">\n",
       "  <thead>\n",
       "    <tr style=\"text-align: right;\">\n",
       "      <th></th>\n",
       "      <th>is_rating_increased</th>\n",
       "      <th>Joining_Designation</th>\n",
       "      <th>Total_Business_Value</th>\n",
       "    </tr>\n",
       "  </thead>\n",
       "  <tbody>\n",
       "    <tr>\n",
       "      <th>0</th>\n",
       "      <td>-0.420183</td>\n",
       "      <td>-0.994481</td>\n",
       "      <td>0.177019</td>\n",
       "    </tr>\n",
       "    <tr>\n",
       "      <th>1</th>\n",
       "      <td>-0.420183</td>\n",
       "      <td>-0.994481</td>\n",
       "      <td>-0.489749</td>\n",
       "    </tr>\n",
       "    <tr>\n",
       "      <th>2</th>\n",
       "      <td>-0.420183</td>\n",
       "      <td>-0.994481</td>\n",
       "      <td>-0.295984</td>\n",
       "    </tr>\n",
       "    <tr>\n",
       "      <th>3</th>\n",
       "      <td>-0.420183</td>\n",
       "      <td>0.198323</td>\n",
       "      <td>-0.312138</td>\n",
       "    </tr>\n",
       "    <tr>\n",
       "      <th>4</th>\n",
       "      <td>-0.420183</td>\n",
       "      <td>1.391128</td>\n",
       "      <td>-0.503233</td>\n",
       "    </tr>\n",
       "    <tr>\n",
       "      <th>...</th>\n",
       "      <td>...</td>\n",
       "      <td>...</td>\n",
       "      <td>...</td>\n",
       "    </tr>\n",
       "    <tr>\n",
       "      <th>353</th>\n",
       "      <td>-0.420183</td>\n",
       "      <td>1.391128</td>\n",
       "      <td>-0.154280</td>\n",
       "    </tr>\n",
       "    <tr>\n",
       "      <th>354</th>\n",
       "      <td>-0.420183</td>\n",
       "      <td>1.391128</td>\n",
       "      <td>4.263047</td>\n",
       "    </tr>\n",
       "    <tr>\n",
       "      <th>355</th>\n",
       "      <td>-0.420183</td>\n",
       "      <td>0.198323</td>\n",
       "      <td>-0.503233</td>\n",
       "    </tr>\n",
       "    <tr>\n",
       "      <th>356</th>\n",
       "      <td>-0.420183</td>\n",
       "      <td>1.391128</td>\n",
       "      <td>0.402042</td>\n",
       "    </tr>\n",
       "    <tr>\n",
       "      <th>357</th>\n",
       "      <td>-0.420183</td>\n",
       "      <td>-0.994481</td>\n",
       "      <td>0.357065</td>\n",
       "    </tr>\n",
       "  </tbody>\n",
       "</table>\n",
       "<p>358 rows × 3 columns</p>\n",
       "</div>"
      ],
      "text/plain": [
       "     is_rating_increased  Joining_Designation  Total_Business_Value\n",
       "0              -0.420183            -0.994481              0.177019\n",
       "1              -0.420183            -0.994481             -0.489749\n",
       "2              -0.420183            -0.994481             -0.295984\n",
       "3              -0.420183             0.198323             -0.312138\n",
       "4              -0.420183             1.391128             -0.503233\n",
       "..                   ...                  ...                   ...\n",
       "353            -0.420183             1.391128             -0.154280\n",
       "354            -0.420183             1.391128              4.263047\n",
       "355            -0.420183             0.198323             -0.503233\n",
       "356            -0.420183             1.391128              0.402042\n",
       "357            -0.420183            -0.994481              0.357065\n",
       "\n",
       "[358 rows x 3 columns]"
      ]
     },
     "execution_count": 52,
     "metadata": {},
     "output_type": "execute_result"
    }
   ],
   "source": [
    "X_test"
   ]
  },
  {
   "cell_type": "code",
   "execution_count": 35,
   "id": "ceabb2c7",
   "metadata": {},
   "outputs": [
    {
     "name": "stdout",
     "output_type": "stream",
     "text": [
      "              precision    recall  f1-score   support\n",
      "\n",
      "           0       0.72      0.51      0.60       115\n",
      "           1       0.80      0.91      0.85       243\n",
      "\n",
      "    accuracy                           0.78       358\n",
      "   macro avg       0.76      0.71      0.72       358\n",
      "weighted avg       0.77      0.78      0.77       358\n",
      "\n"
     ]
    }
   ],
   "source": [
    "y_pred_tuned_xgb_test = best_xgb_model.predict(X_test)\n",
    "\n",
    "print(classification_report(y_test, y_pred_tuned_xgb_test))"
   ]
  },
  {
   "cell_type": "code",
   "execution_count": 36,
   "id": "f8c15412",
   "metadata": {},
   "outputs": [
    {
     "data": {
      "text/plain": [
       "Target\n",
       "1    1616\n",
       "0     765\n",
       "Name: count, dtype: int64"
      ]
     },
     "execution_count": 36,
     "metadata": {},
     "output_type": "execute_result"
    }
   ],
   "source": [
    "new_df['Target'].value_counts()"
   ]
  },
  {
   "cell_type": "code",
   "execution_count": 38,
   "id": "73f63ae1",
   "metadata": {},
   "outputs": [
    {
     "name": "stdout",
     "output_type": "stream",
     "text": [
      "0.47303271441202477\n",
      "Fitting 5 folds for each of 18432 candidates, totalling 92160 fits\n"
     ]
    },
    {
     "ename": "KeyboardInterrupt",
     "evalue": "",
     "output_type": "error",
     "traceback": [
      "\u001b[1;31m---------------------------------------------------------------------------\u001b[0m",
      "\u001b[1;31mKeyboardInterrupt\u001b[0m                         Traceback (most recent call last)",
      "Cell \u001b[1;32mIn[38], line 37\u001b[0m\n\u001b[0;32m     32\u001b[0m grid_search \u001b[38;5;241m=\u001b[39m GridSearchCV(\n\u001b[0;32m     33\u001b[0m     xgb_model, param_grid, \n\u001b[0;32m     34\u001b[0m      scoring\u001b[38;5;241m=\u001b[39mscorer, cv\u001b[38;5;241m=\u001b[39mcv, verbose\u001b[38;5;241m=\u001b[39m\u001b[38;5;241m2\u001b[39m, n_jobs\u001b[38;5;241m=\u001b[39m\u001b[38;5;241m-\u001b[39m\u001b[38;5;241m1\u001b[39m)\n\u001b[0;32m     36\u001b[0m \u001b[38;5;66;03m# Fit on training data\u001b[39;00m\n\u001b[1;32m---> 37\u001b[0m \u001b[43mgrid_search\u001b[49m\u001b[38;5;241;43m.\u001b[39;49m\u001b[43mfit\u001b[49m\u001b[43m(\u001b[49m\u001b[43mX_train\u001b[49m\u001b[43m,\u001b[49m\u001b[43m \u001b[49m\u001b[43my_train\u001b[49m\u001b[43m)\u001b[49m\n\u001b[0;32m     39\u001b[0m \u001b[38;5;66;03m# Best parameters\u001b[39;00m\n\u001b[0;32m     40\u001b[0m \u001b[38;5;28mprint\u001b[39m(\u001b[38;5;124m\"\u001b[39m\u001b[38;5;124mBest Parameters:\u001b[39m\u001b[38;5;124m\"\u001b[39m, grid_search\u001b[38;5;241m.\u001b[39mbest_params_)\n",
      "File \u001b[1;32m~\\anaconda3\\lib\\site-packages\\sklearn\\base.py:1389\u001b[0m, in \u001b[0;36m_fit_context.<locals>.decorator.<locals>.wrapper\u001b[1;34m(estimator, *args, **kwargs)\u001b[0m\n\u001b[0;32m   1382\u001b[0m     estimator\u001b[38;5;241m.\u001b[39m_validate_params()\n\u001b[0;32m   1384\u001b[0m \u001b[38;5;28;01mwith\u001b[39;00m config_context(\n\u001b[0;32m   1385\u001b[0m     skip_parameter_validation\u001b[38;5;241m=\u001b[39m(\n\u001b[0;32m   1386\u001b[0m         prefer_skip_nested_validation \u001b[38;5;129;01mor\u001b[39;00m global_skip_validation\n\u001b[0;32m   1387\u001b[0m     )\n\u001b[0;32m   1388\u001b[0m ):\n\u001b[1;32m-> 1389\u001b[0m     \u001b[38;5;28;01mreturn\u001b[39;00m fit_method(estimator, \u001b[38;5;241m*\u001b[39margs, \u001b[38;5;241m*\u001b[39m\u001b[38;5;241m*\u001b[39mkwargs)\n",
      "File \u001b[1;32m~\\anaconda3\\lib\\site-packages\\sklearn\\model_selection\\_search.py:1024\u001b[0m, in \u001b[0;36mBaseSearchCV.fit\u001b[1;34m(self, X, y, **params)\u001b[0m\n\u001b[0;32m   1018\u001b[0m     results \u001b[38;5;241m=\u001b[39m \u001b[38;5;28mself\u001b[39m\u001b[38;5;241m.\u001b[39m_format_results(\n\u001b[0;32m   1019\u001b[0m         all_candidate_params, n_splits, all_out, all_more_results\n\u001b[0;32m   1020\u001b[0m     )\n\u001b[0;32m   1022\u001b[0m     \u001b[38;5;28;01mreturn\u001b[39;00m results\n\u001b[1;32m-> 1024\u001b[0m \u001b[38;5;28;43mself\u001b[39;49m\u001b[38;5;241;43m.\u001b[39;49m\u001b[43m_run_search\u001b[49m\u001b[43m(\u001b[49m\u001b[43mevaluate_candidates\u001b[49m\u001b[43m)\u001b[49m\n\u001b[0;32m   1026\u001b[0m \u001b[38;5;66;03m# multimetric is determined here because in the case of a callable\u001b[39;00m\n\u001b[0;32m   1027\u001b[0m \u001b[38;5;66;03m# self.scoring the return type is only known after calling\u001b[39;00m\n\u001b[0;32m   1028\u001b[0m first_test_score \u001b[38;5;241m=\u001b[39m all_out[\u001b[38;5;241m0\u001b[39m][\u001b[38;5;124m\"\u001b[39m\u001b[38;5;124mtest_scores\u001b[39m\u001b[38;5;124m\"\u001b[39m]\n",
      "File \u001b[1;32m~\\anaconda3\\lib\\site-packages\\sklearn\\model_selection\\_search.py:1571\u001b[0m, in \u001b[0;36mGridSearchCV._run_search\u001b[1;34m(self, evaluate_candidates)\u001b[0m\n\u001b[0;32m   1569\u001b[0m \u001b[38;5;28;01mdef\u001b[39;00m \u001b[38;5;21m_run_search\u001b[39m(\u001b[38;5;28mself\u001b[39m, evaluate_candidates):\n\u001b[0;32m   1570\u001b[0m \u001b[38;5;250m    \u001b[39m\u001b[38;5;124;03m\"\"\"Search all candidates in param_grid\"\"\"\u001b[39;00m\n\u001b[1;32m-> 1571\u001b[0m     \u001b[43mevaluate_candidates\u001b[49m\u001b[43m(\u001b[49m\u001b[43mParameterGrid\u001b[49m\u001b[43m(\u001b[49m\u001b[38;5;28;43mself\u001b[39;49m\u001b[38;5;241;43m.\u001b[39;49m\u001b[43mparam_grid\u001b[49m\u001b[43m)\u001b[49m\u001b[43m)\u001b[49m\n",
      "File \u001b[1;32m~\\anaconda3\\lib\\site-packages\\sklearn\\model_selection\\_search.py:970\u001b[0m, in \u001b[0;36mBaseSearchCV.fit.<locals>.evaluate_candidates\u001b[1;34m(candidate_params, cv, more_results)\u001b[0m\n\u001b[0;32m    962\u001b[0m \u001b[38;5;28;01mif\u001b[39;00m \u001b[38;5;28mself\u001b[39m\u001b[38;5;241m.\u001b[39mverbose \u001b[38;5;241m>\u001b[39m \u001b[38;5;241m0\u001b[39m:\n\u001b[0;32m    963\u001b[0m     \u001b[38;5;28mprint\u001b[39m(\n\u001b[0;32m    964\u001b[0m         \u001b[38;5;124m\"\u001b[39m\u001b[38;5;124mFitting \u001b[39m\u001b[38;5;132;01m{0}\u001b[39;00m\u001b[38;5;124m folds for each of \u001b[39m\u001b[38;5;132;01m{1}\u001b[39;00m\u001b[38;5;124m candidates,\u001b[39m\u001b[38;5;124m\"\u001b[39m\n\u001b[0;32m    965\u001b[0m         \u001b[38;5;124m\"\u001b[39m\u001b[38;5;124m totalling \u001b[39m\u001b[38;5;132;01m{2}\u001b[39;00m\u001b[38;5;124m fits\u001b[39m\u001b[38;5;124m\"\u001b[39m\u001b[38;5;241m.\u001b[39mformat(\n\u001b[0;32m    966\u001b[0m             n_splits, n_candidates, n_candidates \u001b[38;5;241m*\u001b[39m n_splits\n\u001b[0;32m    967\u001b[0m         )\n\u001b[0;32m    968\u001b[0m     )\n\u001b[1;32m--> 970\u001b[0m out \u001b[38;5;241m=\u001b[39m \u001b[43mparallel\u001b[49m\u001b[43m(\u001b[49m\n\u001b[0;32m    971\u001b[0m \u001b[43m    \u001b[49m\u001b[43mdelayed\u001b[49m\u001b[43m(\u001b[49m\u001b[43m_fit_and_score\u001b[49m\u001b[43m)\u001b[49m\u001b[43m(\u001b[49m\n\u001b[0;32m    972\u001b[0m \u001b[43m        \u001b[49m\u001b[43mclone\u001b[49m\u001b[43m(\u001b[49m\u001b[43mbase_estimator\u001b[49m\u001b[43m)\u001b[49m\u001b[43m,\u001b[49m\n\u001b[0;32m    973\u001b[0m \u001b[43m        \u001b[49m\u001b[43mX\u001b[49m\u001b[43m,\u001b[49m\n\u001b[0;32m    974\u001b[0m \u001b[43m        \u001b[49m\u001b[43my\u001b[49m\u001b[43m,\u001b[49m\n\u001b[0;32m    975\u001b[0m \u001b[43m        \u001b[49m\u001b[43mtrain\u001b[49m\u001b[38;5;241;43m=\u001b[39;49m\u001b[43mtrain\u001b[49m\u001b[43m,\u001b[49m\n\u001b[0;32m    976\u001b[0m \u001b[43m        \u001b[49m\u001b[43mtest\u001b[49m\u001b[38;5;241;43m=\u001b[39;49m\u001b[43mtest\u001b[49m\u001b[43m,\u001b[49m\n\u001b[0;32m    977\u001b[0m \u001b[43m        \u001b[49m\u001b[43mparameters\u001b[49m\u001b[38;5;241;43m=\u001b[39;49m\u001b[43mparameters\u001b[49m\u001b[43m,\u001b[49m\n\u001b[0;32m    978\u001b[0m \u001b[43m        \u001b[49m\u001b[43msplit_progress\u001b[49m\u001b[38;5;241;43m=\u001b[39;49m\u001b[43m(\u001b[49m\u001b[43msplit_idx\u001b[49m\u001b[43m,\u001b[49m\u001b[43m \u001b[49m\u001b[43mn_splits\u001b[49m\u001b[43m)\u001b[49m\u001b[43m,\u001b[49m\n\u001b[0;32m    979\u001b[0m \u001b[43m        \u001b[49m\u001b[43mcandidate_progress\u001b[49m\u001b[38;5;241;43m=\u001b[39;49m\u001b[43m(\u001b[49m\u001b[43mcand_idx\u001b[49m\u001b[43m,\u001b[49m\u001b[43m \u001b[49m\u001b[43mn_candidates\u001b[49m\u001b[43m)\u001b[49m\u001b[43m,\u001b[49m\n\u001b[0;32m    980\u001b[0m \u001b[43m        \u001b[49m\u001b[38;5;241;43m*\u001b[39;49m\u001b[38;5;241;43m*\u001b[39;49m\u001b[43mfit_and_score_kwargs\u001b[49m\u001b[43m,\u001b[49m\n\u001b[0;32m    981\u001b[0m \u001b[43m    \u001b[49m\u001b[43m)\u001b[49m\n\u001b[0;32m    982\u001b[0m \u001b[43m    \u001b[49m\u001b[38;5;28;43;01mfor\u001b[39;49;00m\u001b[43m \u001b[49m\u001b[43m(\u001b[49m\u001b[43mcand_idx\u001b[49m\u001b[43m,\u001b[49m\u001b[43m \u001b[49m\u001b[43mparameters\u001b[49m\u001b[43m)\u001b[49m\u001b[43m,\u001b[49m\u001b[43m \u001b[49m\u001b[43m(\u001b[49m\u001b[43msplit_idx\u001b[49m\u001b[43m,\u001b[49m\u001b[43m \u001b[49m\u001b[43m(\u001b[49m\u001b[43mtrain\u001b[49m\u001b[43m,\u001b[49m\u001b[43m \u001b[49m\u001b[43mtest\u001b[49m\u001b[43m)\u001b[49m\u001b[43m)\u001b[49m\u001b[43m \u001b[49m\u001b[38;5;129;43;01min\u001b[39;49;00m\u001b[43m \u001b[49m\u001b[43mproduct\u001b[49m\u001b[43m(\u001b[49m\n\u001b[0;32m    983\u001b[0m \u001b[43m        \u001b[49m\u001b[38;5;28;43menumerate\u001b[39;49m\u001b[43m(\u001b[49m\u001b[43mcandidate_params\u001b[49m\u001b[43m)\u001b[49m\u001b[43m,\u001b[49m\n\u001b[0;32m    984\u001b[0m \u001b[43m        \u001b[49m\u001b[38;5;28;43menumerate\u001b[39;49m\u001b[43m(\u001b[49m\u001b[43mcv\u001b[49m\u001b[38;5;241;43m.\u001b[39;49m\u001b[43msplit\u001b[49m\u001b[43m(\u001b[49m\u001b[43mX\u001b[49m\u001b[43m,\u001b[49m\u001b[43m \u001b[49m\u001b[43my\u001b[49m\u001b[43m,\u001b[49m\u001b[43m \u001b[49m\u001b[38;5;241;43m*\u001b[39;49m\u001b[38;5;241;43m*\u001b[39;49m\u001b[43mrouted_params\u001b[49m\u001b[38;5;241;43m.\u001b[39;49m\u001b[43msplitter\u001b[49m\u001b[38;5;241;43m.\u001b[39;49m\u001b[43msplit\u001b[49m\u001b[43m)\u001b[49m\u001b[43m)\u001b[49m\u001b[43m,\u001b[49m\n\u001b[0;32m    985\u001b[0m \u001b[43m    \u001b[49m\u001b[43m)\u001b[49m\n\u001b[0;32m    986\u001b[0m \u001b[43m\u001b[49m\u001b[43m)\u001b[49m\n\u001b[0;32m    988\u001b[0m \u001b[38;5;28;01mif\u001b[39;00m \u001b[38;5;28mlen\u001b[39m(out) \u001b[38;5;241m<\u001b[39m \u001b[38;5;241m1\u001b[39m:\n\u001b[0;32m    989\u001b[0m     \u001b[38;5;28;01mraise\u001b[39;00m \u001b[38;5;167;01mValueError\u001b[39;00m(\n\u001b[0;32m    990\u001b[0m         \u001b[38;5;124m\"\u001b[39m\u001b[38;5;124mNo fits were performed. \u001b[39m\u001b[38;5;124m\"\u001b[39m\n\u001b[0;32m    991\u001b[0m         \u001b[38;5;124m\"\u001b[39m\u001b[38;5;124mWas the CV iterator empty? \u001b[39m\u001b[38;5;124m\"\u001b[39m\n\u001b[0;32m    992\u001b[0m         \u001b[38;5;124m\"\u001b[39m\u001b[38;5;124mWere there no candidates?\u001b[39m\u001b[38;5;124m\"\u001b[39m\n\u001b[0;32m    993\u001b[0m     )\n",
      "File \u001b[1;32m~\\anaconda3\\lib\\site-packages\\sklearn\\utils\\parallel.py:77\u001b[0m, in \u001b[0;36mParallel.__call__\u001b[1;34m(self, iterable)\u001b[0m\n\u001b[0;32m     72\u001b[0m config \u001b[38;5;241m=\u001b[39m get_config()\n\u001b[0;32m     73\u001b[0m iterable_with_config \u001b[38;5;241m=\u001b[39m (\n\u001b[0;32m     74\u001b[0m     (_with_config(delayed_func, config), args, kwargs)\n\u001b[0;32m     75\u001b[0m     \u001b[38;5;28;01mfor\u001b[39;00m delayed_func, args, kwargs \u001b[38;5;129;01min\u001b[39;00m iterable\n\u001b[0;32m     76\u001b[0m )\n\u001b[1;32m---> 77\u001b[0m \u001b[38;5;28;01mreturn\u001b[39;00m \u001b[38;5;28;43msuper\u001b[39;49m\u001b[43m(\u001b[49m\u001b[43m)\u001b[49m\u001b[38;5;241;43m.\u001b[39;49m\u001b[38;5;21;43m__call__\u001b[39;49m\u001b[43m(\u001b[49m\u001b[43miterable_with_config\u001b[49m\u001b[43m)\u001b[49m\n",
      "File \u001b[1;32m~\\anaconda3\\lib\\site-packages\\joblib\\parallel.py:2007\u001b[0m, in \u001b[0;36mParallel.__call__\u001b[1;34m(self, iterable)\u001b[0m\n\u001b[0;32m   2001\u001b[0m \u001b[38;5;66;03m# The first item from the output is blank, but it makes the interpreter\u001b[39;00m\n\u001b[0;32m   2002\u001b[0m \u001b[38;5;66;03m# progress until it enters the Try/Except block of the generator and\u001b[39;00m\n\u001b[0;32m   2003\u001b[0m \u001b[38;5;66;03m# reaches the first `yield` statement. This starts the asynchronous\u001b[39;00m\n\u001b[0;32m   2004\u001b[0m \u001b[38;5;66;03m# dispatch of the tasks to the workers.\u001b[39;00m\n\u001b[0;32m   2005\u001b[0m \u001b[38;5;28mnext\u001b[39m(output)\n\u001b[1;32m-> 2007\u001b[0m \u001b[38;5;28;01mreturn\u001b[39;00m output \u001b[38;5;28;01mif\u001b[39;00m \u001b[38;5;28mself\u001b[39m\u001b[38;5;241m.\u001b[39mreturn_generator \u001b[38;5;28;01melse\u001b[39;00m \u001b[38;5;28;43mlist\u001b[39;49m\u001b[43m(\u001b[49m\u001b[43moutput\u001b[49m\u001b[43m)\u001b[49m\n",
      "File \u001b[1;32m~\\anaconda3\\lib\\site-packages\\joblib\\parallel.py:1650\u001b[0m, in \u001b[0;36mParallel._get_outputs\u001b[1;34m(self, iterator, pre_dispatch)\u001b[0m\n\u001b[0;32m   1647\u001b[0m     \u001b[38;5;28;01myield\u001b[39;00m\n\u001b[0;32m   1649\u001b[0m     \u001b[38;5;28;01mwith\u001b[39;00m \u001b[38;5;28mself\u001b[39m\u001b[38;5;241m.\u001b[39m_backend\u001b[38;5;241m.\u001b[39mretrieval_context():\n\u001b[1;32m-> 1650\u001b[0m         \u001b[38;5;28;01myield from\u001b[39;00m \u001b[38;5;28mself\u001b[39m\u001b[38;5;241m.\u001b[39m_retrieve()\n\u001b[0;32m   1652\u001b[0m \u001b[38;5;28;01mexcept\u001b[39;00m \u001b[38;5;167;01mGeneratorExit\u001b[39;00m:\n\u001b[0;32m   1653\u001b[0m     \u001b[38;5;66;03m# The generator has been garbage collected before being fully\u001b[39;00m\n\u001b[0;32m   1654\u001b[0m     \u001b[38;5;66;03m# consumed. This aborts the remaining tasks if possible and warn\u001b[39;00m\n\u001b[0;32m   1655\u001b[0m     \u001b[38;5;66;03m# the user if necessary.\u001b[39;00m\n\u001b[0;32m   1656\u001b[0m     \u001b[38;5;28mself\u001b[39m\u001b[38;5;241m.\u001b[39m_exception \u001b[38;5;241m=\u001b[39m \u001b[38;5;28;01mTrue\u001b[39;00m\n",
      "File \u001b[1;32m~\\anaconda3\\lib\\site-packages\\joblib\\parallel.py:1768\u001b[0m, in \u001b[0;36mParallel._retrieve\u001b[1;34m(self)\u001b[0m\n\u001b[0;32m   1763\u001b[0m     \u001b[38;5;28;01mcontinue\u001b[39;00m\n\u001b[0;32m   1765\u001b[0m \u001b[38;5;66;03m# We need to be careful: the job list can be filling up as\u001b[39;00m\n\u001b[0;32m   1766\u001b[0m \u001b[38;5;66;03m# we empty it and Python list are not thread-safe by\u001b[39;00m\n\u001b[0;32m   1767\u001b[0m \u001b[38;5;66;03m# default hence the use of the lock\u001b[39;00m\n\u001b[1;32m-> 1768\u001b[0m \u001b[38;5;28;01mwith\u001b[39;00m \u001b[38;5;28mself\u001b[39m\u001b[38;5;241m.\u001b[39m_lock:\n\u001b[0;32m   1769\u001b[0m     batched_results \u001b[38;5;241m=\u001b[39m \u001b[38;5;28mself\u001b[39m\u001b[38;5;241m.\u001b[39m_jobs\u001b[38;5;241m.\u001b[39mpopleft()\n\u001b[0;32m   1771\u001b[0m \u001b[38;5;66;03m# Flatten the batched results to output one output at a time\u001b[39;00m\n",
      "\u001b[1;31mKeyboardInterrupt\u001b[0m: "
     ]
    }
   ],
   "source": [
    "import numpy as np\n",
    "import xgboost as xgb\n",
    "from sklearn.model_selection import RandomizedSearchCV, StratifiedKFold\n",
    "from sklearn.metrics import f1_score, make_scorer\n",
    "\n",
    "# Define the model\n",
    "xgb_model = xgb.XGBClassifier(use_label_encoder=False, eval_metric='logloss')\n",
    "\n",
    "neg, pos = np.bincount(y_train)  # y must be binary (0 & 1)\n",
    "scale_pos_weight = neg / pos\n",
    "print(scale_pos_weight)\n",
    "\n",
    "# Define the hyperparameter grid\n",
    "param_grid = {\n",
    "    'n_estimators': [50, 100, 150, 200],\n",
    "    'max_depth': [3, 5, 7, 9],\n",
    "    'learning_rate': [0.01, 0.05, 0.1, 0.2],\n",
    "    'subsample': [0.6, 0.8, 1.0],\n",
    "    'colsample_bytree': [0.6, 0.8, 1.0],\n",
    "    'gamma': [0, 0.1, 0.3, 0.5],\n",
    "    'min_child_weight': [1, 3, 5, 7],\n",
    "    'scale_pos_weight': [1, 2,]  # Adjust based on class imbalance\n",
    "}\n",
    "\n",
    "# Define stratified K-Fold cross-validation\n",
    "cv = StratifiedKFold(n_splits=5, shuffle=True, random_state=42)\n",
    "\n",
    "# Use F1-score as the evaluation metric\n",
    "scorer = make_scorer(f1_score)\n",
    "\n",
    "# Randomized search\n",
    "grid_search = GridSearchCV(\n",
    "    xgb_model, param_grid, \n",
    "     scoring=scorer, cv=cv, verbose=2, n_jobs=-1)\n",
    "\n",
    "# Fit on training data\n",
    "grid_search.fit(X_train, y_train)\n",
    "\n",
    "# Best parameters\n",
    "print(\"Best Parameters:\", grid_search.best_params_)\n",
    "\n",
    "# Evaluate on test data\n",
    "best_model = grid_search.best_estimator_\n",
    "y_pred = best_model.predict(X_test)\n",
    "print(\"F1 Score on Test Data:\", f1_score(y_test, y_pred))\n"
   ]
  },
  {
   "cell_type": "code",
   "execution_count": 36,
   "id": "110341a8",
   "metadata": {},
   "outputs": [
    {
     "name": "stdout",
     "output_type": "stream",
     "text": [
      "0.47303271441202477\n",
      "Fitting 5 folds for each of 2592 candidates, totalling 12960 fits\n",
      "Best Parameters: {'colsample_bytree': 0.7, 'gamma': 0, 'learning_rate': 0.04, 'max_depth': 3, 'min_child_weight': 2, 'n_estimators': 150, 'scale_pos_weight': 1.5, 'subsample': 0.9}\n",
      "F1 Score on Test Data: 0.8522072936660269\n",
      "292.216424703598\n"
     ]
    }
   ],
   "source": [
    "import numpy as np\n",
    "import xgboost as xgb\n",
    "from sklearn.model_selection import RandomizedSearchCV, StratifiedKFold\n",
    "from sklearn.metrics import f1_score, make_scorer\n",
    "import time\n",
    "\n",
    "start_time = time.time()  # Record start time\n",
    "\n",
    "# Define the model\n",
    "xgb_model = xgb.XGBClassifier(use_label_encoder=False, eval_metric='logloss')\n",
    "\n",
    "neg, pos = np.bincount(y_train)  # y must be binary (0 & 1)\n",
    "scale_pos_weight = neg / pos\n",
    "print(scale_pos_weight)\n",
    "\n",
    "# Define the hyperparameter grid\n",
    "param_grid = {\n",
    "    'n_estimators': [140, 150, 160],\n",
    "    'max_depth': [3, 4],\n",
    "    'learning_rate': [0.04, 0.05, 0.06],\n",
    "    'subsample': [0.8, 0.9],\n",
    "    'colsample_bytree': [0.5, 0.6, 0.7],\n",
    "    'gamma': [0, 0.01, 0.03],\n",
    "    'min_child_weight': [ 2, 3],\n",
    "    'scale_pos_weight': [1.5, scale_pos_weight, scale_pos_weight * 1.5, scale_pos_weight * 2]  # Adjust based on class imbalance\n",
    "}\n",
    "\n",
    "# Define stratified K-Fold cross-validation\n",
    "cv = StratifiedKFold(n_splits=5, shuffle=True, random_state=42)\n",
    "\n",
    "# Use F1-score as the evaluation metric\n",
    "scorer = make_scorer(f1_score)\n",
    "\n",
    "# Randomized search\n",
    "grid_search = GridSearchCV(\n",
    "    xgb_model, param_grid, \n",
    "     scoring=scorer, cv=cv, verbose=2, n_jobs=-1)\n",
    "\n",
    "# Fit on training data\n",
    "grid_search.fit(X_train, y_train)\n",
    "\n",
    "# Best parameters\n",
    "print(\"Best Parameters:\", grid_search.best_params_)\n",
    "\n",
    "# Evaluate on test data\n",
    "best_model = grid_search.best_estimator_\n",
    "y_pred = best_model.predict(X_test)\n",
    "print(\"F1 Score on Test Data:\", f1_score(y_test, y_pred))\n",
    "\n",
    "end_time = time.time()  # Record end time\n",
    "elapsed_time = end_time - start_time  # Compute elapsed time\n",
    "print(elapsed_time)"
   ]
  },
  {
   "cell_type": "code",
   "execution_count": null,
   "id": "975b290c-5fc1-4691-9680-ea5d0c6aa139",
   "metadata": {},
   "outputs": [],
   "source": []
  },
  {
   "cell_type": "code",
   "execution_count": 60,
   "id": "0382116a",
   "metadata": {},
   "outputs": [
    {
     "name": "stdout",
     "output_type": "stream",
     "text": [
      "              precision    recall  f1-score   support\n",
      "\n",
      "           0       0.73      0.50      0.60       115\n",
      "           1       0.80      0.91      0.85       243\n",
      "\n",
      "    accuracy                           0.78       358\n",
      "   macro avg       0.76      0.71      0.72       358\n",
      "weighted avg       0.78      0.78      0.77       358\n",
      "\n"
     ]
    }
   ],
   "source": [
    "y_pred_tuned_xgb_test = best_model.predict(X_test)\n",
    "\n",
    "print(classification_report(y_test, y_pred_tuned_xgb_test))"
   ]
  },
  {
   "cell_type": "code",
   "execution_count": null,
   "id": "a25db692-2212-4cc4-a841-7bc457ab06c7",
   "metadata": {},
   "outputs": [],
   "source": []
  },
  {
   "cell_type": "code",
   "execution_count": 35,
   "id": "2844137c",
   "metadata": {},
   "outputs": [
    {
     "name": "stdout",
     "output_type": "stream",
     "text": [
      "Fitting 5 folds for each of 144 candidates, totalling 720 fits\n",
      "Best Parameters: {'class_weight': None, 'criterion': 'entropy', 'max_depth': 5, 'min_samples_leaf': 2, 'min_samples_split': 2}\n",
      "              precision    recall  f1-score   support\n",
      "\n",
      "           0       0.80      0.57      0.67       115\n",
      "           1       0.82      0.93      0.87       242\n",
      "\n",
      "    accuracy                           0.82       357\n",
      "   macro avg       0.81      0.75      0.77       357\n",
      "weighted avg       0.82      0.82      0.81       357\n",
      "\n",
      "F1-Score on Validation Set: 0.8743\n",
      "2.6928093433380127\n"
     ]
    }
   ],
   "source": [
    "import numpy as np\n",
    "from sklearn.tree import DecisionTreeClassifier\n",
    "from sklearn.model_selection import GridSearchCV, StratifiedKFold\n",
    "from sklearn.metrics import f1_score, make_scorer\n",
    "import time\n",
    "\n",
    "start_time = time.time()  # Record start time\n",
    "\n",
    "\n",
    "# Compute class weight manually to handle imbalance\n",
    "neg, pos = np.bincount(y_train)  # Ensure using y_train only\n",
    "class_weight = {0: 1, 1: neg / pos}  # Adjust weight for minority class\n",
    "\n",
    "# Define hyperparameter grid\n",
    "param_grid = {\n",
    "    'criterion': ['gini', 'entropy'],\n",
    "    'max_depth': [3, 5, 10, None],  \n",
    "    'min_samples_split': [2, 5, 10],  \n",
    "    'min_samples_leaf': [1, 2, 5],  \n",
    "    'class_weight': [None, class_weight]  # Using class weighting to balance classes\n",
    "}\n",
    "\n",
    "# Use Stratified K-Fold for cross-validation\n",
    "cv = StratifiedKFold(n_splits=5, shuffle=True, random_state=42)\n",
    "\n",
    "# Define F1-score as the evaluation metric\n",
    "\n",
    "# Initialize Decision Tree model\n",
    "dt_model = DecisionTreeClassifier(class_weight='balanced' ,random_state=42)\n",
    "\n",
    "# Perform Grid Search\n",
    "grid_search = GridSearchCV(dt_model, param_grid, scoring='recall', cv=cv, n_jobs=-1, verbose=1)\n",
    "\n",
    "# Train the model with hyperparameter tuning\n",
    "grid_search.fit(X_train, y_train)\n",
    "\n",
    "# Get best parameters\n",
    "best_params = grid_search.best_params_\n",
    "print(\"Best Parameters:\", best_params)\n",
    "\n",
    "# Evaluate on validation set\n",
    "best_dt_model = grid_search.best_estimator_\n",
    "y_pred = best_dt_model.predict(X_val)\n",
    "\n",
    "# Print classification report\n",
    "from sklearn.metrics import classification_report\n",
    "print(classification_report(y_val, y_pred))\n",
    "\n",
    "# Calculate F1-score\n",
    "dt_f1 = f1_score(y_val, y_pred)\n",
    "print(f\"F1-Score on Validation Set: {dt_f1:.4f}\")\n",
    "\n",
    "end_time = time.time()  # Record end time\n",
    "elapsed_time = end_time - start_time  # Compute elapsed time\n",
    "print(elapsed_time)"
   ]
  },
  {
   "cell_type": "code",
   "execution_count": null,
   "id": "3fba6176",
   "metadata": {},
   "outputs": [],
   "source": []
  },
  {
   "cell_type": "code",
   "execution_count": null,
   "id": "77c7e650",
   "metadata": {},
   "outputs": [],
   "source": []
  }
 ],
 "metadata": {
  "kernelspec": {
   "display_name": "Python 3 (ipykernel)",
   "language": "python",
   "name": "python3"
  },
  "language_info": {
   "codemirror_mode": {
    "name": "ipython",
    "version": 3
   },
   "file_extension": ".py",
   "mimetype": "text/x-python",
   "name": "python",
   "nbconvert_exporter": "python",
   "pygments_lexer": "ipython3",
   "version": "3.9.21"
  }
 },
 "nbformat": 4,
 "nbformat_minor": 5
}
